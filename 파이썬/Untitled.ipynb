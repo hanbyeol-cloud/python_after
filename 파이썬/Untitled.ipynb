{
 "cells": [
  {
   "cell_type": "code",
   "execution_count": 2,
   "metadata": {},
   "outputs": [
    {
     "name": "stdout",
     "output_type": "stream",
     "text": [
      "30\n",
      "10\n"
     ]
    }
   ],
   "source": [
    "a=10\n",
    "b=20\n",
    "result= a+b\n",
    "print(result)\n",
    "\n",
    "def addalue(a,b=0): # 리턴 타입을 지정하지 않음 (주소 값), 디폴트 매개변수는 뒤에 있어야함\n",
    "    return a+b\n",
    "print(addalue(10))"
   ]
  },
  {
   "cell_type": "code",
   "execution_count": 8,
   "metadata": {},
   "outputs": [
    {
     "name": "stdout",
     "output_type": "stream",
     "text": [
      "[1, 2, 3, 4, 5, 6]\n",
      "30\n",
      "내일의희망\n"
     ]
    }
   ],
   "source": [
    "def add(a,b): # 3Port 함수의 Key 매개변수\n",
    "    return a+b\n",
    "#뒤의 함수가 우선\n",
    "#함수도 매개변수로 전달할 수 있다.\n",
    "def add(a,b): # 3Port 함수의 Key\n",
    "    return a+b\n",
    "print(add([1,2,3],[4,5,6]))\n",
    "print(add(10,20))\n",
    "print(add( \"내일의\",\"희망\"))"
   ]
  },
  {
   "cell_type": "code",
   "execution_count": 9,
   "metadata": {},
   "outputs": [
    {
     "name": "stdout",
     "output_type": "stream",
     "text": [
      "(20, 10)\n"
     ]
    }
   ],
   "source": [
    "# 함수가 매개변수화 되면 튜플로 변환\n",
    "a=10\n",
    "b=20\n",
    "def swap(x,y): # swap 변수\n",
    "    return y,x\n",
    "a,b = swap(b,a)\n",
    "x = swap(a,b) #tuple\n",
    "print(x)"
   ]
  },
  {
   "cell_type": "code",
   "execution_count": 13,
   "metadata": {},
   "outputs": [
    {
     "name": "stdout",
     "output_type": "stream",
     "text": [
      "시작\n",
      "30\n",
      "-10\n",
      "200\n",
      "0.5\n"
     ]
    }
   ],
   "source": [
    "def add(a,b):\n",
    "    return a+b\n",
    "def sub(a,b):\n",
    "    return a-b\n",
    "def mul(a,b):\n",
    "    return a*b\n",
    "def dvi(a,b):\n",
    "    return a/b\n",
    "\n",
    "def change(g,a,b):\n",
    "    return g(a,b)\n",
    "print(\"시작\")\n",
    "print(change(add,10,20))\n",
    "print(change(sub,10,20))\n",
    "print(change(mul,10,20))\n",
    "print(change(dvi,10,20))"
   ]
  },
  {
   "cell_type": "code",
   "execution_count": 14,
   "metadata": {},
   "outputs": [
    {
     "name": "stdout",
     "output_type": "stream",
     "text": [
      "1 1 0\n",
      "1 2 0\n",
      "1 1 2\n",
      "10 20 20\n"
     ]
    }
   ],
   "source": [
    "def func_test2(a, c=1, b=0):\n",
    "    print(a,c,b)\n",
    "func_test2(1)\n",
    "func_test2(1,2)\n",
    "func_test2(b=2,a=1)\n",
    "func_test2(10,20,b=20)"
   ]
  },
  {
   "cell_type": "code",
   "execution_count": 16,
   "metadata": {},
   "outputs": [],
   "source": [
    "def func_test4(): #협업프로그래미을 위해서 None은 =null객체와 같음\n",
    "    pass"
   ]
  },
  {
   "cell_type": "code",
   "execution_count": 17,
   "metadata": {},
   "outputs": [
    {
     "data": {
      "text/plain": [
       "True"
      ]
     },
     "execution_count": 17,
     "metadata": {},
     "output_type": "execute_result"
    }
   ],
   "source": [
    "result = func_test4()\n",
    "result is None"
   ]
  },
  {
   "cell_type": "code",
   "execution_count": 18,
   "metadata": {},
   "outputs": [],
   "source": [
    "#함수도 객체\n",
    "#파이썬은 모든 것이 객체임"
   ]
  },
  {
   "cell_type": "code",
   "execution_count": 19,
   "metadata": {},
   "outputs": [
    {
     "data": {
      "text/plain": [
       "NoneType"
      ]
     },
     "execution_count": 19,
     "metadata": {},
     "output_type": "execute_result"
    }
   ],
   "source": [
    "result.__class__"
   ]
  },
  {
   "cell_type": "code",
   "execution_count": 20,
   "metadata": {},
   "outputs": [
    {
     "data": {
      "text/plain": [
       "function"
      ]
     },
     "execution_count": 20,
     "metadata": {},
     "output_type": "execute_result"
    }
   ],
   "source": [
    "func_test4.__class__"
   ]
  },
  {
   "cell_type": "code",
   "execution_count": 26,
   "metadata": {},
   "outputs": [
    {
     "name": "stdout",
     "output_type": "stream",
     "text": [
      "함수 내부에서 출력 :  [10, 20, 30, [1, 2, 3, 4]]\n",
      "함수 내부에서 출력 :  [10, 20, 30, [1, 2, 3, 4], [1, 2, 3, 4]]\n",
      "함수 내부에서 출력 :  [10, 20, 30, [1, 2, 3, 4], [1, 2, 3, 4], [1, 2, 3, 4]]\n",
      "함수 내부에서 출력 :  [10, 20, 30, [1, 2, 3, 4], [1, 2, 3, 4], [1, 2, 3, 4], [1, 2, 3, 4]]\n",
      "함수 외부에서 출력 :  [10, 20, 30, [1, 2, 3, 4], [1, 2, 3, 4], [1, 2, 3, 4], [1, 2, 3, 4]]\n"
     ]
    }
   ],
   "source": [
    "#call by reference 메모리를 효율적으로 사용하기 위해서\n",
    "def change2(mylist): # stack에 생성\n",
    "    #mylist=[] # 대입이 벌어지면\n",
    "    mylist.append([1,2,3,4]);\n",
    "    print(\"함수 내부에서 출력 : \", mylist)\n",
    "    return\n",
    "mylist = [10,20,30]; #전역 변수 영역에 생성\n",
    "change2(mylist); #mylist(stack) = mylist(전역변수) 주소값 전달\n",
    "change2(mylist)\n",
    "change2(mylist)\n",
    "change2(mylist)\n",
    "print(\"함수 외부에서 출력 : \" , mylist)"
   ]
  },
  {
   "cell_type": "code",
   "execution_count": 27,
   "metadata": {},
   "outputs": [
    {
     "name": "stdout",
     "output_type": "stream",
     "text": [
      "시작\n",
      "1.2.3.\n",
      "1.2.3.4.5.\n"
     ]
    }
   ],
   "source": [
    "# 변동 매개변수\n",
    "def func1(*args): # 함수 선언시 *을 붙인 경우\n",
    "# args = [1,2,3,4,5]\n",
    "    for i in args:\n",
    "        print(i, end = '.')\n",
    "    print()\n",
    "    \n",
    "print(\"시작\")\n",
    "\n",
    "func1(1,2,3)\n",
    "func1(1,2,3,4,5)"
   ]
  },
  {
   "cell_type": "code",
   "execution_count": 28,
   "metadata": {},
   "outputs": [
    {
     "name": "stdout",
     "output_type": "stream",
     "text": [
      "list 매개변수들 (1, 2)\n",
      "key매개변수는 {'z': 5}\n",
      "함수들 호출 <function g at 0x000001607103E310>\n",
      "1\n",
      "2\n",
      "5\n"
     ]
    },
    {
     "data": {
      "text/plain": [
       "0.6"
      ]
     },
     "execution_count": 28,
     "metadata": {},
     "output_type": "execute_result"
    }
   ],
   "source": [
    "def say_hello_then_call(f, *args, **kwargs): # 받을 때는 묶고\n",
    "    print(\"list 매개변수들\" , args)\n",
    "    print(\"key매개변수는\" , kwargs)\n",
    "    print(\"함수들 호출 %s\" %f)\n",
    "    return f(*args, **kwargs) # 실제 함수를 호출 할 때는 풀고\n",
    "\n",
    "def g(x,y,z=1):\n",
    "    print(x)\n",
    "    print(y)\n",
    "    print(z)\n",
    "    return (x+y) / z\n",
    "say_hello_then_call(g,1,2,z=5)"
   ]
  },
  {
   "cell_type": "code",
   "execution_count": 30,
   "metadata": {},
   "outputs": [
    {
     "name": "stdout",
     "output_type": "stream",
     "text": [
      "15\n"
     ]
    }
   ],
   "source": [
    "# 커링\n",
    "def all_number(x,y):\n",
    "    return x+y\n",
    "add_five=lambda y: all_number(5,y)\n",
    "print(add_five(10))"
   ]
  },
  {
   "cell_type": "code",
   "execution_count": 37,
   "metadata": {},
   "outputs": [
    {
     "name": "stdout",
     "output_type": "stream",
     "text": [
      "8\n"
     ]
    }
   ],
   "source": [
    "def power(r, n):\n",
    "    value = 1\n",
    "    for i in range(1, n + 1):\n",
    "        value = r * value\n",
    "    return value\n",
    "print(power(2,3))"
   ]
  },
  {
   "cell_type": "markdown",
   "metadata": {},
   "source": [
    "# 재귀 함수 : 함수가 자기 자신을 호출 하는것\n",
    "- 종료조건"
   ]
  },
  {
   "cell_type": "code",
   "execution_count": 36,
   "metadata": {},
   "outputs": [
    {
     "name": "stdout",
     "output_type": "stream",
     "text": [
      "8\n"
     ]
    }
   ],
   "source": [
    "def power(r, n):\n",
    "    if n == 1:\n",
    "        return r\n",
    "    else:\n",
    "        return r * power(r, n - 1) # 함수가 호출되었다가 다시 복귀\n",
    "print(power(2,3))"
   ]
  },
  {
   "cell_type": "markdown",
   "metadata": {},
   "source": [
    "# for 문 뒤에 올 수 있는 것\n",
    "- collections : list, tuple, dict, set\n",
    "- iterators : range\n",
    "- genearator : 생성기\n",
    "- eneumerate : 인덱스 + 데이터를 묶어서 : 범주형변수"
   ]
  },
  {
   "cell_type": "code",
   "execution_count": 42,
   "metadata": {},
   "outputs": [
    {
     "name": "stdout",
     "output_type": "stream",
     "text": [
      "0.7128163734125785\n",
      "0.1871904690853573\n",
      "0.9174131545715455\n",
      "0.20524134522416704\n",
      "0.2919892965342208\n"
     ]
    }
   ],
   "source": [
    "# 생성기:메모리 낭비를 방지해 줌\n",
    "# 데이터 처리시 10000개 (random(0,10000,1)) 실제 메모리에 10000개의 데이터 생성\n",
    "import random\n",
    "def gaus_dist(n):\n",
    "        while n > 0:\n",
    "            yield random.random() # 비동기 호출 0-1사이의 값 : 난수(의사난수) => yield 호출 할때까지 멈춤 => yield 호출 할때까지 멈춤\n",
    "            n-=1\n",
    "gd = gaus_dist(5)\n",
    "for i in gd:\n",
    "    print(i)"
   ]
  },
  {
   "cell_type": "markdown",
   "metadata": {},
   "source": [
    "# 총 근무 시간과 시간당 급여를 입력 받아 급여를 계산하는 프로그램을 작성하시오\n",
    "- 조건 : 40시간이 넘으면 1.5배하여 지급합니다.\n",
    "- 함수의 매개변수는 시간당 급여와 주작업시간으로 합니다."
   ]
  },
  {
   "cell_type": "code",
   "execution_count": 54,
   "metadata": {},
   "outputs": [
    {
     "name": "stdout",
     "output_type": "stream",
     "text": [
      "총근무시간을 입력하세요 : 41\n",
      "시간당 급여를 입력하세요 : 10\n"
     ]
    },
    {
     "data": {
      "text/plain": [
       "415.0"
      ]
     },
     "execution_count": 54,
     "metadata": {},
     "output_type": "execute_result"
    }
   ],
   "source": [
    "def work(money,time):\n",
    "    basetime = 40\n",
    "    if time > basetime:\n",
    "        return money*basetime+1.5*((time-basetime)*money)\n",
    "    else:\n",
    "        return money*time\n",
    "a = int(input(\"총근무시간을 입력하세요 : \"))\n",
    "b = int(input(\"시간당 급여를 입력하세요 : \"))\n",
    "work(b,a)"
   ]
  },
  {
   "cell_type": "markdown",
   "metadata": {},
   "source": [
    "# 이자율이 주어졌을 때 기간거치후의 총액과 이자수익을 출력하시오\n",
    "\n",
    "-복리 계산 : 원금 * ((1*0.04)) ** 거치기간\n",
    "    \n",
    "-매개변수 : 원금 거치기간\n",
    "-단서 조건 : 입력 함수 , 계산함수, 출력함수로 분리해서 작성하시오"
   ]
  },
  {
   "cell_type": "code",
   "execution_count": 73,
   "metadata": {},
   "outputs": [
    {
     "name": "stdout",
     "output_type": "stream",
     "text": [
      "원금을 입력하세요 : 1000\n",
      "기간을 입력하세요 : 12\n",
      "1\n",
      "1040.0\n",
      "2\n",
      "1081.6000000000001\n",
      "3\n",
      "1124.8640000000003\n",
      "4\n",
      "1169.8585600000004\n",
      "5\n",
      "1216.6529024000004\n",
      "6\n",
      "1265.3190184960004\n",
      "7\n",
      "1315.9317792358404\n",
      "8\n",
      "1368.569050405274\n",
      "9\n",
      "1423.311812421485\n",
      "10\n",
      "1480.2442849183444\n",
      "11\n",
      "1539.4540563150783\n",
      "12\n",
      "1601.0322185676814\n",
      "1601.0322185676814\n",
      "1601.0322185676814\n"
     ]
    }
   ],
   "source": [
    "basemoney = int(input(\"원금을 입력하세요 : \"))\n",
    "time = int(input(\"기간을 입력하세요 : \"))\n",
    "\n",
    "def cal(b,t):\n",
    "    money = b\n",
    "    for i in range(t):\n",
    "        money = money*1.04\n",
    "        print(i+1)\n",
    "        print(money)\n",
    "    return money\n",
    "\n",
    "def cal2(b,t):\n",
    "    if t==0:\n",
    "        return b\n",
    "    else:\n",
    "        return 1.04*cal2(b,t-1)\n",
    "\n",
    "print(cal(basemoney,time)) # for문\n",
    "print(cal2(basemoney,time)) # 재귀함수"
   ]
  },
  {
   "cell_type": "code",
   "execution_count": null,
   "metadata": {},
   "outputs": [],
   "source": []
  }
 ],
 "metadata": {
  "kernelspec": {
   "display_name": "Python 3",
   "language": "python",
   "name": "python3"
  },
  "language_info": {
   "codemirror_mode": {
    "name": "ipython",
    "version": 3
   },
   "file_extension": ".py",
   "mimetype": "text/x-python",
   "name": "python",
   "nbconvert_exporter": "python",
   "pygments_lexer": "ipython3",
   "version": "3.8.5"
  }
 },
 "nbformat": 4,
 "nbformat_minor": 4
}
