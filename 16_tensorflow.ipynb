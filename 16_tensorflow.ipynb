{
 "cells": [
  {
   "cell_type": "markdown",
   "id": "377f94dd",
   "metadata": {},
   "source": [
    "# tensorflow 2.x\n",
    "- numpy, pandas, scikits, keras 의 장점 종합\n",
    "- data : data, datasets, audio, image, strings, signal\n",
    "- operations : math, linalg, sparce\n",
    "- model : estimators, keras, optimizers, activation, cost, metrics"
   ]
  },
  {
   "cell_type": "code",
   "execution_count": 3,
   "id": "e6902eb4",
   "metadata": {},
   "outputs": [
    {
     "name": "stdout",
     "output_type": "stream",
     "text": [
      "결과 = [[4.]]\n",
      "<class 'tensorflow.python.framework.ops.EagerTensor'>\n"
     ]
    },
    {
     "data": {
      "text/plain": [
       "array([[4.]], dtype=float32)"
      ]
     },
     "execution_count": 3,
     "metadata": {},
     "output_type": "execute_result"
    }
   ],
   "source": [
    "# eager mode 직접 실행모드\n",
    "import tensorflow as tf\n",
    "x = [[2.]]\n",
    "m = tf.matmul(x, x) # 행렬곱 연산\n",
    "print(\"결과 = {}\".format(m)) # python core\n",
    "print(type(m))\n",
    "m.numpy()"
   ]
  },
  {
   "cell_type": "code",
   "execution_count": 4,
   "id": "3255cf10",
   "metadata": {},
   "outputs": [
    {
     "name": "stdout",
     "output_type": "stream",
     "text": [
      "[2.0]\n",
      "0.9092974268256817\n",
      "0.9092974\n"
     ]
    }
   ],
   "source": [
    "import numpy as np\n",
    "print(x[0])\n",
    "print(np.math.sin((x[0][0])))\n",
    "print(tf.math.sin((x[0][0])).numpy())"
   ]
  },
  {
   "cell_type": "code",
   "execution_count": null,
   "id": "2d5369e5",
   "metadata": {},
   "outputs": [],
   "source": [
    "# constant, variabies, placeholder(주입변수-입력데이터)"
   ]
  },
  {
   "cell_type": "code",
   "execution_count": 5,
   "id": "0a0f685c",
   "metadata": {},
   "outputs": [
    {
     "name": "stdout",
     "output_type": "stream",
     "text": [
      "tf.Tensor(\n",
      "[[1 2]\n",
      " [3 4]], shape=(2, 2), dtype=int32)\n"
     ]
    }
   ],
   "source": [
    "a = tf.constant(([1,2],\n",
    "                [3,4]))\n",
    "print(a)"
   ]
  },
  {
   "cell_type": "code",
   "execution_count": 6,
   "id": "c74f766f",
   "metadata": {},
   "outputs": [
    {
     "name": "stdout",
     "output_type": "stream",
     "text": [
      "tf.Tensor(\n",
      "[[2 3]\n",
      " [4 5]], shape=(2, 2), dtype=int32)\n"
     ]
    }
   ],
   "source": [
    "b = tf.add(a,1) # broadcastind\n",
    "print(b)"
   ]
  },
  {
   "cell_type": "code",
   "execution_count": 8,
   "id": "50056343",
   "metadata": {},
   "outputs": [
    {
     "data": {
      "text/plain": [
       "tensorflow.python.framework.ops.EagerTensor"
      ]
     },
     "execution_count": 8,
     "metadata": {},
     "output_type": "execute_result"
    }
   ],
   "source": [
    "type(b)"
   ]
  },
  {
   "cell_type": "code",
   "execution_count": 7,
   "id": "907ddf34",
   "metadata": {},
   "outputs": [
    {
     "name": "stdout",
     "output_type": "stream",
     "text": [
      "[[ 2  6]\n",
      " [12 20]]\n",
      "<class 'numpy.ndarray'>\n"
     ]
    }
   ],
   "source": [
    "c = np.multiply(a,b)\n",
    "print(c)\n",
    "print(type(c))"
   ]
  },
  {
   "cell_type": "code",
   "execution_count": 13,
   "id": "0e5a75d4",
   "metadata": {},
   "outputs": [],
   "source": [
    "# tensor와 numpy의 호환\n",
    "def check_double(max_num):\n",
    "    counter = tf.constant(0)\n",
    "    max_num = tf.convert_to_tensor(max_num)\n",
    "    for num in range(1, max_num.numpy()+1):\n",
    "        num = tf.constant(num)\n",
    "        if int(num % 3) == 0 and int(num % 5) == 0:\n",
    "            print('3이나 5의 배수')\n",
    "        elif int(num % 3) == 0:\n",
    "            print(\"3의 배수\")\n",
    "        elif int(num % 5) == 0:\n",
    "            print(\"5의 배수\")\n",
    "        else:\n",
    "            print(num.numpy())\n",
    "        counter +=1"
   ]
  },
  {
   "cell_type": "code",
   "execution_count": 14,
   "id": "dbe14798",
   "metadata": {},
   "outputs": [
    {
     "name": "stdout",
     "output_type": "stream",
     "text": [
      "1\n",
      "2\n",
      "3의 배수\n",
      "4\n",
      "5의 배수\n",
      "3의 배수\n",
      "7\n",
      "8\n",
      "3의 배수\n",
      "5의 배수\n",
      "11\n",
      "3의 배수\n",
      "13\n",
      "14\n",
      "3이나 5의 배수\n"
     ]
    }
   ],
   "source": [
    "check_double(15)"
   ]
  },
  {
   "cell_type": "code",
   "execution_count": 15,
   "id": "176add0b",
   "metadata": {},
   "outputs": [],
   "source": [
    "(mnist_images, mnist_labels), _ = tf.keras.datasets.mnist.load_data()\n",
    "# feeding\n",
    "dataset = tf.data.Dataset.from_tensor_slices(\n",
    "    #형변환 - 축이 증가, 컬러 정규화\n",
    "    (tf.cast(mnist_images[...,tf.newaxis]/255, tf.float32),\n",
    "    tf.cast(mnist_labels, tf.int64)))\n",
    "dataset = dataset.shuffle(1000).batch(32) #32개씩 묵어서 feeding"
   ]
  },
  {
   "cell_type": "code",
   "execution_count": 16,
   "id": "30ae5472",
   "metadata": {},
   "outputs": [],
   "source": [
    "# constant, Variables, placeholder\n",
    "mnist_model = tf.keras.Sequential([\n",
    "    # convolution operation\n",
    "    tf.keras.layers.Conv2D(16,[3,3], activation='relu',\n",
    "                          input_shape=(None, None, 1)),\n",
    "    tf.keras.layers.Conv2D(16,[3,3], activation='relu'),\n",
    "    tf.keras.layers.GlobalAveragePooling2D(), # 차원율 감소 : 연산량이 줄고, 메모리이익, 속도가 빨라지고, 과적합 방지\n",
    "    tf.keras.layers.Dense(10) # FFNN\n",
    "])"
   ]
  },
  {
   "cell_type": "code",
   "execution_count": null,
   "id": "db16769d",
   "metadata": {},
   "outputs": [],
   "source": [
    "# 신경망\n",
    "- 데이터 * 행렬 (tf. Variables = 공간확보)\n",
    "- keras는 압축함수로 작저됨\n",
    "- filter(3x3) - trainable\n",
    "- Dense망에서 가중치 행렬"
   ]
  },
  {
   "cell_type": "code",
   "execution_count": 17,
   "id": "2c3a3b37",
   "metadata": {},
   "outputs": [],
   "source": [
    "optimizer = tf.keras.optimizers.Adam()\n",
    "# 0이 많다. : 검정 RGB = 1 하얀색\n",
    "# 분류의 비용함수 실제값 : one-hot-encoding, 예측값 : softmax 확률값\n",
    "loss_object = tf.keras.losses.SparseCategoricalCrossentropy(\n",
    "    from_logits=True)\n",
    "\n",
    "loss_history = []"
   ]
  },
  {
   "cell_type": "code",
   "execution_count": 21,
   "id": "2438e078",
   "metadata": {},
   "outputs": [],
   "source": [
    "#경사 하강법을 도입한 이유 : 정확한 해가 없어\n",
    "    # 기울기 -> 미분 기울기 + => 가중치 - 역관계\n",
    "    # 오차만큼 : 지그재그 : learing rate\n",
    "#무작위 대입법, 경사하강법 -> 근사해를 구하기 위해\n",
    "def train_step(images, labels):\n",
    "    with tf.GradientTape() as tape:\n",
    "        logits = mnist_model(images, training = True) # 확률 값\n",
    "        tf.debugging.assert_equal(logits.shape, (32,10))\n",
    "        loss_value = loss_object(labels, logits)  # cost 값\n",
    "    loss_history.append(loss_value.numpy().mean()) # 평균값\n",
    "    grads = tape.gradient(loss_value, mnist_model.trainable_variables)\n",
    "    optimizer.apply_gradients(zip(\n",
    "        grads, mnist_model.trainable_variables))\n",
    "def train():\n",
    "    for epoch in range(3):\n",
    "        for (batch, (images, labels)) in enumerate(dataset):\n",
    "            train_step(images, labels)\n",
    "        print(\"에포크 {} 종료\".format(epoch))"
   ]
  },
  {
   "cell_type": "code",
   "execution_count": 22,
   "id": "31fe807a",
   "metadata": {},
   "outputs": [
    {
     "name": "stdout",
     "output_type": "stream",
     "text": [
      "에포크 0 종료\n",
      "에포크 1 종료\n",
      "에포크 2 종료\n"
     ]
    }
   ],
   "source": [
    "train()"
   ]
  },
  {
   "cell_type": "code",
   "execution_count": 23,
   "id": "028a849e",
   "metadata": {},
   "outputs": [
    {
     "data": {
      "text/plain": [
       "Text(0, 0.5, 'Loss [entropy]')"
      ]
     },
     "execution_count": 23,
     "metadata": {},
     "output_type": "execute_result"
    },
    {
     "data": {
      "image/png": "[encoded data removed]",
      "text/plain": [
       "<Figure size 432x288 with 1 Axes>"
      ]
     },
     "metadata": {
      "needs_background": "light"
     },
     "output_type": "display_data"
    }
   ],
   "source": [
    "import matplotlib.pyplot as plt\n",
    "\n",
    "plt.plot(loss_history)\n",
    "plt.xlabel('Batch #')\n",
    "plt.ylabel('Loss [entropy]')"
   ]
  },
  {
   "cell_type": "code",
   "execution_count": 24,
   "id": "04dc2014",
   "metadata": {},
   "outputs": [],
   "source": [
    "import tensorflow as tf\n",
    "x = tf.ones((2,2))\n",
    "with tf.GradientTape() as t: # 연산순서의 출력값을 기억하고 있다.\n",
    "    t.watch(x)\n",
    "    y = tf.reduce_sum(x) # reduce는 분산작업 결과를 합한다.\n",
    "    z = tf.multiply(y, y) # 16 "
   ]
  },
  {
   "cell_type": "code",
   "execution_count": 25,
   "id": "dc5ec3d4",
   "metadata": {},
   "outputs": [],
   "source": [
    "# 미분을 이용해서 변화량을 구하는 함수\n",
    "dz_dx = t.gradient(z, x) # 변수 x 에 대하여 z값의 도함수를 구하라."
   ]
  },
  {
   "cell_type": "code",
   "execution_count": 26,
   "id": "9ec044a9",
   "metadata": {},
   "outputs": [
    {
     "name": "stdout",
     "output_type": "stream",
     "text": [
      "tf.Tensor(\n",
      "[[8. 8.]\n",
      " [8. 8.]], shape=(2, 2), dtype=float32)\n"
     ]
    }
   ],
   "source": [
    "print(dz_dx)\n",
    "for i in [0,1]:\n",
    "    for j in [0,1]:\n",
    "        assert dz_dx[i][j].numpy() == 8.0"
   ]
  },
  {
   "cell_type": "code",
   "execution_count": 32,
   "id": "34a266e6",
   "metadata": {},
   "outputs": [
    {
     "name": "stdout",
     "output_type": "stream",
     "text": [
      "tf.Tensor(108.0, shape=(), dtype=float32)\n",
      "tf.Tensor(6.0, shape=(), dtype=float32)\n"
     ]
    }
   ],
   "source": [
    "x = tf.constant(3.0)\n",
    "with tf.GradientTape(persistent=True) as t:\n",
    "    t.watch(x)\n",
    "    y = x * x  # x^2\n",
    "    z = y * y  # x^4\n",
    "dz_dx = t.gradient(z, x) # 4x^3\n",
    "print(dz_dx)\n",
    "dy_dx = t.gradient(y, x) # x^2 =>\n",
    "print(dy_dx)"
   ]
  },
  {
   "cell_type": "code",
   "execution_count": 35,
   "id": "0876698b",
   "metadata": {},
   "outputs": [
    {
     "data": {
      "text/plain": [
       "<TensorSliceDataset shapes: (), types: tf.int32>"
      ]
     },
     "execution_count": 35,
     "metadata": {},
     "output_type": "execute_result"
    }
   ],
   "source": [
    "dataset = tf.data.Dataset.from_tensor_slices([8,3,0,8,2,1])\n",
    "dataset"
   ]
  },
  {
   "cell_type": "code",
   "execution_count": 36,
   "id": "91060be6",
   "metadata": {},
   "outputs": [
    {
     "name": "stdout",
     "output_type": "stream",
     "text": [
      "8\n",
      "3\n",
      "0\n",
      "8\n",
      "2\n",
      "1\n"
     ]
    }
   ],
   "source": [
    "for elem in dataset:\n",
    "    print(elem.numpy())"
   ]
  },
  {
   "cell_type": "code",
   "execution_count": 37,
   "id": "d3421e15",
   "metadata": {},
   "outputs": [
    {
     "name": "stdout",
     "output_type": "stream",
     "text": [
      "22\n"
     ]
    }
   ],
   "source": [
    "print(dataset.reduce(0, lambda state, value: state+value).numpy())"
   ]
  },
  {
   "cell_type": "code",
   "execution_count": 38,
   "id": "1a80fd9f",
   "metadata": {},
   "outputs": [
    {
     "name": "stdout",
     "output_type": "stream",
     "text": [
      "0\n",
      "1\n",
      "2\n",
      "3\n",
      "4\n"
     ]
    }
   ],
   "source": [
    "def count(stop):\n",
    "    i = 0\n",
    "    while i<stop:\n",
    "        yield i # generator : 메모리 낭비가 심할 때 사용\n",
    "        i += 1\n",
    "        \n",
    "for n in count(5):\n",
    "    print(n)"
   ]
  },
  {
   "cell_type": "code",
   "execution_count": 39,
   "id": "18f1d1ff",
   "metadata": {},
   "outputs": [],
   "source": [
    "ds_counter = tf.data.Dataset.from_generator(count, args=[25],\n",
    "        output_types=tf.int32, output_shapes = (), )"
   ]
  },
  {
   "cell_type": "code",
   "execution_count": 40,
   "id": "6f52cdaf",
   "metadata": {},
   "outputs": [
    {
     "name": "stdout",
     "output_type": "stream",
     "text": [
      "[0 1 2 3 4 5 6 7 8 9]\n",
      "[10 11 12 13 14 15 16 17 18 19]\n",
      "[20 21 22 23 24  0  1  2  3  4]\n",
      "[ 5  6  7  8  9 10 11 12 13 14]\n",
      "[15 16 17 18 19 20 21 22 23 24]\n",
      "[0 1 2 3 4 5 6 7 8 9]\n",
      "[10 11 12 13 14 15 16 17 18 19]\n",
      "[20 21 22 23 24  0  1  2  3  4]\n",
      "[ 5  6  7  8  9 10 11 12 13 14]\n",
      "[15 16 17 18 19 20 21 22 23 24]\n"
     ]
    }
   ],
   "source": [
    "for count_batch in ds_counter.repeat().batch(10).take(10):\n",
    "    print(count_batch.numpy())"
   ]
  },
  {
   "cell_type": "code",
   "execution_count": 42,
   "id": "9d03e425",
   "metadata": {},
   "outputs": [
    {
     "name": "stdout",
     "output_type": "stream",
     "text": [
      "['abstract_reasoning', 'accentdb', 'aeslc', 'aflw2k3d', 'ag_news_subset', 'ai2_arc', 'ai2_arc_with_ir', 'amazon_us_reviews', 'anli', 'arc', 'bair_robot_pushing_small', 'bccd', 'beans', 'big_patent', 'bigearthnet', 'billsum', 'binarized_mnist', 'binary_alpha_digits', 'blimp', 'bool_q', 'c4', 'caltech101', 'caltech_birds2010', 'caltech_birds2011', 'cars196', 'cassava', 'cats_vs_dogs', 'celeb_a', 'celeb_a_hq', 'cfq', 'cherry_blossoms', 'chexpert', 'cifar10', 'cifar100', 'cifar10_1', 'cifar10_corrupted', 'citrus_leaves', 'cityscapes', 'civil_comments', 'clevr', 'clic', 'clinc_oos', 'cmaterdb', 'cnn_dailymail', 'coco', 'coco_captions', 'coil100', 'colorectal_histology', 'colorectal_histology_large', 'common_voice', 'coqa', 'cos_e', 'cosmos_qa', 'covid19sum', 'crema_d', 'curated_breast_imaging_ddsm', 'cycle_gan', 'd4rl_mujoco_ant', 'd4rl_mujoco_halfcheetah', 'dart', 'davis', 'deep_weeds', 'definite_pronoun_resolution', 'dementiabank', 'diabetic_retinopathy_detection', 'div2k', 'dmlab', 'dolphin_number_word', 'downsampled_imagenet', 'drop', 'dsprites', 'dtd', 'duke_ultrasound', 'e2e_cleaned', 'efron_morris75', 'emnist', 'eraser_multi_rc', 'esnli', 'eurosat', 'fashion_mnist', 'flic', 'flores', 'food101', 'forest_fires', 'fuss', 'gap', 'geirhos_conflict_stimuli', 'gem', 'genomics_ood', 'german_credit_numeric', 'gigaword', 'glue', 'goemotions', 'gpt3', 'gref', 'groove', 'gtzan', 'gtzan_music_speech', 'hellaswag', 'higgs', 'horses_or_humans', 'howell', 'i_naturalist2017', 'imagenet2012', 'imagenet2012_corrupted', 'imagenet2012_real', 'imagenet2012_subset', 'imagenet_a', 'imagenet_r', 'imagenet_resized', 'imagenet_v2', 'imagenette', 'imagewang', 'imdb_reviews', 'irc_disentanglement', 'iris', 'kitti', 'kmnist', 'lambada', 'lfw', 'librispeech', 'librispeech_lm', 'libritts', 'ljspeech', 'lm1b', 'lost_and_found', 'lsun', 'lvis', 'malaria', 'math_dataset', 'mctaco', 'mlqa', 'mnist', 'mnist_corrupted', 'movie_lens', 'movie_rationales', 'movielens', 'moving_mnist', 'multi_news', 'multi_nli', 'multi_nli_mismatch', 'natural_questions', 'natural_questions_open', 'newsroom', 'nsynth', 'nyu_depth_v2', 'ogbg_molpcba', 'omniglot', 'open_images_challenge2019_detection', 'open_images_v4', 'openbookqa', 'opinion_abstracts', 'opinosis', 'opus', 'oxford_flowers102', 'oxford_iiit_pet', 'para_crawl', 'patch_camelyon', 'paws_wiki', 'paws_x_wiki', 'pet_finder', 'pg19', 'piqa', 'places365_small', 'plant_leaves', 'plant_village', 'plantae_k', 'qa4mre', 'qasc', 'quac', 'quickdraw_bitmap', 'race', 'radon', 'reddit', 'reddit_disentanglement', 'reddit_tifu', 'resisc45', 'robonet', 'rock_paper_scissors', 'rock_you', 's3o4d', 'salient_span_wikipedia', 'samsum', 'savee', 'scan', 'scene_parse150', 'schema_guided_dialogue', 'scicite', 'scientific_papers', 'sentiment140', 'shapes3d', 'siscore', 'smallnorb', 'snli', 'so2sat', 'speech_commands', 'spoken_digit', 'squad', 'stanford_dogs', 'stanford_online_products', 'star_cfq', 'starcraft_video', 'stl10', 'story_cloze', 'sun397', 'super_glue', 'svhn_cropped', 'tao', 'ted_hrlr_translate', 'ted_multi_translate', 'tedlium', 'tf_flowers', 'the300w_lp', 'tiny_shakespeare', 'titanic', 'trec', 'trivia_qa', 'tydi_qa', 'uc_merced', 'ucf101', 'vctk', 'vgg_face2', 'visual_domain_decathlon', 'voc', 'voxceleb', 'voxforge', 'waymo_open_dataset', 'web_nlg', 'web_questions', 'wider_face', 'wiki40b', 'wiki_bio', 'wiki_table_questions', 'wiki_table_text', 'wikiann', 'wikihow', 'wikipedia', 'wikipedia_toxicity_subtypes', 'wine_quality', 'winogrande', 'wmt13_translate', 'wmt14_translate', 'wmt15_translate', 'wmt16_translate', 'wmt17_translate', 'wmt18_translate', 'wmt19_translate', 'wmt_t2t_translate', 'wmt_translate', 'wordnet', 'wsc273', 'xnli', 'xquad', 'xsum', 'xtreme_pawsx', 'xtreme_xnli', 'yelp_polarity_reviews', 'yes_no', 'youtube_vis']\n"
     ]
    }
   ],
   "source": [
    "import tensorflow_datasets as tfds\n",
    "import tensorflow as tf\n",
    "print(tfds.list_builders())"
   ]
  },
  {
   "cell_type": "code",
   "execution_count": 43,
   "id": "bb6a54a0",
   "metadata": {},
   "outputs": [
    {
     "name": "stdout",
     "output_type": "stream",
     "text": [
      "\u001b[1mDownloading and preparing dataset Unknown size (download: Unknown size, generated: Unknown size, total: Unknown size) to C:\\Users\\020\\tensorflow_datasets\\mnist\\3.0.1...\u001b[0m\n"
     ]
    },
    {
     "data": {
      "application/vnd.jupyter.widget-view+json": {
       "model_id": "4db34716805041cb8bc6690512cfe9d2",
       "version_major": 2,
       "version_minor": 0
      },
      "text/plain": [
       "Dl Completed...: 0 url [00:00, ? url/s]"
      ]
     },
     "metadata": {},
     "output_type": "display_data"
    },
    {
     "data": {
      "application/vnd.jupyter.widget-view+json": {
       "model_id": "58161122a92d47c5b59909ecc83762c0",
       "version_major": 2,
       "version_minor": 0
      },
      "text/plain": [
       "Dl Size...: 0 MiB [00:00, ? MiB/s]"
      ]
     },
     "metadata": {},
     "output_type": "display_data"
    },
    {
     "data": {
      "application/vnd.jupyter.widget-view+json": {
       "model_id": "90ba14bf90eb4e1a806a250fa1a7feb2",
       "version_major": 2,
       "version_minor": 0
      },
      "text/plain": [
       "Extraction completed...: 0 file [00:00, ? file/s]"
      ]
     },
     "metadata": {},
     "output_type": "display_data"
    },
    {
     "data": {
      "application/vnd.jupyter.widget-view+json": {
       "model_id": "",
       "version_major": 2,
       "version_minor": 0
      },
      "text/plain": [
       "Generating splits...:   0%|          | 0/2 [00:00<?, ? splits/s]"
      ]
     },
     "metadata": {},
     "output_type": "display_data"
    },
    {
     "data": {
      "application/vnd.jupyter.widget-view+json": {
       "model_id": "",
       "version_major": 2,
       "version_minor": 0
      },
      "text/plain": [
       "Generating train examples...: 0 examples [00:00, ? examples/s]"
      ]
     },
     "metadata": {},
     "output_type": "display_data"
    },
    {
     "data": {
      "application/vnd.jupyter.widget-view+json": {
       "model_id": "",
       "version_major": 2,
       "version_minor": 0
      },
      "text/plain": [
       "Shuffling mnist-train.tfrecord...:   0%|          | 0/60000 [00:00<?, ? examples/s]"
      ]
     },
     "metadata": {},
     "output_type": "display_data"
    },
    {
     "data": {
      "application/vnd.jupyter.widget-view+json": {
       "model_id": "",
       "version_major": 2,
       "version_minor": 0
      },
      "text/plain": [
       "Generating test examples...: 0 examples [00:00, ? examples/s]"
      ]
     },
     "metadata": {},
     "output_type": "display_data"
    },
    {
     "data": {
      "application/vnd.jupyter.widget-view+json": {
       "model_id": "",
       "version_major": 2,
       "version_minor": 0
      },
      "text/plain": [
       "Shuffling mnist-test.tfrecord...:   0%|          | 0/10000 [00:00<?, ? examples/s]"
      ]
     },
     "metadata": {},
     "output_type": "display_data"
    },
    {
     "name": "stdout",
     "output_type": "stream",
     "text": [
      "\u001b[1mDataset mnist downloaded and prepared to C:\\Users\\020\\tensorflow_datasets\\mnist\\3.0.1. Subsequent calls will reuse this data.\u001b[0m\n"
     ]
    }
   ],
   "source": [
    "dataset = tfds.load(name=\"mnist\", split=tfds.Split.TRAIN)\n",
    "dataset = dataset.shuffle(1024).batch(32).prefetch(\n",
    "    tf.data.experimental.AUTOTUNE)"
   ]
  },
  {
   "cell_type": "code",
   "execution_count": 44,
   "id": "2dc131ce",
   "metadata": {},
   "outputs": [],
   "source": [
    "for features in dataset.take(1):\n",
    "    image, label = features[\"image\"], features[\"label\"]"
   ]
  },
  {
   "cell_type": "code",
   "execution_count": 45,
   "id": "bd111276",
   "metadata": {},
   "outputs": [
    {
     "data": {
      "text/plain": [
       "<tf.Tensor: shape=(32, 28, 28, 1), dtype=uint8, numpy=\n",
       "array([[[[0],\n",
       "         [0],\n",
       "         [0],\n",
       "         ...,\n",
       "         [0],\n",
       "         [0],\n",
       "         [0]],\n",
       "\n",
       "        [[0],\n",
       "         [0],\n",
       "         [0],\n",
       "         ...,\n",
       "         [0],\n",
       "         [0],\n",
       "         [0]],\n",
       "\n",
       "        [[0],\n",
       "         [0],\n",
       "         [0],\n",
       "         ...,\n",
       "         [0],\n",
       "         [0],\n",
       "         [0]],\n",
       "\n",
       "        ...,\n",
       "\n",
       "        [[0],\n",
       "         [0],\n",
       "         [0],\n",
       "         ...,\n",
       "         [0],\n",
       "         [0],\n",
       "         [0]],\n",
       "\n",
       "        [[0],\n",
       "         [0],\n",
       "         [0],\n",
       "         ...,\n",
       "         [0],\n",
       "         [0],\n",
       "         [0]],\n",
       "\n",
       "        [[0],\n",
       "         [0],\n",
       "         [0],\n",
       "         ...,\n",
       "         [0],\n",
       "         [0],\n",
       "         [0]]],\n",
       "\n",
       "\n",
       "       [[[0],\n",
       "         [0],\n",
       "         [0],\n",
       "         ...,\n",
       "         [0],\n",
       "         [0],\n",
       "         [0]],\n",
       "\n",
       "        [[0],\n",
       "         [0],\n",
       "         [0],\n",
       "         ...,\n",
       "         [0],\n",
       "         [0],\n",
       "         [0]],\n",
       "\n",
       "        [[0],\n",
       "         [0],\n",
       "         [0],\n",
       "         ...,\n",
       "         [0],\n",
       "         [0],\n",
       "         [0]],\n",
       "\n",
       "        ...,\n",
       "\n",
       "        [[0],\n",
       "         [0],\n",
       "         [0],\n",
       "         ...,\n",
       "         [0],\n",
       "         [0],\n",
       "         [0]],\n",
       "\n",
       "        [[0],\n",
       "         [0],\n",
       "         [0],\n",
       "         ...,\n",
       "         [0],\n",
       "         [0],\n",
       "         [0]],\n",
       "\n",
       "        [[0],\n",
       "         [0],\n",
       "         [0],\n",
       "         ...,\n",
       "         [0],\n",
       "         [0],\n",
       "         [0]]],\n",
       "\n",
       "\n",
       "       [[[0],\n",
       "         [0],\n",
       "         [0],\n",
       "         ...,\n",
       "         [0],\n",
       "         [0],\n",
       "         [0]],\n",
       "\n",
       "        [[0],\n",
       "         [0],\n",
       "         [0],\n",
       "         ...,\n",
       "         [0],\n",
       "         [0],\n",
       "         [0]],\n",
       "\n",
       "        [[0],\n",
       "         [0],\n",
       "         [0],\n",
       "         ...,\n",
       "         [0],\n",
       "         [0],\n",
       "         [0]],\n",
       "\n",
       "        ...,\n",
       "\n",
       "        [[0],\n",
       "         [0],\n",
       "         [0],\n",
       "         ...,\n",
       "         [0],\n",
       "         [0],\n",
       "         [0]],\n",
       "\n",
       "        [[0],\n",
       "         [0],\n",
       "         [0],\n",
       "         ...,\n",
       "         [0],\n",
       "         [0],\n",
       "         [0]],\n",
       "\n",
       "        [[0],\n",
       "         [0],\n",
       "         [0],\n",
       "         ...,\n",
       "         [0],\n",
       "         [0],\n",
       "         [0]]],\n",
       "\n",
       "\n",
       "       ...,\n",
       "\n",
       "\n",
       "       [[[0],\n",
       "         [0],\n",
       "         [0],\n",
       "         ...,\n",
       "         [0],\n",
       "         [0],\n",
       "         [0]],\n",
       "\n",
       "        [[0],\n",
       "         [0],\n",
       "         [0],\n",
       "         ...,\n",
       "         [0],\n",
       "         [0],\n",
       "         [0]],\n",
       "\n",
       "        [[0],\n",
       "         [0],\n",
       "         [0],\n",
       "         ...,\n",
       "         [0],\n",
       "         [0],\n",
       "         [0]],\n",
       "\n",
       "        ...,\n",
       "\n",
       "        [[0],\n",
       "         [0],\n",
       "         [0],\n",
       "         ...,\n",
       "         [0],\n",
       "         [0],\n",
       "         [0]],\n",
       "\n",
       "        [[0],\n",
       "         [0],\n",
       "         [0],\n",
       "         ...,\n",
       "         [0],\n",
       "         [0],\n",
       "         [0]],\n",
       "\n",
       "        [[0],\n",
       "         [0],\n",
       "         [0],\n",
       "         ...,\n",
       "         [0],\n",
       "         [0],\n",
       "         [0]]],\n",
       "\n",
       "\n",
       "       [[[0],\n",
       "         [0],\n",
       "         [0],\n",
       "         ...,\n",
       "         [0],\n",
       "         [0],\n",
       "         [0]],\n",
       "\n",
       "        [[0],\n",
       "         [0],\n",
       "         [0],\n",
       "         ...,\n",
       "         [0],\n",
       "         [0],\n",
       "         [0]],\n",
       "\n",
       "        [[0],\n",
       "         [0],\n",
       "         [0],\n",
       "         ...,\n",
       "         [0],\n",
       "         [0],\n",
       "         [0]],\n",
       "\n",
       "        ...,\n",
       "\n",
       "        [[0],\n",
       "         [0],\n",
       "         [0],\n",
       "         ...,\n",
       "         [0],\n",
       "         [0],\n",
       "         [0]],\n",
       "\n",
       "        [[0],\n",
       "         [0],\n",
       "         [0],\n",
       "         ...,\n",
       "         [0],\n",
       "         [0],\n",
       "         [0]],\n",
       "\n",
       "        [[0],\n",
       "         [0],\n",
       "         [0],\n",
       "         ...,\n",
       "         [0],\n",
       "         [0],\n",
       "         [0]]],\n",
       "\n",
       "\n",
       "       [[[0],\n",
       "         [0],\n",
       "         [0],\n",
       "         ...,\n",
       "         [0],\n",
       "         [0],\n",
       "         [0]],\n",
       "\n",
       "        [[0],\n",
       "         [0],\n",
       "         [0],\n",
       "         ...,\n",
       "         [0],\n",
       "         [0],\n",
       "         [0]],\n",
       "\n",
       "        [[0],\n",
       "         [0],\n",
       "         [0],\n",
       "         ...,\n",
       "         [0],\n",
       "         [0],\n",
       "         [0]],\n",
       "\n",
       "        ...,\n",
       "\n",
       "        [[0],\n",
       "         [0],\n",
       "         [0],\n",
       "         ...,\n",
       "         [0],\n",
       "         [0],\n",
       "         [0]],\n",
       "\n",
       "        [[0],\n",
       "         [0],\n",
       "         [0],\n",
       "         ...,\n",
       "         [0],\n",
       "         [0],\n",
       "         [0]],\n",
       "\n",
       "        [[0],\n",
       "         [0],\n",
       "         [0],\n",
       "         ...,\n",
       "         [0],\n",
       "         [0],\n",
       "         [0]]]], dtype=uint8)>"
      ]
     },
     "execution_count": 45,
     "metadata": {},
     "output_type": "execute_result"
    }
   ],
   "source": [
    "image"
   ]
  },
  {
   "cell_type": "code",
   "execution_count": 46,
   "id": "a21ab24e",
   "metadata": {},
   "outputs": [],
   "source": [
    "train, test = tf.keras.datasets.mnist.load_data()\n",
    "train_x, train_y = train\n",
    "\n",
    "dataset = tf.data.Dataset.from_tensor_slices(({\"image\":train_x}, train_y))\n",
    "dataset = dataset.shuffle(100000).repeat().batch(10)"
   ]
  },
  {
   "cell_type": "code",
   "execution_count": 47,
   "id": "1e71ba4d",
   "metadata": {},
   "outputs": [
    {
     "data": {
      "text/plain": [
       "<TakeDataset shapes: ({image: (None, 28, 28)}, (None,)), types: ({image: tf.uint8}, tf.uint8)>"
      ]
     },
     "execution_count": 47,
     "metadata": {},
     "output_type": "execute_result"
    }
   ],
   "source": [
    "dataset.take(1)"
   ]
  },
  {
   "cell_type": "code",
   "execution_count": 49,
   "id": "847e4fc5",
   "metadata": {},
   "outputs": [
    {
     "name": "stdout",
     "output_type": "stream",
     "text": [
      "Downloading data from https://storage.googleapis.com/tf-datasets/titanic/train.csv\n",
      "32768/30874 [===============================] - 0s 0us/step\n"
     ]
    }
   ],
   "source": [
    "titanic_file = tf.keras.utils.get_file(\"train.csv\", \"https://storage.googleapis.com/tf-datasets/titanic/train.csv\")"
   ]
  },
  {
   "cell_type": "code",
   "execution_count": 51,
   "id": "02924002",
   "metadata": {},
   "outputs": [
    {
     "data": {
      "text/html": [
       "<div>\n",
       "<style scoped>\n",
       "    .dataframe tbody tr th:only-of-type {\n",
       "        vertical-align: middle;\n",
       "    }\n",
       "\n",
       "    .dataframe tbody tr th {\n",
       "        vertical-align: top;\n",
       "    }\n",
       "\n",
       "    .dataframe thead th {\n",
       "        text-align: right;\n",
       "    }\n",
       "</style>\n",
       "<table border=\"1\" class=\"dataframe\">\n",
       "  <thead>\n",
       "    <tr style=\"text-align: right;\">\n",
       "      <th></th>\n",
       "      <th>survived</th>\n",
       "      <th>sex</th>\n",
       "      <th>age</th>\n",
       "      <th>n_siblings_spouses</th>\n",
       "      <th>parch</th>\n",
       "      <th>fare</th>\n",
       "      <th>class</th>\n",
       "      <th>deck</th>\n",
       "      <th>embark_town</th>\n",
       "      <th>alone</th>\n",
       "    </tr>\n",
       "  </thead>\n",
       "  <tbody>\n",
       "    <tr>\n",
       "      <th>0</th>\n",
       "      <td>0</td>\n",
       "      <td>male</td>\n",
       "      <td>22.0</td>\n",
       "      <td>1</td>\n",
       "      <td>0</td>\n",
       "      <td>7.2500</td>\n",
       "      <td>Third</td>\n",
       "      <td>unknown</td>\n",
       "      <td>Southampton</td>\n",
       "      <td>n</td>\n",
       "    </tr>\n",
       "    <tr>\n",
       "      <th>1</th>\n",
       "      <td>1</td>\n",
       "      <td>female</td>\n",
       "      <td>38.0</td>\n",
       "      <td>1</td>\n",
       "      <td>0</td>\n",
       "      <td>71.2833</td>\n",
       "      <td>First</td>\n",
       "      <td>C</td>\n",
       "      <td>Cherbourg</td>\n",
       "      <td>n</td>\n",
       "    </tr>\n",
       "    <tr>\n",
       "      <th>2</th>\n",
       "      <td>1</td>\n",
       "      <td>female</td>\n",
       "      <td>26.0</td>\n",
       "      <td>0</td>\n",
       "      <td>0</td>\n",
       "      <td>7.9250</td>\n",
       "      <td>Third</td>\n",
       "      <td>unknown</td>\n",
       "      <td>Southampton</td>\n",
       "      <td>y</td>\n",
       "    </tr>\n",
       "    <tr>\n",
       "      <th>3</th>\n",
       "      <td>1</td>\n",
       "      <td>female</td>\n",
       "      <td>35.0</td>\n",
       "      <td>1</td>\n",
       "      <td>0</td>\n",
       "      <td>53.1000</td>\n",
       "      <td>First</td>\n",
       "      <td>C</td>\n",
       "      <td>Southampton</td>\n",
       "      <td>n</td>\n",
       "    </tr>\n",
       "    <tr>\n",
       "      <th>4</th>\n",
       "      <td>0</td>\n",
       "      <td>male</td>\n",
       "      <td>28.0</td>\n",
       "      <td>0</td>\n",
       "      <td>0</td>\n",
       "      <td>8.4583</td>\n",
       "      <td>Third</td>\n",
       "      <td>unknown</td>\n",
       "      <td>Queenstown</td>\n",
       "      <td>y</td>\n",
       "    </tr>\n",
       "    <tr>\n",
       "      <th>...</th>\n",
       "      <td>...</td>\n",
       "      <td>...</td>\n",
       "      <td>...</td>\n",
       "      <td>...</td>\n",
       "      <td>...</td>\n",
       "      <td>...</td>\n",
       "      <td>...</td>\n",
       "      <td>...</td>\n",
       "      <td>...</td>\n",
       "      <td>...</td>\n",
       "    </tr>\n",
       "    <tr>\n",
       "      <th>622</th>\n",
       "      <td>0</td>\n",
       "      <td>male</td>\n",
       "      <td>28.0</td>\n",
       "      <td>0</td>\n",
       "      <td>0</td>\n",
       "      <td>10.5000</td>\n",
       "      <td>Second</td>\n",
       "      <td>unknown</td>\n",
       "      <td>Southampton</td>\n",
       "      <td>y</td>\n",
       "    </tr>\n",
       "    <tr>\n",
       "      <th>623</th>\n",
       "      <td>0</td>\n",
       "      <td>male</td>\n",
       "      <td>25.0</td>\n",
       "      <td>0</td>\n",
       "      <td>0</td>\n",
       "      <td>7.0500</td>\n",
       "      <td>Third</td>\n",
       "      <td>unknown</td>\n",
       "      <td>Southampton</td>\n",
       "      <td>y</td>\n",
       "    </tr>\n",
       "    <tr>\n",
       "      <th>624</th>\n",
       "      <td>1</td>\n",
       "      <td>female</td>\n",
       "      <td>19.0</td>\n",
       "      <td>0</td>\n",
       "      <td>0</td>\n",
       "      <td>30.0000</td>\n",
       "      <td>First</td>\n",
       "      <td>B</td>\n",
       "      <td>Southampton</td>\n",
       "      <td>y</td>\n",
       "    </tr>\n",
       "    <tr>\n",
       "      <th>625</th>\n",
       "      <td>0</td>\n",
       "      <td>female</td>\n",
       "      <td>28.0</td>\n",
       "      <td>1</td>\n",
       "      <td>2</td>\n",
       "      <td>23.4500</td>\n",
       "      <td>Third</td>\n",
       "      <td>unknown</td>\n",
       "      <td>Southampton</td>\n",
       "      <td>n</td>\n",
       "    </tr>\n",
       "    <tr>\n",
       "      <th>626</th>\n",
       "      <td>0</td>\n",
       "      <td>male</td>\n",
       "      <td>32.0</td>\n",
       "      <td>0</td>\n",
       "      <td>0</td>\n",
       "      <td>7.7500</td>\n",
       "      <td>Third</td>\n",
       "      <td>unknown</td>\n",
       "      <td>Queenstown</td>\n",
       "      <td>y</td>\n",
       "    </tr>\n",
       "  </tbody>\n",
       "</table>\n",
       "<p>627 rows × 10 columns</p>\n",
       "</div>"
      ],
      "text/plain": [
       "     survived     sex   age  n_siblings_spouses  parch     fare   class  \\\n",
       "0           0    male  22.0                   1      0   7.2500   Third   \n",
       "1           1  female  38.0                   1      0  71.2833   First   \n",
       "2           1  female  26.0                   0      0   7.9250   Third   \n",
       "3           1  female  35.0                   1      0  53.1000   First   \n",
       "4           0    male  28.0                   0      0   8.4583   Third   \n",
       "..        ...     ...   ...                 ...    ...      ...     ...   \n",
       "622         0    male  28.0                   0      0  10.5000  Second   \n",
       "623         0    male  25.0                   0      0   7.0500   Third   \n",
       "624         1  female  19.0                   0      0  30.0000   First   \n",
       "625         0  female  28.0                   1      2  23.4500   Third   \n",
       "626         0    male  32.0                   0      0   7.7500   Third   \n",
       "\n",
       "        deck  embark_town alone  \n",
       "0    unknown  Southampton     n  \n",
       "1          C    Cherbourg     n  \n",
       "2    unknown  Southampton     y  \n",
       "3          C  Southampton     n  \n",
       "4    unknown   Queenstown     y  \n",
       "..       ...          ...   ...  \n",
       "622  unknown  Southampton     y  \n",
       "623  unknown  Southampton     y  \n",
       "624        B  Southampton     y  \n",
       "625  unknown  Southampton     n  \n",
       "626  unknown   Queenstown     y  \n",
       "\n",
       "[627 rows x 10 columns]"
      ]
     },
     "execution_count": 51,
     "metadata": {},
     "output_type": "execute_result"
    }
   ],
   "source": [
    "import pandas as pd\n",
    "df=pd.read_csv(titanic_file, index_col=None)\n",
    "df"
   ]
  },
  {
   "cell_type": "code",
   "execution_count": 52,
   "id": "ba371752",
   "metadata": {},
   "outputs": [
    {
     "name": "stdout",
     "output_type": "stream",
     "text": [
      " 'survived'          : 0\n",
      " 'sex'               : b'male'\n",
      " 'age'               : 22.0\n",
      " 'n_siblings_spouses': 1\n",
      " 'parch'             : 0\n",
      " 'fare'              : 7.25\n",
      " 'class'             : b'Third'\n",
      " 'deck'              : b'unknown'\n",
      " 'embark_town'       : b'Southampton'\n",
      " 'alone'             : b'n'\n"
     ]
    }
   ],
   "source": [
    "titanic_slices = tf.data.Dataset.from_tensor_slices(dict(df))\n",
    "\n",
    "for feature_batch in titanic_slices.take(1):\n",
    "    for key, value in feature_batch.items():\n",
    "        print(\" {!r:20s}: {}\".format(key, value))"
   ]
  },
  {
   "cell_type": "code",
   "execution_count": 53,
   "id": "4f35b7a4",
   "metadata": {},
   "outputs": [],
   "source": [
    "rng = np.random"
   ]
  },
  {
   "cell_type": "code",
   "execution_count": 54,
   "id": "67c8682d",
   "metadata": {},
   "outputs": [],
   "source": [
    "learning_rate = 0.01\n",
    "training_steps = 1000\n",
    "display_step = 50"
   ]
  },
  {
   "cell_type": "code",
   "execution_count": 55,
   "id": "d3800e92",
   "metadata": {},
   "outputs": [],
   "source": [
    "X = np.array([3.3,4.4,5.5,6.71,6.93,4.168,9.779,6.182,7.59,2.167,\n",
    "              7.042,10.791,5.313,7.997,5.654,9.27,3.1])\n",
    "Y = np.array([1.7,2.76,2.09,3.19,1.694,1.573,3.366,2.596,2.53,1.221,\n",
    "              2.827,3.465,1.65,2.904,2.42,2.94,1.3]) "
   ]
  },
  {
   "cell_type": "code",
   "execution_count": 56,
   "id": "2724e680",
   "metadata": {},
   "outputs": [],
   "source": [
    "# 회귀식 = 절편과 기울기\n",
    "W = tf.Variable(rng.randn(), name=\"weight\")\n",
    "b = tf.Variable(rng.randn(), name=\"bias\")\n",
    "def linear_regression(x): # 모델\n",
    "    return W * x + b # 1차 방정식\n",
    "def mean_square(y_pred, y_true): # 오차값\n",
    "    return tf.reduce_mean(tf.square(y_pred - y_true))\n",
    "optimizer = tf.optimizers.SGD(learning_rate) # mini_batch"
   ]
  },
  {
   "cell_type": "code",
   "execution_count": 57,
   "id": "59c9551d",
   "metadata": {},
   "outputs": [],
   "source": [
    "def run_optimization():\n",
    "    with tf.GradientTape() as g:\n",
    "        pred = linear_regression(X)\n",
    "        loss = mean_square(pred, Y)\n",
    "    gradients = g.gradient(loss, [W, b])\n",
    "    optimizer.apply_gradients(zip(gradients, [W, b]))"
   ]
  },
  {
   "cell_type": "code",
   "execution_count": 59,
   "id": "f9892d84",
   "metadata": {},
   "outputs": [
    {
     "name": "stdout",
     "output_type": "stream",
     "text": [
      "step: 50, loss: 0.512660, W: 0.491768, b: -0.903636\n",
      "step: 100, loss: 0.435239, W: 0.464288, b: -0.708816\n",
      "step: 150, loss: 0.374524, W: 0.439953, b: -0.536290\n",
      "step: 200, loss: 0.326909, W: 0.418403, b: -0.383508\n",
      "step: 250, loss: 0.289569, W: 0.399319, b: -0.248209\n",
      "step: 300, loss: 0.260286, W: 0.382418, b: -0.128394\n",
      "step: 350, loss: 0.237321, W: 0.367452, b: -0.022289\n",
      "step: 400, loss: 0.219312, W: 0.354198, b: 0.071673\n",
      "step: 450, loss: 0.205188, W: 0.342461, b: 0.154883\n",
      "step: 500, loss: 0.194112, W: 0.332068, b: 0.228570\n",
      "step: 550, loss: 0.185426, W: 0.322863, b: 0.293825\n",
      "step: 600, loss: 0.178615, W: 0.314712, b: 0.351613\n",
      "step: 650, loss: 0.173273, W: 0.307494, b: 0.402787\n",
      "step: 700, loss: 0.169083, W: 0.301102, b: 0.448105\n",
      "step: 750, loss: 0.165798, W: 0.295441, b: 0.488238\n",
      "step: 800, loss: 0.163222, W: 0.290428, b: 0.523777\n",
      "step: 850, loss: 0.161201, W: 0.285989, b: 0.555250\n",
      "step: 900, loss: 0.159617, W: 0.282057, b: 0.583121\n",
      "step: 950, loss: 0.158374, W: 0.278576, b: 0.607803\n",
      "step: 1000, loss: 0.157399, W: 0.275493, b: 0.629660\n"
     ]
    }
   ],
   "source": [
    "for step in range(1, training_steps + 1):\n",
    "    run_optimization()\n",
    "    if step % display_step == 0:\n",
    "        pred = linear_regression(X) # 현재 상태까지의 모델\n",
    "        loss = mean_square(pred, Y)\n",
    "        print(\"step: %i, loss: %f, W: %f, b: %f\" % (step, loss, W.numpy(), b.numpy()))"
   ]
  },
  {
   "cell_type": "code",
   "execution_count": 60,
   "id": "74d43b3e",
   "metadata": {},
   "outputs": [
    {
     "data": {
      "image/png": "[encoded data removed]",
      "text/plain": [
       "<Figure size 432x288 with 1 Axes>"
      ]
     },
     "metadata": {
      "needs_background": "light"
     },
     "output_type": "display_data"
    }
   ],
   "source": [
    "plt.plot(X, Y, 'ro', label='원래데이터')\n",
    "plt.plot(X, np.array(W*X+b), label = '회귀선')\n",
    "plt.legend()\n",
    "plt.show()"
   ]
  },
  {
   "cell_type": "code",
   "execution_count": 85,
   "id": "5d330c03",
   "metadata": {},
   "outputs": [],
   "source": [
    "num_classes = 10 # 숫자 분류 class 개수\n",
    "num_features = 784 # 28x28\n",
    "\n",
    "learning_rate = 0.01\n",
    "training_steps = 1000\n",
    "batch_size = 256 # 장\n",
    "display_step = 50"
   ]
  },
  {
   "cell_type": "code",
   "execution_count": 86,
   "id": "de67117b",
   "metadata": {},
   "outputs": [],
   "source": [
    "from tensorflow.keras.datasets import mnist\n",
    "(x_train, y_train), (x_test, y_test)  = mnist.load_data()\n",
    "# 이미지 정규화를 위해서 부동소수점으로 변경\n",
    "x_train, x_test = np.array(x_train, np.float32), np.array(x_test, np.float32)\n",
    "# image를 flatten 시킴\n",
    "x_train, x_test = x_train.reshape([-1, num_features]), x_test.reshape(\n",
    "    [-1, num_features])\n",
    "x_train, x_test = x_train / 255 , x_test / 255"
   ]
  },
  {
   "cell_type": "code",
   "execution_count": 87,
   "id": "716686f5",
   "metadata": {},
   "outputs": [],
   "source": [
    "# 차원이 증가\n",
    "# x_train = x_train[..., tf.newaxis]\n",
    "# x_test = x_test[..., tf.newaxis]\n",
    "# 동일한 사이즈로 feeding 준비\n",
    "train_data = tf.data.Dataset.from_tensor_slices(\n",
    "    (x_train, y_train)).shuffle(10000).batch(32)\n",
    "test_data = tf.data.Dataset.from_tensor_slices((\n",
    "    x_test, y_test)).batch(32)"
   ]
  },
  {
   "cell_type": "code",
   "execution_count": 88,
   "id": "074cc8aa",
   "metadata": {},
   "outputs": [],
   "source": [
    "# 60000 x 784, 가중치 784 , x 10\n",
    "W = tf.Variable(tf.ones([num_features, num_classes]), name=\"weight\")\n",
    "# 값을 더해주는 역활 0\n",
    "b = tf.Variable(tf.zeros([num_classes]), name=\"bias\")\n",
    "def logistic_regression(x): # 회귀 , 로지스틱 회귀 ( 출력값이 범주)\n",
    "    return tf.nn.softmax(tf.matmul(x, W) + b) # 분류에서 확률값으로\n",
    "def cross_entropy(y_pred, y_true):\n",
    "    y_true = tf.one_hot(y_true, depth=num_classes) # 실제 값은 원핫\n",
    "    y_pred = tf.clip_by_value(y_pred, 1e-9, 1.) #log 0은 무한대\n",
    "    return tf.reduce_mean(-tf.reduce_sum(y_true * tf.math.log(y_pred)))\n",
    "def accuracy(y_pred, y_true): # 인덱스가 곧 숫자를 의미\n",
    "    correct_prediction = tf.equal(tf.argmax(y_pred, 1), tf.cast(\n",
    "        y_true, tf.int64)) # True(1)/False(0)\n",
    "    return tf.reduce_mean(tf.cast(correct_prediction, tf.float32))\n",
    "optimizer = tf.optimizers.SGD(learning_rate) # mini batch + gradient"
   ]
  },
  {
   "cell_type": "code",
   "execution_count": 125,
   "id": "5778d583",
   "metadata": {},
   "outputs": [],
   "source": [
    "def summarize_weights(step):\n",
    "    tf.summary.histogram(\"weight\", W, step = step)\n",
    "    tf.summary.histogram(\"bias\", b, step = step)"
   ]
  },
  {
   "cell_type": "code",
   "execution_count": 126,
   "id": "75203fe9",
   "metadata": {},
   "outputs": [],
   "source": [
    "logs_path = '/temp/mnist_test'\n",
    "summary_writer = tf.summary.create_file_writer(logs_path)"
   ]
  },
  {
   "cell_type": "code",
   "execution_count": 127,
   "id": "44e09597",
   "metadata": {},
   "outputs": [],
   "source": [
    "loss_history=[]"
   ]
  },
  {
   "cell_type": "code",
   "execution_count": 129,
   "id": "bcac32ec",
   "metadata": {},
   "outputs": [
    {
     "name": "stdout",
     "output_type": "stream",
     "text": [
      "step: 50, loss: 1.291332, accuracy: 1.000000\n",
      "step: 100, loss: 12.807297, accuracy: 0.906250\n",
      "step: 150, loss: 7.075832, accuracy: 0.968750\n",
      "step: 200, loss: 12.330854, accuracy: 0.906250\n",
      "step: 250, loss: 1.940610, accuracy: 1.000000\n",
      "step: 300, loss: 6.766716, accuracy: 0.968750\n",
      "step: 350, loss: 3.667771, accuracy: 0.968750\n",
      "step: 400, loss: 2.144307, accuracy: 0.968750\n",
      "step: 450, loss: 2.844511, accuracy: 0.968750\n",
      "step: 500, loss: 5.091793, accuracy: 0.968750\n",
      "step: 550, loss: 4.758109, accuracy: 0.968750\n",
      "step: 600, loss: 9.039463, accuracy: 0.937500\n",
      "step: 650, loss: 5.583480, accuracy: 0.968750\n",
      "step: 700, loss: 3.775444, accuracy: 0.937500\n",
      "step: 750, loss: 6.971866, accuracy: 0.968750\n",
      "step: 800, loss: 10.156666, accuracy: 0.906250\n",
      "step: 850, loss: 3.961242, accuracy: 0.968750\n",
      "step: 900, loss: 6.023089, accuracy: 0.968750\n",
      "step: 950, loss: 14.624345, accuracy: 0.843750\n",
      "step: 1000, loss: 5.211216, accuracy: 0.937500\n"
     ]
    }
   ],
   "source": [
    "def run_optimization(x, y):\n",
    "    with tf.GradientTape() as g:\n",
    "        pred = logistic_regression(x) # softmax\n",
    "        loss = cross_entropy(pred, y) # cost function\n",
    "    gradients = g.gradient(loss, [W, b])\n",
    "    optimizer.apply_gradients(zip(gradients, [W, b])) # 학습률을 적용\n",
    "for step, (batch_x, batch_y) in enumerate(train_data.take(\n",
    "                training_steps), 1):\n",
    "    tf.summary.trace_on(graph=True, profiler=True)\n",
    "    run_optimization(batch_x, batch_y) # 가중치 학습\n",
    "    with summary_writer.as_default():\n",
    "        tf.summary.trace_export(\n",
    "        name=\"trace\", step=0, profiler_outdir=logs_path)\n",
    "        \n",
    "    if step % display_step == 0:\n",
    "        pred = logistic_regression(batch_x)\n",
    "        loss = cross_entropy(pred, batch_y)\n",
    "        acc = accuracy(pred, batch_y)\n",
    "        print(\"step: %i, loss: %f, accuracy: %f\" %(step, loss, acc))\n",
    "        loss_history.append(loss.numpy().mean())\n",
    "        with summary_writer.as_default():\n",
    "            tf.summary.scalar('loss', loss, step=step)\n",
    "            tf.summary.scalar('accuracy', acc, step=step)\n",
    "            summarize_weights(step)\n",
    "        "
   ]
  },
  {
   "cell_type": "code",
   "execution_count": null,
   "id": "58d02964",
   "metadata": {},
   "outputs": [],
   "source": [
    "# 문제 :\n",
    "- test 정확도를 출력하시오\n",
    "- test 데이터의 앞의 5장을 취하고 이미지를 출력하고 그에 대한 예측된 번호를 출력하시오"
   ]
  },
  {
   "cell_type": "code",
   "execution_count": 113,
   "id": "5986c18f",
   "metadata": {},
   "outputs": [],
   "source": [
    "aaa = []"
   ]
  },
  {
   "cell_type": "code",
   "execution_count": 122,
   "id": "adbb953c",
   "metadata": {},
   "outputs": [
    {
     "name": "stdout",
     "output_type": "stream",
     "text": [
      "accuracy: 0.933000\n"
     ]
    }
   ],
   "source": [
    "pred = logistic_regression(x_test)\n",
    "print(\"accuracy: %f\" %accuracy(pred,y_test))"
   ]
  },
  {
   "cell_type": "code",
   "execution_count": 123,
   "id": "94b791d8",
   "metadata": {},
   "outputs": [
    {
     "data": {
      "image/png": "[encoded data removed]",
      "text/plain": [
       "<Figure size 432x288 with 1 Axes>"
      ]
     },
     "metadata": {
      "needs_background": "light"
     },
     "output_type": "display_data"
    },
    {
     "name": "stdout",
     "output_type": "stream",
     "text": [
      "모델 예측 결과 : 7 \n"
     ]
    },
    {
     "data": {
      "image/png": "[encoded data removed]",
      "text/plain": [
       "<Figure size 432x288 with 1 Axes>"
      ]
     },
     "metadata": {
      "needs_background": "light"
     },
     "output_type": "display_data"
    },
    {
     "name": "stdout",
     "output_type": "stream",
     "text": [
      "모델 예측 결과 : 2 \n"
     ]
    },
    {
     "data": {
      "image/png": "[encoded data removed]",
      "text/plain": [
       "<Figure size 432x288 with 1 Axes>"
      ]
     },
     "metadata": {
      "needs_background": "light"
     },
     "output_type": "display_data"
    },
    {
     "name": "stdout",
     "output_type": "stream",
     "text": [
      "모델 예측 결과 : 1 \n"
     ]
    },
    {
     "data": {
      "image/png": "[encoded data removed]",
      "text/plain": [
       "<Figure size 432x288 with 1 Axes>"
      ]
     },
     "metadata": {
      "needs_background": "light"
     },
     "output_type": "display_data"
    },
    {
     "name": "stdout",
     "output_type": "stream",
     "text": [
      "모델 예측 결과 : 0 \n"
     ]
    },
    {
     "data": {
      "image/png": "[encoded data removed]",
      "text/plain": [
       "<Figure size 432x288 with 1 Axes>"
      ]
     },
     "metadata": {
      "needs_background": "light"
     },
     "output_type": "display_data"
    },
    {
     "name": "stdout",
     "output_type": "stream",
     "text": [
      "모델 예측 결과 : 4 \n"
     ]
    }
   ],
   "source": [
    "n_images = 5\n",
    "test_images = x_test[:n_images]\n",
    "predictions = logistic_regression(test_images)\n",
    "\n",
    "for i in range(n_images):\n",
    "    plt.imshow(np.reshape(test_images[i], [28,28]), cmap='gray')\n",
    "    plt.show()\n",
    "    print(\"모델 예측 결과 : %i \" % tf.argmax(predictions[i]))"
   ]
  },
  {
   "cell_type": "code",
   "execution_count": 130,
   "id": "3d19cc5f",
   "metadata": {},
   "outputs": [
    {
     "data": {
      "text/plain": [
       "Text(0, 0.5, 'Loss [entroy]')"
      ]
     },
     "execution_count": 130,
     "metadata": {},
     "output_type": "execute_result"
    },
    {
     "data": {
      "image/png": "[encoded data removed]",
      "text/plain": [
       "<Figure size 432x288 with 1 Axes>"
      ]
     },
     "metadata": {
      "needs_background": "light"
     },
     "output_type": "display_data"
    }
   ],
   "source": [
    "plt.plot(loss_history)\n",
    "plt.xlabel(\"Batch #\")\n",
    "plt.ylabel('Loss [entroy]')"
   ]
  },
  {
   "cell_type": "code",
   "execution_count": 18,
   "id": "fccedcaf",
   "metadata": {},
   "outputs": [],
   "source": [
    "from tensorflow.keras.models import Sequential\n",
    "from tensorflow.keras.layers import Dense\n",
    "from sklearn.preprocessing import LabelEncoder\n",
    "import tensorflow as tf\n",
    "import numpy\n",
    "import pandas as pd\n",
    "\n",
    "numpy.random.seed(3)\n",
    "tf.random.set_seed(3)\n",
    "df = pd.read_csv('./sonar.csv', header=None)"
   ]
  },
  {
   "cell_type": "code",
   "execution_count": 19,
   "id": "645cce8c",
   "metadata": {},
   "outputs": [
    {
     "name": "stdout",
     "output_type": "stream",
     "text": [
      "Epoch 1/200\n",
      "42/42 [==============================] - 0s 693us/step - loss: 0.2432 - accuracy: 0.5865\n",
      "Epoch 2/200\n",
      "42/42 [==============================] - 0s 690us/step - loss: 0.2288 - accuracy: 0.6394\n",
      "Epoch 3/200\n",
      "42/42 [==============================] - 0s 690us/step - loss: 0.2187 - accuracy: 0.6490\n",
      "Epoch 4/200\n",
      "42/42 [==============================] - 0s 738us/step - loss: 0.2031 - accuracy: 0.7260\n",
      "Epoch 5/200\n",
      "42/42 [==============================] - 0s 738us/step - loss: 0.1893 - accuracy: 0.7692\n",
      "Epoch 6/200\n",
      "42/42 [==============================] - 0s 738us/step - loss: 0.1802 - accuracy: 0.7596\n",
      "Epoch 7/200\n",
      "42/42 [==============================] - 0s 690us/step - loss: 0.1677 - accuracy: 0.7740\n",
      "Epoch 8/200\n",
      "42/42 [==============================] - 0s 714us/step - loss: 0.1590 - accuracy: 0.7837\n",
      "Epoch 9/200\n",
      "42/42 [==============================] - 0s 690us/step - loss: 0.1558 - accuracy: 0.7885\n",
      "Epoch 10/200\n",
      "42/42 [==============================] - 0s 714us/step - loss: 0.1483 - accuracy: 0.7788\n",
      "Epoch 11/200\n",
      "42/42 [==============================] - 0s 691us/step - loss: 0.1467 - accuracy: 0.7933\n",
      "Epoch 12/200\n",
      "42/42 [==============================] - 0s 714us/step - loss: 0.1380 - accuracy: 0.8029\n",
      "Epoch 13/200\n",
      "42/42 [==============================] - 0s 714us/step - loss: 0.1346 - accuracy: 0.8173\n",
      "Epoch 14/200\n",
      "42/42 [==============================] - 0s 714us/step - loss: 0.1329 - accuracy: 0.8077\n",
      "Epoch 15/200\n",
      "42/42 [==============================] - 0s 752us/step - loss: 0.1291 - accuracy: 0.8077\n",
      "Epoch 16/200\n",
      "42/42 [==============================] - 0s 691us/step - loss: 0.1317 - accuracy: 0.8269\n",
      "Epoch 17/200\n",
      "42/42 [==============================] - 0s 690us/step - loss: 0.1242 - accuracy: 0.8462\n",
      "Epoch 18/200\n",
      "42/42 [==============================] - 0s 693us/step - loss: 0.1227 - accuracy: 0.8269\n",
      "Epoch 19/200\n",
      "42/42 [==============================] - 0s 725us/step - loss: 0.1251 - accuracy: 0.8317\n",
      "Epoch 20/200\n",
      "42/42 [==============================] - 0s 714us/step - loss: 0.1202 - accuracy: 0.8269\n",
      "Epoch 21/200\n",
      "42/42 [==============================] - 0s 714us/step - loss: 0.1159 - accuracy: 0.8365\n",
      "Epoch 22/200\n",
      "42/42 [==============================] - 0s 738us/step - loss: 0.1163 - accuracy: 0.8462\n",
      "Epoch 23/200\n",
      "42/42 [==============================] - 0s 714us/step - loss: 0.1109 - accuracy: 0.8606\n",
      "Epoch 24/200\n",
      "42/42 [==============================] - 0s 738us/step - loss: 0.1103 - accuracy: 0.8654\n",
      "Epoch 25/200\n",
      "42/42 [==============================] - 0s 714us/step - loss: 0.1097 - accuracy: 0.8462\n",
      "Epoch 26/200\n",
      "42/42 [==============================] - 0s 691us/step - loss: 0.1073 - accuracy: 0.8462\n",
      "Epoch 27/200\n",
      "42/42 [==============================] - 0s 715us/step - loss: 0.1118 - accuracy: 0.8413\n",
      "Epoch 28/200\n",
      "42/42 [==============================] - 0s 738us/step - loss: 0.1085 - accuracy: 0.8702\n",
      "Epoch 29/200\n",
      "42/42 [==============================] - 0s 714us/step - loss: 0.1022 - accuracy: 0.8846\n",
      "Epoch 30/200\n",
      "42/42 [==============================] - 0s 691us/step - loss: 0.0992 - accuracy: 0.8846\n",
      "Epoch 31/200\n",
      "42/42 [==============================] - 0s 690us/step - loss: 0.0968 - accuracy: 0.8798\n",
      "Epoch 32/200\n",
      "42/42 [==============================] - 0s 666us/step - loss: 0.1024 - accuracy: 0.8654\n",
      "Epoch 33/200\n",
      "42/42 [==============================] - 0s 667us/step - loss: 0.0904 - accuracy: 0.8990\n",
      "Epoch 34/200\n",
      "42/42 [==============================] - 0s 691us/step - loss: 0.0975 - accuracy: 0.8558\n",
      "Epoch 35/200\n",
      "42/42 [==============================] - 0s 690us/step - loss: 0.0942 - accuracy: 0.8654\n",
      "Epoch 36/200\n",
      "42/42 [==============================] - 0s 666us/step - loss: 0.0917 - accuracy: 0.8990\n",
      "Epoch 37/200\n",
      "42/42 [==============================] - 0s 691us/step - loss: 0.0902 - accuracy: 0.8990\n",
      "Epoch 38/200\n",
      "42/42 [==============================] - 0s 643us/step - loss: 0.0917 - accuracy: 0.8846\n",
      "Epoch 39/200\n",
      "42/42 [==============================] - 0s 667us/step - loss: 0.0837 - accuracy: 0.8990\n",
      "Epoch 40/200\n",
      "42/42 [==============================] - 0s 666us/step - loss: 0.0822 - accuracy: 0.9087\n",
      "Epoch 41/200\n",
      "42/42 [==============================] - 0s 691us/step - loss: 0.0852 - accuracy: 0.8846\n",
      "Epoch 42/200\n",
      "42/42 [==============================] - 0s 667us/step - loss: 0.0795 - accuracy: 0.9135\n",
      "Epoch 43/200\n",
      "42/42 [==============================] - 0s 690us/step - loss: 0.0821 - accuracy: 0.8990\n",
      "Epoch 44/200\n",
      "42/42 [==============================] - 0s 643us/step - loss: 0.0823 - accuracy: 0.9279\n",
      "Epoch 45/200\n",
      "42/42 [==============================] - 0s 667us/step - loss: 0.0790 - accuracy: 0.9038\n",
      "Epoch 46/200\n",
      "42/42 [==============================] - 0s 643us/step - loss: 0.0739 - accuracy: 0.9327\n",
      "Epoch 47/200\n",
      "42/42 [==============================] - 0s 643us/step - loss: 0.0722 - accuracy: 0.9135\n",
      "Epoch 48/200\n",
      "42/42 [==============================] - 0s 643us/step - loss: 0.0709 - accuracy: 0.9279\n",
      "Epoch 49/200\n",
      "42/42 [==============================] - 0s 666us/step - loss: 0.0715 - accuracy: 0.9183\n",
      "Epoch 50/200\n",
      "42/42 [==============================] - 0s 643us/step - loss: 0.0720 - accuracy: 0.9231\n",
      "Epoch 51/200\n",
      "42/42 [==============================] - 0s 643us/step - loss: 0.0670 - accuracy: 0.9327\n",
      "Epoch 52/200\n",
      "42/42 [==============================] - 0s 690us/step - loss: 0.0649 - accuracy: 0.9327\n",
      "Epoch 53/200\n",
      "42/42 [==============================] - 0s 667us/step - loss: 0.0705 - accuracy: 0.9183\n",
      "Epoch 54/200\n",
      "42/42 [==============================] - 0s 738us/step - loss: 0.0639 - accuracy: 0.9327\n",
      "Epoch 55/200\n",
      "42/42 [==============================] - 0s 691us/step - loss: 0.0649 - accuracy: 0.9327\n",
      "Epoch 56/200\n",
      "42/42 [==============================] - 0s 691us/step - loss: 0.0627 - accuracy: 0.9423\n",
      "Epoch 57/200\n",
      "42/42 [==============================] - 0s 690us/step - loss: 0.0580 - accuracy: 0.9519\n",
      "Epoch 58/200\n",
      "42/42 [==============================] - 0s 714us/step - loss: 0.0590 - accuracy: 0.9423\n",
      "Epoch 59/200\n",
      "42/42 [==============================] - 0s 738us/step - loss: 0.0588 - accuracy: 0.9327\n",
      "Epoch 60/200\n",
      "42/42 [==============================] - 0s 738us/step - loss: 0.0586 - accuracy: 0.9375\n",
      "Epoch 61/200\n",
      "42/42 [==============================] - 0s 690us/step - loss: 0.0560 - accuracy: 0.9375\n",
      "Epoch 62/200\n",
      "42/42 [==============================] - 0s 714us/step - loss: 0.0569 - accuracy: 0.9423\n",
      "Epoch 63/200\n",
      "42/42 [==============================] - 0s 690us/step - loss: 0.0523 - accuracy: 0.9423\n",
      "Epoch 64/200\n",
      "42/42 [==============================] - 0s 643us/step - loss: 0.0526 - accuracy: 0.9471\n",
      "Epoch 65/200\n",
      "42/42 [==============================] - 0s 690us/step - loss: 0.0484 - accuracy: 0.9615\n",
      "Epoch 66/200\n",
      "42/42 [==============================] - 0s 715us/step - loss: 0.0486 - accuracy: 0.9567\n",
      "Epoch 67/200\n",
      "42/42 [==============================] - 0s 720us/step - loss: 0.0523 - accuracy: 0.9471\n",
      "Epoch 68/200\n",
      "42/42 [==============================] - 0s 734us/step - loss: 0.0459 - accuracy: 0.9663\n",
      "Epoch 69/200\n",
      "42/42 [==============================] - 0s 717us/step - loss: 0.0480 - accuracy: 0.9615\n",
      "Epoch 70/200\n",
      "42/42 [==============================] - 0s 695us/step - loss: 0.0453 - accuracy: 0.9567\n",
      "Epoch 71/200\n",
      "42/42 [==============================] - 0s 701us/step - loss: 0.0456 - accuracy: 0.9519\n",
      "Epoch 72/200\n",
      "42/42 [==============================] - 0s 738us/step - loss: 0.0440 - accuracy: 0.9663\n",
      "Epoch 73/200\n",
      "42/42 [==============================] - 0s 764us/step - loss: 0.0445 - accuracy: 0.9567\n",
      "Epoch 74/200\n",
      "42/42 [==============================] - 0s 738us/step - loss: 0.0439 - accuracy: 0.9567\n",
      "Epoch 75/200\n",
      "42/42 [==============================] - 0s 786us/step - loss: 0.0427 - accuracy: 0.9663\n",
      "Epoch 76/200\n",
      "42/42 [==============================] - 0s 697us/step - loss: 0.0458 - accuracy: 0.9519\n",
      "Epoch 77/200\n",
      "42/42 [==============================] - 0s 764us/step - loss: 0.0397 - accuracy: 0.9712\n",
      "Epoch 78/200\n",
      "42/42 [==============================] - 0s 719us/step - loss: 0.0390 - accuracy: 0.9712\n",
      "Epoch 79/200\n",
      "42/42 [==============================] - 0s 762us/step - loss: 0.0405 - accuracy: 0.9663\n",
      "Epoch 80/200\n",
      "42/42 [==============================] - 0s 714us/step - loss: 0.0360 - accuracy: 0.9663\n",
      "Epoch 81/200\n",
      "42/42 [==============================] - 0s 715us/step - loss: 0.0378 - accuracy: 0.9615\n",
      "Epoch 82/200\n",
      "42/42 [==============================] - 0s 738us/step - loss: 0.0396 - accuracy: 0.9567\n",
      "Epoch 83/200\n",
      "42/42 [==============================] - 0s 738us/step - loss: 0.0357 - accuracy: 0.9712\n",
      "Epoch 84/200\n",
      "42/42 [==============================] - 0s 726us/step - loss: 0.0356 - accuracy: 0.9663\n",
      "Epoch 85/200\n",
      "42/42 [==============================] - 0s 768us/step - loss: 0.0349 - accuracy: 0.9567\n",
      "Epoch 86/200\n",
      "42/42 [==============================] - 0s 725us/step - loss: 0.0347 - accuracy: 0.9712\n",
      "Epoch 87/200\n",
      "42/42 [==============================] - 0s 758us/step - loss: 0.0320 - accuracy: 0.9760\n",
      "Epoch 88/200\n",
      "42/42 [==============================] - 0s 743us/step - loss: 0.0381 - accuracy: 0.9615\n",
      "Epoch 89/200\n",
      "42/42 [==============================] - 0s 762us/step - loss: 0.0312 - accuracy: 0.9760\n",
      "Epoch 90/200\n",
      "42/42 [==============================] - 0s 714us/step - loss: 0.0332 - accuracy: 0.9760\n",
      "Epoch 91/200\n",
      "42/42 [==============================] - 0s 734us/step - loss: 0.0312 - accuracy: 0.9760\n",
      "Epoch 92/200\n",
      "42/42 [==============================] - 0s 690us/step - loss: 0.0329 - accuracy: 0.9663\n",
      "Epoch 93/200\n",
      "42/42 [==============================] - 0s 691us/step - loss: 0.0300 - accuracy: 0.9808\n",
      "Epoch 94/200\n",
      "42/42 [==============================] - 0s 712us/step - loss: 0.0285 - accuracy: 0.9808\n",
      "Epoch 95/200\n",
      "42/42 [==============================] - 0s 744us/step - loss: 0.0292 - accuracy: 0.9712\n",
      "Epoch 96/200\n",
      "42/42 [==============================] - 0s 738us/step - loss: 0.0284 - accuracy: 0.9808\n",
      "Epoch 97/200\n",
      "42/42 [==============================] - 0s 691us/step - loss: 0.0322 - accuracy: 0.9663\n",
      "Epoch 98/200\n",
      "42/42 [==============================] - 0s 775us/step - loss: 0.0301 - accuracy: 0.9760\n",
      "Epoch 99/200\n",
      "42/42 [==============================] - 0s 690us/step - loss: 0.0292 - accuracy: 0.9856\n",
      "Epoch 100/200\n",
      "42/42 [==============================] - 0s 738us/step - loss: 0.0257 - accuracy: 0.9808\n",
      "Epoch 101/200\n",
      "42/42 [==============================] - 0s 746us/step - loss: 0.0250 - accuracy: 0.9760\n",
      "Epoch 102/200\n",
      "42/42 [==============================] - 0s 705us/step - loss: 0.0248 - accuracy: 0.9808\n",
      "Epoch 103/200\n",
      "42/42 [==============================] - 0s 714us/step - loss: 0.0265 - accuracy: 0.9760\n",
      "Epoch 104/200\n",
      "42/42 [==============================] - 0s 714us/step - loss: 0.0298 - accuracy: 0.9760\n",
      "Epoch 105/200\n",
      "42/42 [==============================] - 0s 730us/step - loss: 0.0242 - accuracy: 0.9808\n",
      "Epoch 106/200\n",
      "42/42 [==============================] - 0s 738us/step - loss: 0.0271 - accuracy: 0.9808\n",
      "Epoch 107/200\n",
      "42/42 [==============================] - 0s 738us/step - loss: 0.0236 - accuracy: 0.9808\n",
      "Epoch 108/200\n",
      "42/42 [==============================] - 0s 762us/step - loss: 0.0257 - accuracy: 0.9760\n",
      "Epoch 109/200\n",
      "42/42 [==============================] - 0s 690us/step - loss: 0.0252 - accuracy: 0.9663\n",
      "Epoch 110/200\n",
      "42/42 [==============================] - 0s 714us/step - loss: 0.0230 - accuracy: 0.9760\n",
      "Epoch 111/200\n",
      "42/42 [==============================] - 0s 667us/step - loss: 0.0206 - accuracy: 0.9856\n",
      "Epoch 112/200\n",
      "42/42 [==============================] - 0s 690us/step - loss: 0.0204 - accuracy: 0.9808\n",
      "Epoch 113/200\n",
      "42/42 [==============================] - 0s 666us/step - loss: 0.0198 - accuracy: 0.9856\n",
      "Epoch 114/200\n",
      "42/42 [==============================] - 0s 714us/step - loss: 0.0203 - accuracy: 0.9808\n",
      "Epoch 115/200\n",
      "42/42 [==============================] - 0s 755us/step - loss: 0.0188 - accuracy: 0.9856\n",
      "Epoch 116/200\n",
      "42/42 [==============================] - 0s 723us/step - loss: 0.0204 - accuracy: 0.9856\n",
      "Epoch 117/200\n",
      "42/42 [==============================] - 0s 699us/step - loss: 0.0265 - accuracy: 0.9712\n",
      "Epoch 118/200\n",
      "42/42 [==============================] - 0s 706us/step - loss: 0.0184 - accuracy: 0.9904\n",
      "Epoch 119/200\n",
      "42/42 [==============================] - 0s 714us/step - loss: 0.0186 - accuracy: 0.9856\n",
      "Epoch 120/200\n",
      "42/42 [==============================] - 0s 690us/step - loss: 0.0172 - accuracy: 0.9904\n",
      "Epoch 121/200\n",
      "42/42 [==============================] - 0s 643us/step - loss: 0.0160 - accuracy: 0.9904\n",
      "Epoch 122/200\n",
      "42/42 [==============================] - 0s 643us/step - loss: 0.0151 - accuracy: 0.9856\n",
      "Epoch 123/200\n",
      "42/42 [==============================] - 0s 690us/step - loss: 0.0166 - accuracy: 0.9904\n",
      "Epoch 124/200\n",
      "42/42 [==============================] - 0s 667us/step - loss: 0.0197 - accuracy: 0.9856\n",
      "Epoch 125/200\n",
      "42/42 [==============================] - 0s 643us/step - loss: 0.0141 - accuracy: 0.9904\n",
      "Epoch 126/200\n",
      "42/42 [==============================] - 0s 690us/step - loss: 0.0159 - accuracy: 0.9952\n",
      "Epoch 127/200\n",
      "42/42 [==============================] - 0s 691us/step - loss: 0.0147 - accuracy: 0.9904\n",
      "Epoch 128/200\n",
      "42/42 [==============================] - 0s 738us/step - loss: 0.0137 - accuracy: 0.9856\n",
      "Epoch 129/200\n",
      "42/42 [==============================] - 0s 738us/step - loss: 0.0128 - accuracy: 0.9952\n",
      "Epoch 130/200\n",
      "42/42 [==============================] - 0s 667us/step - loss: 0.0139 - accuracy: 0.9904\n",
      "Epoch 131/200\n",
      "42/42 [==============================] - 0s 690us/step - loss: 0.0129 - accuracy: 0.9904\n",
      "Epoch 132/200\n",
      "42/42 [==============================] - 0s 690us/step - loss: 0.0129 - accuracy: 0.9904\n",
      "Epoch 133/200\n",
      "42/42 [==============================] - 0s 738us/step - loss: 0.0142 - accuracy: 0.9856\n",
      "Epoch 134/200\n",
      "42/42 [==============================] - 0s 733us/step - loss: 0.0142 - accuracy: 0.9904\n",
      "Epoch 135/200\n",
      "42/42 [==============================] - 0s 714us/step - loss: 0.0125 - accuracy: 0.9904\n",
      "Epoch 136/200\n",
      "42/42 [==============================] - 0s 669us/step - loss: 0.0110 - accuracy: 0.9952\n",
      "Epoch 137/200\n",
      "42/42 [==============================] - 0s 733us/step - loss: 0.0105 - accuracy: 0.9952\n",
      "Epoch 138/200\n",
      "42/42 [==============================] - 0s 667us/step - loss: 0.0110 - accuracy: 0.9952\n",
      "Epoch 139/200\n",
      "42/42 [==============================] - 0s 691us/step - loss: 0.0111 - accuracy: 0.9952\n",
      "Epoch 140/200\n",
      "42/42 [==============================] - 0s 667us/step - loss: 0.0115 - accuracy: 0.9952\n",
      "Epoch 141/200\n",
      "42/42 [==============================] - 0s 667us/step - loss: 0.0116 - accuracy: 0.9904\n",
      "Epoch 142/200\n",
      "42/42 [==============================] - 0s 667us/step - loss: 0.0115 - accuracy: 0.9904\n",
      "Epoch 143/200\n",
      "42/42 [==============================] - 0s 619us/step - loss: 0.0107 - accuracy: 0.9952\n",
      "Epoch 144/200\n",
      "42/42 [==============================] - 0s 667us/step - loss: 0.0113 - accuracy: 0.9952\n",
      "Epoch 145/200\n",
      "42/42 [==============================] - 0s 667us/step - loss: 0.0160 - accuracy: 0.9856\n",
      "Epoch 146/200\n",
      "42/42 [==============================] - 0s 691us/step - loss: 0.0110 - accuracy: 0.9952\n",
      "Epoch 147/200\n",
      "42/42 [==============================] - 0s 691us/step - loss: 0.0086 - accuracy: 0.9952\n",
      "Epoch 148/200\n",
      "42/42 [==============================] - 0s 714us/step - loss: 0.0094 - accuracy: 0.9952\n",
      "Epoch 149/200\n",
      "42/42 [==============================] - 0s 714us/step - loss: 0.0088 - accuracy: 0.9952\n",
      "Epoch 150/200\n",
      "42/42 [==============================] - 0s 714us/step - loss: 0.0089 - accuracy: 0.9952\n",
      "Epoch 151/200\n",
      "42/42 [==============================] - 0s 714us/step - loss: 0.0083 - accuracy: 0.9952\n",
      "Epoch 152/200\n",
      "42/42 [==============================] - 0s 718us/step - loss: 0.0089 - accuracy: 0.9952\n",
      "Epoch 153/200\n",
      "42/42 [==============================] - 0s 714us/step - loss: 0.0081 - accuracy: 0.9952\n",
      "Epoch 154/200\n",
      "42/42 [==============================] - 0s 714us/step - loss: 0.0080 - accuracy: 0.9952\n",
      "Epoch 155/200\n",
      "42/42 [==============================] - 0s 714us/step - loss: 0.0079 - accuracy: 0.9952\n",
      "Epoch 156/200\n",
      "42/42 [==============================] - 0s 714us/step - loss: 0.0079 - accuracy: 0.9952\n",
      "Epoch 157/200\n",
      "42/42 [==============================] - 0s 714us/step - loss: 0.0081 - accuracy: 0.9952\n",
      "Epoch 158/200\n",
      "42/42 [==============================] - 0s 714us/step - loss: 0.0085 - accuracy: 0.9952\n",
      "Epoch 159/200\n",
      "42/42 [==============================] - 0s 714us/step - loss: 0.0077 - accuracy: 0.9952\n",
      "Epoch 160/200\n"
     ]
    },
    {
     "name": "stdout",
     "output_type": "stream",
     "text": [
      "42/42 [==============================] - 0s 715us/step - loss: 0.0073 - accuracy: 0.9952\n",
      "Epoch 161/200\n",
      "42/42 [==============================] - 0s 714us/step - loss: 0.0076 - accuracy: 0.9952\n",
      "Epoch 162/200\n",
      "42/42 [==============================] - 0s 714us/step - loss: 0.0071 - accuracy: 0.9952\n",
      "Epoch 163/200\n",
      "42/42 [==============================] - 0s 690us/step - loss: 0.0099 - accuracy: 0.9952\n",
      "Epoch 164/200\n",
      "42/42 [==============================] - 0s 717us/step - loss: 0.0088 - accuracy: 0.9952\n",
      "Epoch 165/200\n",
      "42/42 [==============================] - 0s 714us/step - loss: 0.0073 - accuracy: 0.9952\n",
      "Epoch 166/200\n",
      "42/42 [==============================] - 0s 733us/step - loss: 0.0073 - accuracy: 0.9952\n",
      "Epoch 167/200\n",
      "42/42 [==============================] - 0s 714us/step - loss: 0.0070 - accuracy: 0.9952\n",
      "Epoch 168/200\n",
      "42/42 [==============================] - 0s 714us/step - loss: 0.0079 - accuracy: 0.9952\n",
      "Epoch 169/200\n",
      "42/42 [==============================] - 0s 686us/step - loss: 0.0068 - accuracy: 0.9952\n",
      "Epoch 170/200\n",
      "42/42 [==============================] - 0s 718us/step - loss: 0.0064 - accuracy: 0.9952\n",
      "Epoch 171/200\n",
      "42/42 [==============================] - 0s 695us/step - loss: 0.0065 - accuracy: 0.9952\n",
      "Epoch 172/200\n",
      "42/42 [==============================] - 0s 738us/step - loss: 0.0063 - accuracy: 0.9952\n",
      "Epoch 173/200\n",
      "42/42 [==============================] - 0s 714us/step - loss: 0.0063 - accuracy: 0.9952\n",
      "Epoch 174/200\n",
      "42/42 [==============================] - 0s 767us/step - loss: 0.0062 - accuracy: 0.9952\n",
      "Epoch 175/200\n",
      "42/42 [==============================] - 0s 727us/step - loss: 0.0066 - accuracy: 0.9952\n",
      "Epoch 176/200\n",
      "42/42 [==============================] - 0s 728us/step - loss: 0.0068 - accuracy: 0.9952\n",
      "Epoch 177/200\n",
      "42/42 [==============================] - 0s 738us/step - loss: 0.0063 - accuracy: 0.9952\n",
      "Epoch 178/200\n",
      "42/42 [==============================] - 0s 714us/step - loss: 0.0062 - accuracy: 0.9952\n",
      "Epoch 179/200\n",
      "42/42 [==============================] - 0s 714us/step - loss: 0.0062 - accuracy: 0.9952\n",
      "Epoch 180/200\n",
      "42/42 [==============================] - 0s 714us/step - loss: 0.0062 - accuracy: 0.9952\n",
      "Epoch 181/200\n",
      "42/42 [==============================] - 0s 714us/step - loss: 0.0060 - accuracy: 0.9952\n",
      "Epoch 182/200\n",
      "42/42 [==============================] - 0s 667us/step - loss: 0.0059 - accuracy: 0.9952\n",
      "Epoch 183/200\n",
      "42/42 [==============================] - 0s 690us/step - loss: 0.0060 - accuracy: 0.9952\n",
      "Epoch 184/200\n",
      "42/42 [==============================] - 0s 691us/step - loss: 0.0060 - accuracy: 0.9952\n",
      "Epoch 185/200\n",
      "42/42 [==============================] - 0s 690us/step - loss: 0.0059 - accuracy: 0.9952\n",
      "Epoch 186/200\n",
      "42/42 [==============================] - 0s 690us/step - loss: 0.0059 - accuracy: 0.9952\n",
      "Epoch 187/200\n",
      "42/42 [==============================] - 0s 690us/step - loss: 0.0059 - accuracy: 0.9952\n",
      "Epoch 188/200\n",
      "42/42 [==============================] - 0s 691us/step - loss: 0.0058 - accuracy: 0.9952\n",
      "Epoch 189/200\n",
      "42/42 [==============================] - 0s 643us/step - loss: 0.0059 - accuracy: 0.9952\n",
      "Epoch 190/200\n",
      "42/42 [==============================] - 0s 667us/step - loss: 0.0058 - accuracy: 0.9952\n",
      "Epoch 191/200\n",
      "42/42 [==============================] - 0s 619us/step - loss: 0.0057 - accuracy: 0.9952\n",
      "Epoch 192/200\n",
      "42/42 [==============================] - 0s 643us/step - loss: 0.0057 - accuracy: 0.9952\n",
      "Epoch 193/200\n",
      "42/42 [==============================] - 0s 619us/step - loss: 0.0062 - accuracy: 0.9952\n",
      "Epoch 194/200\n",
      "42/42 [==============================] - 0s 667us/step - loss: 0.0058 - accuracy: 0.9952\n",
      "Epoch 195/200\n",
      "42/42 [==============================] - 0s 691us/step - loss: 0.0057 - accuracy: 0.9952\n",
      "Epoch 196/200\n",
      "42/42 [==============================] - 0s 691us/step - loss: 0.0056 - accuracy: 0.9952\n",
      "Epoch 197/200\n",
      "42/42 [==============================] - 0s 691us/step - loss: 0.0055 - accuracy: 0.9952\n",
      "Epoch 198/200\n",
      "42/42 [==============================] - 0s 714us/step - loss: 0.0056 - accuracy: 0.9952\n",
      "Epoch 199/200\n",
      "42/42 [==============================] - 0s 714us/step - loss: 0.0054 - accuracy: 0.9952\n",
      "Epoch 200/200\n",
      "42/42 [==============================] - 0s 690us/step - loss: 0.0054 - accuracy: 0.9952\n",
      "7/7 [==============================] - 0s 2ms/step - loss: 0.0054 - accuracy: 0.9952\n",
      "\n",
      " Accuracy: 0.9952\n"
     ]
    }
   ],
   "source": [
    "dataset = df.values\n",
    "X = dataset[:,0:60] # 독립 60, 종속 1\n",
    "\n",
    "import numpy as np\n",
    "X = np.asarray(X).astype(np.float32)\n",
    "\n",
    "Y_obj = dataset[:,60] \n",
    "e = LabelEncoder() # R/M 광석 분류 문제\n",
    "e.fit(Y_obj)\n",
    "Y = e.transform(Y_obj)\n",
    "model = Sequential()\n",
    "# 자동으로 가중치 행렬과 바이어스 공간 확보\n",
    "# 공간계산\n",
    "model.add(Dense(24, input_dim=60, activation='relu')) # 60x24 + 24\n",
    "model.add(Dense(10, activation='relu')) # 24x10 + 10\n",
    "model.add(Dense(1, activation='sigmoid')) # 10 x 1\n",
    "model.compile(loss='mean_squared_error',\n",
    "             optimizer='adam',\n",
    "             metrics=['accuracy'])\n",
    "history=model.fit(X, Y, epochs=200, batch_size=5) # for 문\n",
    "print(\"\\n Accuracy: %.4f\" % (model.evaluate(X, Y)[1]))"
   ]
  },
  {
   "cell_type": "code",
   "execution_count": 21,
   "id": "d7cb94c4",
   "metadata": {},
   "outputs": [
    {
     "data": {
      "image/png": "[encoded data removed]",
      "text/plain": [
       "<Figure size 432x288 with 1 Axes>"
      ]
     },
     "metadata": {
      "needs_background": "light"
     },
     "output_type": "display_data"
    }
   ],
   "source": [
    "import matplotlib.pyplot as plt\n",
    "training_loss = history.history['loss']\n",
    "epoch_count = range(1, len(training_loss) + 1)\n",
    "plt.plot(epoch_count, training_loss, 'r--')\n",
    "plt.legend(['Training Loss', 'Test Loss'])\n",
    "plt.xlabel('Epoch')\n",
    "plt.ylabel('Loss')\n",
    "plt.show()"
   ]
  },
  {
   "cell_type": "code",
   "execution_count": 22,
   "id": "d9462ea5",
   "metadata": {},
   "outputs": [
    {
     "data": {
      "image/png": "[encoded data removed]",
      "text/plain": [
       "<Figure size 432x288 with 1 Axes>"
      ]
     },
     "metadata": {
      "needs_background": "light"
     },
     "output_type": "display_data"
    }
   ],
   "source": [
    "training_accuracy = history.history['accuracy']\n",
    "epoch_count = range(1, len(training_accuracy) + 1)\n",
    "plt.plot(epoch_count, training_accuracy, 'r--')\n",
    "plt.legend(['Training accuracy'])\n",
    "plt.xlabel('Epoch')\n",
    "plt.ylabel('accuracy')\n",
    "plt.show()"
   ]
  },
  {
   "cell_type": "code",
   "execution_count": 23,
   "id": "20ba6181",
   "metadata": {},
   "outputs": [
    {
     "ename": "AttributeError",
     "evalue": "'str' object has no attribute 'decode'",
     "output_type": "error",
     "traceback": [
      "\u001b[1;31m---------------------------------------------------------------------------\u001b[0m",
      "\u001b[1;31mAttributeError\u001b[0m                            Traceback (most recent call last)",
      "\u001b[1;32m<ipython-input-23-54365934c6d5>\u001b[0m in \u001b[0;36m<module>\u001b[1;34m\u001b[0m\n\u001b[0;32m      2\u001b[0m \u001b[1;32mfrom\u001b[0m \u001b[0mtensorflow\u001b[0m\u001b[1;33m.\u001b[0m\u001b[0mkeras\u001b[0m\u001b[1;33m.\u001b[0m\u001b[0mmodels\u001b[0m \u001b[1;32mimport\u001b[0m \u001b[0mload_model\u001b[0m\u001b[1;33m\u001b[0m\u001b[1;33m\u001b[0m\u001b[0m\n\u001b[0;32m      3\u001b[0m \u001b[1;32mdel\u001b[0m \u001b[0mmodel\u001b[0m\u001b[1;33m\u001b[0m\u001b[1;33m\u001b[0m\u001b[0m\n\u001b[1;32m----> 4\u001b[1;33m \u001b[0mmodel\u001b[0m \u001b[1;33m=\u001b[0m \u001b[0mload_model\u001b[0m\u001b[1;33m(\u001b[0m\u001b[1;34m'my_model.h5'\u001b[0m\u001b[1;33m)\u001b[0m\u001b[1;33m\u001b[0m\u001b[1;33m\u001b[0m\u001b[0m\n\u001b[0m\u001b[0;32m      5\u001b[0m \u001b[0mprint\u001b[0m\u001b[1;33m(\u001b[0m\u001b[1;34m\"\\n Test Accuracy: %.4f\"\u001b[0m \u001b[1;33m%\u001b[0m \u001b[1;33m(\u001b[0m\u001b[0mmodel\u001b[0m\u001b[1;33m.\u001b[0m\u001b[0mevaluate\u001b[0m\u001b[1;33m(\u001b[0m\u001b[0mX_test\u001b[0m\u001b[1;33m,\u001b[0m \u001b[0mY_test\u001b[0m\u001b[1;33m)\u001b[0m\u001b[1;33m[\u001b[0m\u001b[1;36m1\u001b[0m\u001b[1;33m]\u001b[0m\u001b[1;33m)\u001b[0m\u001b[1;33m)\u001b[0m\u001b[1;33m\u001b[0m\u001b[1;33m\u001b[0m\u001b[0m\n",
      "\u001b[1;32m~\\anaconda3\\lib\\site-packages\\tensorflow\\python\\keras\\saving\\save.py\u001b[0m in \u001b[0;36mload_model\u001b[1;34m(filepath, custom_objects, compile)\u001b[0m\n\u001b[0;32m    182\u001b[0m     if (h5py is not None and (\n\u001b[0;32m    183\u001b[0m         isinstance(filepath, h5py.File) or h5py.is_hdf5(filepath))):\n\u001b[1;32m--> 184\u001b[1;33m       \u001b[1;32mreturn\u001b[0m \u001b[0mhdf5_format\u001b[0m\u001b[1;33m.\u001b[0m\u001b[0mload_model_from_hdf5\u001b[0m\u001b[1;33m(\u001b[0m\u001b[0mfilepath\u001b[0m\u001b[1;33m,\u001b[0m \u001b[0mcustom_objects\u001b[0m\u001b[1;33m,\u001b[0m \u001b[0mcompile\u001b[0m\u001b[1;33m)\u001b[0m\u001b[1;33m\u001b[0m\u001b[1;33m\u001b[0m\u001b[0m\n\u001b[0m\u001b[0;32m    185\u001b[0m \u001b[1;33m\u001b[0m\u001b[0m\n\u001b[0;32m    186\u001b[0m     \u001b[1;32mif\u001b[0m \u001b[0msys\u001b[0m\u001b[1;33m.\u001b[0m\u001b[0mversion_info\u001b[0m \u001b[1;33m>=\u001b[0m \u001b[1;33m(\u001b[0m\u001b[1;36m3\u001b[0m\u001b[1;33m,\u001b[0m \u001b[1;36m4\u001b[0m\u001b[1;33m)\u001b[0m \u001b[1;32mand\u001b[0m \u001b[0misinstance\u001b[0m\u001b[1;33m(\u001b[0m\u001b[0mfilepath\u001b[0m\u001b[1;33m,\u001b[0m \u001b[0mpathlib\u001b[0m\u001b[1;33m.\u001b[0m\u001b[0mPath\u001b[0m\u001b[1;33m)\u001b[0m\u001b[1;33m:\u001b[0m\u001b[1;33m\u001b[0m\u001b[1;33m\u001b[0m\u001b[0m\n",
      "\u001b[1;32m~\\anaconda3\\lib\\site-packages\\tensorflow\\python\\keras\\saving\\hdf5_format.py\u001b[0m in \u001b[0;36mload_model_from_hdf5\u001b[1;34m(filepath, custom_objects, compile)\u001b[0m\n\u001b[0;32m    174\u001b[0m     \u001b[1;32mif\u001b[0m \u001b[0mmodel_config\u001b[0m \u001b[1;32mis\u001b[0m \u001b[1;32mNone\u001b[0m\u001b[1;33m:\u001b[0m\u001b[1;33m\u001b[0m\u001b[1;33m\u001b[0m\u001b[0m\n\u001b[0;32m    175\u001b[0m       \u001b[1;32mraise\u001b[0m \u001b[0mValueError\u001b[0m\u001b[1;33m(\u001b[0m\u001b[1;34m'No model found in config file.'\u001b[0m\u001b[1;33m)\u001b[0m\u001b[1;33m\u001b[0m\u001b[1;33m\u001b[0m\u001b[0m\n\u001b[1;32m--> 176\u001b[1;33m     \u001b[0mmodel_config\u001b[0m \u001b[1;33m=\u001b[0m \u001b[0mjson\u001b[0m\u001b[1;33m.\u001b[0m\u001b[0mloads\u001b[0m\u001b[1;33m(\u001b[0m\u001b[0mmodel_config\u001b[0m\u001b[1;33m.\u001b[0m\u001b[0mdecode\u001b[0m\u001b[1;33m(\u001b[0m\u001b[1;34m'utf-8'\u001b[0m\u001b[1;33m)\u001b[0m\u001b[1;33m)\u001b[0m\u001b[1;33m\u001b[0m\u001b[1;33m\u001b[0m\u001b[0m\n\u001b[0m\u001b[0;32m    177\u001b[0m     model = model_config_lib.model_from_config(model_config,\n\u001b[0;32m    178\u001b[0m                                                custom_objects=custom_objects)\n",
      "\u001b[1;31mAttributeError\u001b[0m: 'str' object has no attribute 'decode'"
     ]
    }
   ],
   "source": [
    "model.save('my_model.h5') # HDFS\n",
    "from tensorflow.keras.models import load_model\n",
    "del model\n",
    "model = load_model('my_model.h5')\n",
    "print(\"\\n Test Accuracy: %.4f\" % (model.evaluate(X_test, Y_test)[1]))"
   ]
  },
  {
   "cell_type": "code",
   "execution_count": null,
   "id": "b691c7a2",
   "metadata": {},
   "outputs": [],
   "source": [
    "# keras의 parameter tuning : scikits의 GridSearchCV"
   ]
  },
  {
   "cell_type": "code",
   "execution_count": 7,
   "id": "4349e902",
   "metadata": {},
   "outputs": [
    {
     "name": "stdout",
     "output_type": "stream",
     "text": [
      "결과 평균과 표준편차 : -161.26 (106.23) MSE\n",
      "Standardized: -18.20 (8.71) MSE \n"
     ]
    },
    {
     "data": {
      "text/plain": [
       "array([22.299416, 21.680027, 30.336107, 30.00816 , 30.335745],\n",
       "      dtype=float32)"
      ]
     },
     "execution_count": 7,
     "metadata": {},
     "output_type": "execute_result"
    }
   ],
   "source": [
    "import pandas\n",
    "import numpy\n",
    "from tensorflow.keras.models import Sequential # 순차성\n",
    "from tensorflow.keras.layers import Dense\n",
    "from tensorflow.keras.wrappers.scikit_learn import KerasRegressor # 매핑객체 (keras 모델 -> scikits의 gridserachCV를 사용)\n",
    "from sklearn.model_selection import cross_val_score # 평가\n",
    "from sklearn.model_selection import KFold # cv\n",
    "from sklearn.preprocessing import StandardScaler\n",
    "from sklearn.pipeline import Pipeline\n",
    "from tensorflow.keras.optimizers import Adam\n",
    "dataframe = pandas.read_csv(\"housing.csv\", delim_whitespace=True, header=None)\n",
    "dataset = dataframe.values\n",
    "X = dataset[:,0:13]\n",
    "Y = dataset[:,13]\n",
    "def baseline_model(lr=0.1, beta_1=0.9): # 함수로 모델을 구현\n",
    "    optimizer = Adam(lr=lr, beta_1=beta_1)\n",
    "    model = Sequential()\n",
    "    model.add(Dense(13, input_dim=13, kernel_initializer='normal',\n",
    "                   activation='relu'))\n",
    "    model.add(Dense(1, kernel_initializer='normal'))\n",
    "    \n",
    "    model.compile(loss='mean_squared_error', optimizer=optimizer)\n",
    "    return model\n",
    "seed = 7\n",
    "numpy.random.seed(seed)\n",
    "estimator = KerasRegressor(build_fn=baseline_model, nb_epoch=100, batch_size=5, verbose=0)\n",
    "kfold = KFold(n_splits=10, shuffle=True, random_state=seed)\n",
    "results = cross_val_score(estimator, X, Y, cv=kfold)\n",
    "print(\"결과 평균과 표준편차 : %.2f (%.2f) MSE\" %(results.mean(), results.std()))\n",
    "numpy.random.seed(seed)\n",
    "estimators = []\n",
    "estimators.append(('standardize', StandardScaler())) # 정규화\n",
    "estimators.append(('mlp', KerasRegressor(build_fn=baseline_model, epochs=50, batch_size=5, verbose=0)))\n",
    "pipeline = Pipeline(estimators)\n",
    "kfold = KFold(n_splits=10,shuffle=True, random_state=seed)\n",
    "results = cross_val_score(pipeline, X, Y, cv=kfold)\n",
    "print(\"Standardized: %.2f (%.2f) MSE \" % (results.mean(), results.std()))\n",
    "pipeline.fit(X,Y)\n",
    "pipeline.predict(X[0:5])"
   ]
  },
  {
   "cell_type": "code",
   "execution_count": null,
   "id": "48a4a1fe",
   "metadata": {},
   "outputs": [],
   "source": [
    "from sklearn.model_selection import GridSearchCV\n",
    "batch_size = [10,20,40,60,80,100]\n",
    "epochs = [10,50,100]\n",
    "learning_rate = [0.001,0.01,0.1,0.2,0.3]\n",
    "momentum = [0.5,0.6,0.7,0.8,0.9]\n",
    "param_grid = dict(mlp__batch_size=batch_size, mlp__epochs=epochs, mlp__lr=learing_rate, mlp__beta_1=momentum)\n",
    "grid = GridSearchCV(estimator=pipeline, param_grid=param_grid, n_jobs=-1)\n",
    "grid_result = grid.fit(X, Y)\n",
    "print(\"최적스코어 : %f 사용한 파라미터조합 : %s\" %(grid_result.best_score_, grid_result.best_params_))\n",
    "means = grid_result.cv_results_['mean_test_score']\n",
    "stds = grid_result.cv_results_['std_test_score']\n",
    "params = grid_result.cv_results_['params']\n",
    "for mean, stdev, param in zip(means, stds, params):\n",
    "    print(\"%f (%f) with: %r\" %(mean, stdev, param))"
   ]
  },
  {
   "cell_type": "code",
   "execution_count": 10,
   "id": "c7876462",
   "metadata": {},
   "outputs": [
    {
     "data": {
      "text/plain": [
       "{'mlp__batch_size': [10, 20, 40, 60, 80, 100], 'mlp__epochs': [10, 50, 100]}"
      ]
     },
     "execution_count": 10,
     "metadata": {},
     "output_type": "execute_result"
    }
   ],
   "source": [
    "param_grid = dict(mlp__batch_size=batch_size, mlp__epochs=epochs)\n",
    "param_grid"
   ]
  },
  {
   "cell_type": "code",
   "execution_count": null,
   "id": "6e6f761a",
   "metadata": {},
   "outputs": [],
   "source": [
    "# 과제\n",
    "- http://media.daum.net/ranking/popular/ 뉴스제목하고 신문사명을 크롤링해서 csv로 저장 (코드 작성)\n",
    "- learning-rate, momentum에 대한 parameter tuing하는 과정을 구현하시오"
   ]
  },
  {
   "cell_type": "code",
   "execution_count": 13,
   "id": "e3caac83",
   "metadata": {},
   "outputs": [
    {
     "data": {
      "text/plain": [
       "'0.24.1'"
      ]
     },
     "execution_count": 13,
     "metadata": {},
     "output_type": "execute_result"
    }
   ],
   "source": [
    "import sklearn\n",
    "sklearn.__version__"
   ]
  },
  {
   "cell_type": "code",
   "execution_count": 25,
   "id": "549d7fd5",
   "metadata": {},
   "outputs": [
    {
     "data": {
      "text/plain": [
       "'3.3.4'"
      ]
     },
     "execution_count": 25,
     "metadata": {},
     "output_type": "execute_result"
    }
   ],
   "source": [
    "import markdown\n",
    "markdown.__version__"
   ]
  },
  {
   "cell_type": "code",
   "execution_count": null,
   "id": "e9bab85b",
   "metadata": {},
   "outputs": [],
   "source": [
    "url = \"https://www.koreabaseball.com/Record/Team/Hitter/Basic1.aspx\"\n",
    "print(url)\n",
    "hp = HTMLParser()"
   ]
  },
  {
   "cell_type": "code",
   "execution_count": 11,
   "id": "8d1848f6",
   "metadata": {},
   "outputs": [],
   "source": [
    "import numpy as np\n",
    "\n",
    "from tensorflow.keras.models import Sequential\n",
    "# channel, fillter, kernel, stride, padding\n",
    "# 마지막이 FFNN\n",
    "from tensorflow.keras.layers import Conv2D, MaxPooling2D, Dense, Flatten\n",
    "from tensorflow.keras.utils import to_categorical\n",
    "from tensorflow.keras.datasets import mnist"
   ]
  },
  {
   "cell_type": "code",
   "execution_count": 12,
   "id": "c0299dbe",
   "metadata": {},
   "outputs": [],
   "source": [
    "(train_images, train_labels), (test_images, test_labels) = mnist.load_data()\n",
    "# 정규화 -> -0.5 ~ 0.5 학습이 용이\n",
    "train_images = (train_images / 255) - 0.5\n",
    "test_images = (test_images / 255) - 0.5\n",
    "# 원래 이미지 3차원 흑백 1바이트 60000X28X28 X1\n",
    "train_images = np.expand_dims(train_images, axis=3)\n",
    "test_images = np.expand_dims(test_images, axis=3)\n",
    "num_filters = 8 # 필터의 개수\n",
    "filter_size = 3 # 사이즈 3X3\n",
    "pool_size = 2 #  합침"
   ]
  },
  {
   "cell_type": "code",
   "execution_count": 17,
   "id": "1e61a172",
   "metadata": {},
   "outputs": [],
   "source": [
    "model = Sequential([\n",
    "    #1장의 사이즈를 기재\n",
    "    Conv2D(num_filters, filter_size, input_shape=(28,28,1)),\n",
    "    MaxPooling2D(pool_size=pool_size),\n",
    "    Flatten(), # FFNN fully-connected\n",
    "    Dense(10, activation='softmax') #확률값\n",
    "])\n",
    "\n",
    "model.compile(\n",
    "    'adam',\n",
    "    loss = 'categorical_crossentropy',\n",
    "    metrics=['accuracy']\n",
    ")"
   ]
  },
  {
   "cell_type": "code",
   "execution_count": 19,
   "id": "e56b8114",
   "metadata": {},
   "outputs": [
    {
     "name": "stdout",
     "output_type": "stream",
     "text": [
      "Epoch 1/3\n",
      "1875/1875 [==============================] - 7s 4ms/step - loss: 0.3505 - accuracy: 0.8989 - val_loss: 0.2075 - val_accuracy: 0.9415\n",
      "Epoch 2/3\n",
      "1875/1875 [==============================] - 7s 4ms/step - loss: 0.1882 - accuracy: 0.9456 - val_loss: 0.1544 - val_accuracy: 0.9519\n",
      "Epoch 3/3\n",
      "1875/1875 [==============================] - 7s 4ms/step - loss: 0.1415 - accuracy: 0.9599 - val_loss: 0.1226 - val_accuracy: 0.9631\n"
     ]
    },
    {
     "data": {
      "text/plain": [
       "<tensorflow.python.keras.callbacks.History at 0x207e1f1ce20>"
      ]
     },
     "execution_count": 19,
     "metadata": {},
     "output_type": "execute_result"
    }
   ],
   "source": [
    "model.fit(# train, validation, test\n",
    "    train_images,\n",
    "    to_categorical(train_labels), # 0.1\n",
    "    epochs=3,\n",
    "    validation_data=(test_images, to_categorical(test_labels))\n",
    ")"
   ]
  },
  {
   "cell_type": "code",
   "execution_count": null,
   "id": "a07c81b7",
   "metadata": {},
   "outputs": [],
   "source": []
  }
 ],
 "metadata": {
  "kernelspec": {
   "display_name": "Python 3",
   "language": "python",
   "name": "python3"
  },
  "language_info": {
   "codemirror_mode": {
    "name": "ipython",
    "version": 3
   },
   "file_extension": ".py",
   "mimetype": "text/x-python",
   "name": "python",
   "nbconvert_exporter": "python",
   "pygments_lexer": "ipython3",
   "version": "3.8.5"
  }
 },
 "nbformat": 4,
 "nbformat_minor": 5
}
