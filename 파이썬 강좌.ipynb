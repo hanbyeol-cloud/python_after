{
 "cells": [
  {
   "cell_type": "code",
   "execution_count": 2,
   "metadata": {},
   "outputs": [
    {
     "name": "stdout",
     "output_type": "stream",
     "text": [
      "30\n",
      "10\n"
     ]
    }
   ],
   "source": [
    "a=10\n",
    "b=20\n",
    "result= a+b\n",
    "print(result)\n",
    "\n",
    "def addalue(a,b=0): # 리턴 타입을 지정하지 않음 (주소 값), 디폴트 매개변수는 뒤에 있어야함\n",
    "    return a+b\n",
    "print(addalue(10))"
   ]
  },
  {
   "cell_type": "code",
   "execution_count": 8,
   "metadata": {},
   "outputs": [
    {
     "name": "stdout",
     "output_type": "stream",
     "text": [
      "[1, 2, 3, 4, 5, 6]\n",
      "30\n",
      "내일의희망\n"
     ]
    }
   ],
   "source": [
    "def add(a,b): # 3Port 함수의 Key 매개변수\n",
    "    return a+b\n",
    "#뒤의 함수가 우선\n",
    "#함수도 매개변수로 전달할 수 있다.\n",
    "def add(a,b): # 3Port 함수의 Key\n",
    "    return a+b\n",
    "print(add([1,2,3],[4,5,6]))\n",
    "print(add(10,20))\n",
    "print(add( \"내일의\",\"희망\"))"
   ]
  },
  {
   "cell_type": "code",
   "execution_count": 9,
   "metadata": {},
   "outputs": [
    {
     "name": "stdout",
     "output_type": "stream",
     "text": [
      "(20, 10)\n"
     ]
    }
   ],
   "source": [
    "# 함수가 매개변수화 되면 튜플로 변환\n",
    "a=10\n",
    "b=20\n",
    "def swap(x,y): # swap 변수\n",
    "    return y,x\n",
    "a,b = swap(b,a)\n",
    "x = swap(a,b) #tuple\n",
    "print(x)"
   ]
  },
  {
   "cell_type": "code",
   "execution_count": 13,
   "metadata": {},
   "outputs": [
    {
     "name": "stdout",
     "output_type": "stream",
     "text": [
      "시작\n",
      "30\n",
      "-10\n",
      "200\n",
      "0.5\n"
     ]
    }
   ],
   "source": [
    "def add(a,b):\n",
    "    return a+b\n",
    "def sub(a,b):\n",
    "    return a-b\n",
    "def mul(a,b):\n",
    "    return a*b\n",
    "def dvi(a,b):\n",
    "    return a/b\n",
    "\n",
    "def change(g,a,b):\n",
    "    return g(a,b)\n",
    "print(\"시작\")\n",
    "print(change(add,10,20))\n",
    "print(change(sub,10,20))\n",
    "print(change(mul,10,20))\n",
    "print(change(dvi,10,20))"
   ]
  },
  {
   "cell_type": "code",
   "execution_count": 14,
   "metadata": {},
   "outputs": [
    {
     "name": "stdout",
     "output_type": "stream",
     "text": [
      "1 1 0\n",
      "1 2 0\n",
      "1 1 2\n",
      "10 20 20\n"
     ]
    }
   ],
   "source": [
    "def func_test2(a, c=1, b=0):\n",
    "    print(a,c,b)\n",
    "func_test2(1)\n",
    "func_test2(1,2)\n",
    "func_test2(b=2,a=1)\n",
    "func_test2(10,20,b=20)"
   ]
  },
  {
   "cell_type": "code",
   "execution_count": 16,
   "metadata": {},
   "outputs": [],
   "source": [
    "def func_test4(): #협업프로그래미을 위해서 None은 =null객체와 같음\n",
    "    pass"
   ]
  },
  {
   "cell_type": "code",
   "execution_count": 17,
   "metadata": {},
   "outputs": [
    {
     "data": {
      "text/plain": [
       "True"
      ]
     },
     "execution_count": 17,
     "metadata": {},
     "output_type": "execute_result"
    }
   ],
   "source": [
    "result = func_test4()\n",
    "result is None"
   ]
  },
  {
   "cell_type": "code",
   "execution_count": 18,
   "metadata": {},
   "outputs": [],
   "source": [
    "#함수도 객체\n",
    "#파이썬은 모든 것이 객체임"
   ]
  },
  {
   "cell_type": "code",
   "execution_count": 19,
   "metadata": {},
   "outputs": [
    {
     "data": {
      "text/plain": [
       "NoneType"
      ]
     },
     "execution_count": 19,
     "metadata": {},
     "output_type": "execute_result"
    }
   ],
   "source": [
    "result.__class__"
   ]
  },
  {
   "cell_type": "code",
   "execution_count": 20,
   "metadata": {},
   "outputs": [
    {
     "data": {
      "text/plain": [
       "function"
      ]
     },
     "execution_count": 20,
     "metadata": {},
     "output_type": "execute_result"
    }
   ],
   "source": [
    "func_test4.__class__"
   ]
  },
  {
   "cell_type": "code",
   "execution_count": 26,
   "metadata": {},
   "outputs": [
    {
     "name": "stdout",
     "output_type": "stream",
     "text": [
      "함수 내부에서 출력 :  [10, 20, 30, [1, 2, 3, 4]]\n",
      "함수 내부에서 출력 :  [10, 20, 30, [1, 2, 3, 4], [1, 2, 3, 4]]\n",
      "함수 내부에서 출력 :  [10, 20, 30, [1, 2, 3, 4], [1, 2, 3, 4], [1, 2, 3, 4]]\n",
      "함수 내부에서 출력 :  [10, 20, 30, [1, 2, 3, 4], [1, 2, 3, 4], [1, 2, 3, 4], [1, 2, 3, 4]]\n",
      "함수 외부에서 출력 :  [10, 20, 30, [1, 2, 3, 4], [1, 2, 3, 4], [1, 2, 3, 4], [1, 2, 3, 4]]\n"
     ]
    }
   ],
   "source": [
    "#call by reference 메모리를 효율적으로 사용하기 위해서\n",
    "def change2(mylist): # stack에 생성\n",
    "    #mylist=[] # 대입이 벌어지면\n",
    "    mylist.append([1,2,3,4]);\n",
    "    print(\"함수 내부에서 출력 : \", mylist)\n",
    "    return\n",
    "mylist = [10,20,30]; #전역 변수 영역에 생성\n",
    "change2(mylist); #mylist(stack) = mylist(전역변수) 주소값 전달\n",
    "change2(mylist)\n",
    "change2(mylist)\n",
    "change2(mylist)\n",
    "print(\"함수 외부에서 출력 : \" , mylist)"
   ]
  },
  {
   "cell_type": "code",
   "execution_count": 27,
   "metadata": {},
   "outputs": [
    {
     "name": "stdout",
     "output_type": "stream",
     "text": [
      "시작\n",
      "1.2.3.\n",
      "1.2.3.4.5.\n"
     ]
    }
   ],
   "source": [
    "# 변동 매개변수\n",
    "def func1(*args): # 함수 선언시 *을 붙인 경우\n",
    "# args = [1,2,3,4,5]\n",
    "    for i in args:\n",
    "        print(i, end = '.')\n",
    "    print()\n",
    "    \n",
    "print(\"시작\")\n",
    "\n",
    "func1(1,2,3)\n",
    "func1(1,2,3,4,5)"
   ]
  },
  {
   "cell_type": "code",
   "execution_count": 28,
   "metadata": {},
   "outputs": [
    {
     "name": "stdout",
     "output_type": "stream",
     "text": [
      "list 매개변수들 (1, 2)\n",
      "key매개변수는 {'z': 5}\n",
      "함수들 호출 <function g at 0x000001607103E310>\n",
      "1\n",
      "2\n",
      "5\n"
     ]
    },
    {
     "data": {
      "text/plain": [
       "0.6"
      ]
     },
     "execution_count": 28,
     "metadata": {},
     "output_type": "execute_result"
    }
   ],
   "source": [
    "def say_hello_then_call(f, *args, **kwargs): # 받을 때는 묶고\n",
    "    print(\"list 매개변수들\" , args)\n",
    "    print(\"key매개변수는\" , kwargs)\n",
    "    print(\"함수들 호출 %s\" %f)\n",
    "    return f(*args, **kwargs) # 실제 함수를 호출 할 때는 풀고\n",
    "\n",
    "def g(x,y,z=1):\n",
    "    print(x)\n",
    "    print(y)\n",
    "    print(z)\n",
    "    return (x+y) / z\n",
    "say_hello_then_call(g,1,2,z=5)"
   ]
  },
  {
   "cell_type": "code",
   "execution_count": 30,
   "metadata": {},
   "outputs": [
    {
     "name": "stdout",
     "output_type": "stream",
     "text": [
      "15\n"
     ]
    }
   ],
   "source": [
    "# 커링\n",
    "def all_number(x,y):\n",
    "    return x+y\n",
    "add_five=lambda y: all_number(5,y)\n",
    "print(add_five(10))"
   ]
  },
  {
   "cell_type": "code",
   "execution_count": 37,
   "metadata": {},
   "outputs": [
    {
     "name": "stdout",
     "output_type": "stream",
     "text": [
      "8\n"
     ]
    }
   ],
   "source": [
    "def power(r, n):\n",
    "    value = 1\n",
    "    for i in range(1, n + 1):\n",
    "        value = r * value\n",
    "    return value\n",
    "print(power(2,3))"
   ]
  },
  {
   "cell_type": "markdown",
   "metadata": {},
   "source": [
    "# 재귀 함수 : 함수가 자기 자신을 호출 하는것\n",
    "- 종료조건"
   ]
  },
  {
   "cell_type": "code",
   "execution_count": 36,
   "metadata": {},
   "outputs": [
    {
     "name": "stdout",
     "output_type": "stream",
     "text": [
      "8\n"
     ]
    }
   ],
   "source": [
    "def power(r, n):\n",
    "    if n == 1:\n",
    "        return r\n",
    "    else:\n",
    "        return r * power(r, n - 1) # 함수가 호출되었다가 다시 복귀\n",
    "print(power(2,3))"
   ]
  },
  {
   "cell_type": "markdown",
   "metadata": {},
   "source": [
    "# for 문 뒤에 올 수 있는 것\n",
    "- collections : list, tuple, dict, set\n",
    "- iterators : range\n",
    "- genearator : 생성기\n",
    "- eneumerate : 인덱스 + 데이터를 묶어서 : 범주형변수"
   ]
  },
  {
   "cell_type": "code",
   "execution_count": 42,
   "metadata": {},
   "outputs": [
    {
     "name": "stdout",
     "output_type": "stream",
     "text": [
      "0.7128163734125785\n",
      "0.1871904690853573\n",
      "0.9174131545715455\n",
      "0.20524134522416704\n",
      "0.2919892965342208\n"
     ]
    }
   ],
   "source": [
    "# 생성기:메모리 낭비를 방지해 줌\n",
    "# 데이터 처리시 10000개 (random(0,10000,1)) 실제 메모리에 10000개의 데이터 생성\n",
    "import random\n",
    "def gaus_dist(n):\n",
    "        while n > 0:\n",
    "            yield random.random() # 비동기 호출 0-1사이의 값 : 난수(의사난수) => yield 호출 할때까지 멈춤 => yield 호출 할때까지 멈춤\n",
    "            n-=1\n",
    "gd = gaus_dist(5)\n",
    "for i in gd:\n",
    "    print(i)"
   ]
  },
  {
   "cell_type": "markdown",
   "metadata": {},
   "source": [
    "# 총 근무 시간과 시간당 급여를 입력 받아 급여를 계산하는 프로그램을 작성하시오\n",
    "- 조건 : 40시간이 넘으면 1.5배하여 지급합니다.\n",
    "- 함수의 매개변수는 시간당 급여와 주작업시간으로 합니다."
   ]
  },
  {
   "cell_type": "code",
   "execution_count": 54,
   "metadata": {},
   "outputs": [
    {
     "name": "stdout",
     "output_type": "stream",
     "text": [
      "총근무시간을 입력하세요 : 41\n",
      "시간당 급여를 입력하세요 : 10\n"
     ]
    },
    {
     "data": {
      "text/plain": [
       "415.0"
      ]
     },
     "execution_count": 54,
     "metadata": {},
     "output_type": "execute_result"
    }
   ],
   "source": [
    "def work(money,time):\n",
    "    basetime = 40\n",
    "    if time > basetime:\n",
    "        return money*basetime+1.5*((time-basetime)*money)\n",
    "    else:\n",
    "        return money*time\n",
    "a = int(input(\"총근무시간을 입력하세요 : \"))\n",
    "b = int(input(\"시간당 급여를 입력하세요 : \"))\n",
    "work(b,a)"
   ]
  },
  {
   "cell_type": "markdown",
   "metadata": {},
   "source": [
    "# 이자율이 주어졌을 때 기간거치후의 총액과 이자수익을 출력하시오\n",
    "\n",
    "-복리 계산 : 원금 * ((1*0.04)) ** 거치기간\n",
    "    \n",
    "-매개변수 : 원금 거치기간\n",
    "-단서 조건 : 입력 함수 , 계산함수, 출력함수로 분리해서 작성하시오"
   ]
  },
  {
   "cell_type": "code",
   "execution_count": 73,
   "metadata": {},
   "outputs": [
    {
     "name": "stdout",
     "output_type": "stream",
     "text": [
      "원금을 입력하세요 : 1000\n",
      "기간을 입력하세요 : 12\n",
      "1\n",
      "1040.0\n",
      "2\n",
      "1081.6000000000001\n",
      "3\n",
      "1124.8640000000003\n",
      "4\n",
      "1169.8585600000004\n",
      "5\n",
      "1216.6529024000004\n",
      "6\n",
      "1265.3190184960004\n",
      "7\n",
      "1315.9317792358404\n",
      "8\n",
      "1368.569050405274\n",
      "9\n",
      "1423.311812421485\n",
      "10\n",
      "1480.2442849183444\n",
      "11\n",
      "1539.4540563150783\n",
      "12\n",
      "1601.0322185676814\n",
      "1601.0322185676814\n",
      "1601.0322185676814\n"
     ]
    }
   ],
   "source": [
    "def getinput():\n",
    "basemoney = int(input(\"원금을 입력하세요 : \"))\n",
    "time = int(input(\"기간을 입력하세요 : \"))\n",
    "    return (basemoney,time)\n",
    "\n",
    "def cal(b,t):\n",
    "    money = b\n",
    "    for i in range(t):\n",
    "        money = money*1.04\n",
    "        print(i+1)\n",
    "        print(money)\n",
    "    return money\n",
    "\n",
    "def cal2(b,t):\n",
    "    if t==0:\n",
    "        return b\n",
    "    else:\n",
    "        return 1.04*cal2(b,t-1)\n",
    "\n",
    "print(cal(basemoney,time)) # for문\n",
    "print(cal2(basemoney,time)) # 재귀함수"
   ]
  },
  {
   "cell_type": "code",
   "execution_count": 7,
   "metadata": {},
   "outputs": [
    {
     "name": "stdout",
     "output_type": "stream",
     "text": [
      "입력하시오 : (0:가위,1:바위,2:보)1\n",
      "당신은 바위을 선택 하였고 무승부를 했습니다.\n"
     ]
    }
   ],
   "source": [
    "import random\n",
    "com = random.randint(0,2) % 3 # 컴퓨터\n",
    "sel = [\"가위\",\"바위\",\"보\"] # mapping : 범주화 \n",
    "judge = [\"승리를\",\"패배를\",\"무승부를\"]\n",
    "person = input(\"입력하시오 : (0:가위,1:바위,2:보)\")\n",
    "person = int(person) %3\n",
    "result = 0\n",
    "if person ==0:\n",
    "    if com==0:\n",
    "        result=2\n",
    "    elif com==1:\n",
    "        result=1\n",
    "    else:\n",
    "        result=0\n",
    "if person ==1:\n",
    "    if com==0:\n",
    "        result=0\n",
    "    elif com==1:\n",
    "        result=2\n",
    "    else:\n",
    "        result=1\n",
    "else :\n",
    "    if com==0:\n",
    "        result=1\n",
    "    elif com==1:\n",
    "        result=0\n",
    "    else:\n",
    "        result=2\n",
    "print(\"당신은 \" + sel[person] + \"을 선택 하였고 \" + judge[result] + \" 했습니다.\")"
   ]
  },
  {
   "cell_type": "code",
   "execution_count": 39,
   "metadata": {},
   "outputs": [
    {
     "name": "stdout",
     "output_type": "stream",
     "text": [
      "입력하시오 : (0:가위,1:바위,2:보)1\n",
      "당신은 바위을 선택 하였고 패배를 했습니다.\n",
      "2\n"
     ]
    }
   ],
   "source": [
    "com = random.randint(0,2) % 3 # 컴퓨터\n",
    "sel = [\"가위\",\"바위\",\"보\"] # mapping : 범주화 \n",
    "judge = [\"승리를\",\"패배를\",\"무승부를\"]\n",
    "person = input(\"입력하시오 : (0:가위,1:바위,2:보)\")\n",
    "person = int(person) %3\n",
    "result = 0\n",
    "\n",
    "if person == com:\n",
    "    result =2\n",
    "elif person == com+1:\n",
    "    result =0\n",
    "else :\n",
    "    result =1\n",
    "print(\"당신은 \" + sel[person] + \"을 선택 하였고 \" + judge[result] + \" 했습니다.\")\n",
    "print(com)"
   ]
  },
  {
   "cell_type": "code",
   "execution_count": 40,
   "metadata": {},
   "outputs": [],
   "source": [
    "# if 문 없이 처리 하시요\n",
    "# 결과를 배열로 표현 (정방행렬 : 거리값 행렬, 상관행렬) -> 고유값 분해가능\n",
    "# 행렬 분해를 하는 이유 -> 행렬을 간단하게 하기 위해서\n",
    "# 정방행렬이면서 대칭행렬이면 고유값 분해가 가능\n",
    "# 고유값 분해 -> 고유값과 고유 백터\n",
    "# 고유벡터는 정직교하는 행렬\n",
    "# 고유값은 축 방향으로의 크기 : 고유값이 크면 분산이 큰것이고 분산이 크면 주성분\n",
    "# 분석에서는 주성분을 중심하고 분석하는 것이 노이즈를 가지고 분석하는 것보다 유리"
   ]
  },
  {
   "cell_type": "code",
   "execution_count": 45,
   "metadata": {},
   "outputs": [
    {
     "name": "stdout",
     "output_type": "stream",
     "text": [
      "입력하시오 : (0:가위,1:바위,2:보)1\n",
      "당신은 바위을 선택 하였고 패배를 했습니다.\n"
     ]
    }
   ],
   "source": [
    "result = [[\"무승부를\",\"패배를\",\"승리를\"],[\"승리를\",\"무승부를\",\"패배를\"],[\"패배를\",\"승리를\",\"무승부를\"]]\n",
    "com = random.randint(0,2) % 3 # 컴퓨터\n",
    "sel = [\"가위\",\"바위\",\"보\"] # mapping : 범주화 \n",
    "judge = [\"승리를\",\"패배를\",\"무승부를\"]\n",
    "person = input(\"입력하시오 : (0:가위,1:바위,2:보)\")\n",
    "person = int(person) %3\n",
    "print(\"당신은 \" + sel[person] + \"을 선택 하였고 \" + result[person][com] + \" 했습니다.\")"
   ]
  },
  {
   "cell_type": "code",
   "execution_count": 1,
   "metadata": {},
   "outputs": [
    {
     "name": "stdout",
     "output_type": "stream",
     "text": [
      "입력하시오 : (0:가위,1:바위,2:보)1\n",
      "당신은 바위을 선택 하였고 패배를 했습니다.\n",
      "입력하시오 : (0:가위,1:바위,2:보)2\n",
      "당신은 보을 선택 하였고 무승부를 했습니다.\n",
      "입력하시오 : (0:가위,1:바위,2:보)3\n",
      "당신은 가위을 선택 하였고 승리를 했습니다.\n",
      "입력하시오 : (0:가위,1:바위,2:보)4\n",
      "당신은 바위을 선택 하였고 패배를 했습니다.\n",
      "입력하시오 : (0:가위,1:바위,2:보)5\n",
      "당신은 보을 선택 하였고 무승부를 했습니다.\n",
      "입력하시오 : (0:가위,1:바위,2:보)7\n",
      "당신은 바위을 선택 하였고 승리를 했습니다.\n",
      "입력하시오 : (0:가위,1:바위,2:보)8\n",
      "당신은 보을 선택 하였고 패배를 했습니다.\n",
      "입력하시오 : (0:가위,1:바위,2:보)d\n",
      "1\n",
      "2\n",
      "3\n",
      "2\n"
     ]
    }
   ],
   "source": [
    "import random\n",
    "result = [[\"무승부\",\"패배\",\"승리\"],[\"승리\",\"무승부\",\"패배\"],[\"패배\",\"승리\",\"무승부\"]]\n",
    "sel = [\"가위\",\"바위\",\"보\"]\n",
    "tie = 0\n",
    "win = 0\n",
    "lose = 0\n",
    "\n",
    "def getinput():\n",
    "    person = input(\"입력하시오 : (0:가위,1:바위,2:보)\")\n",
    "    if person.isdigit():\n",
    "        person = int(person) %3\n",
    "    else:\n",
    "        person = 9\n",
    "    return person\n",
    "\n",
    "def judgement(person):\n",
    "    global tie\n",
    "    global lose\n",
    "    global win\n",
    "    com = random.randint(0,2) % 3 # 컴퓨터\n",
    "    jresult = result[person][com]\n",
    "    if jresult==\"무승부\":\n",
    "        tie=tie+1\n",
    "    elif jresult==\"패배\":\n",
    "        lose=lose+1\n",
    "    elif jresult==\"승리\":\n",
    "        win=win+1\n",
    "    return jresult,win,lose,tie\n",
    "\n",
    "def answer(person,jresult):\n",
    "    print(\"당신은 \" + sel[person] + \"을 선택 하였고 \" + jresult + \"를 했습니다.\")\n",
    "    \n",
    "def last_result(person,jresult):\n",
    "    print(i)\n",
    "    print(win)\n",
    "    print(lose)\n",
    "    print(tie)\n",
    "    \n",
    "while True:\n",
    "    i=0\n",
    "    i=i+1\n",
    "    person=getinput()\n",
    "    if person == 9:\n",
    "        last_result(person,jresult)\n",
    "        break;\n",
    "    jresult,win,lose,tie=judgement(person)\n",
    "    answer(person,jresult)"
   ]
  },
  {
   "cell_type": "code",
   "execution_count": 1,
   "metadata": {},
   "outputs": [
    {
     "ename": "SyntaxError",
     "evalue": "invalid syntax (<ipython-input-1-b393d0976c96>, line 2)",
     "output_type": "error",
     "traceback": [
      "\u001b[1;36m  File \u001b[1;32m\"<ipython-input-1-b393d0976c96>\"\u001b[1;36m, line \u001b[1;32m2\u001b[0m\n\u001b[1;33m    - 성적 계산 프로그램을 함수화\u001b[0m\n\u001b[1;37m         ^\u001b[0m\n\u001b[1;31mSyntaxError\u001b[0m\u001b[1;31m:\u001b[0m invalid syntax\n"
     ]
    }
   ],
   "source": [
    "# 종합 문제\n",
    "- 성적 계산 프로그램을 함수화\n",
    "메뉴 입력1, 출력2, 계산(합계평균)3, 석차4, 학점5, 종료9"
   ]
  },
  {
   "cell_type": "code",
   "execution_count": 2,
   "metadata": {},
   "outputs": [],
   "source": [
    "result = []\n",
    "def getinput():\n",
    "    num = input(\"번호를 입력하세요 : \")\n",
    "    name = input(\"이름를 입력하세요 : \")\n",
    "    kor = input(\"국어점수를 입력하세요 : \")\n",
    "    mat = input(\"수학점수를 입력하세요 : \")\n",
    "    eng = input(\"영어점수를 입력하세요 : \")\n",
    "    result.append([num,name,kor,mat,eng,\"\",\"\",\"\",\"\"])"
   ]
  },
  {
   "cell_type": "code",
   "execution_count": 3,
   "metadata": {},
   "outputs": [],
   "source": [
    "def summit():\n",
    "    for n in range(len(result)):\n",
    "        num = result[n][0]\n",
    "        name = result[n][1]\n",
    "        kor = result[n][2]\n",
    "        mat = result[n][3]\n",
    "        eng = result[n][4]\n",
    "        sum1 = result[n][5]\n",
    "        avg = result[n][6]\n",
    "        gd = result[n][7]\n",
    "        ra = result[n][8]\n",
    "        print(num+\"번 \"+name+\"학생의 결과입니다.\")\n",
    "        print(\"국어점수 : \"+kor)\n",
    "        print(\"수학점수 : \"+mat)\n",
    "        print(\"영어점수 : \"+eng)\n",
    "        print(\"합계 : \"+str(sum1))\n",
    "        print(\"평균 : \"+str(avg))\n",
    "        print(\"학점 : \"+str(gd))\n",
    "        print(\"석차 : \"+str(ra))"
   ]
  },
  {
   "cell_type": "code",
   "execution_count": 4,
   "metadata": {},
   "outputs": [],
   "source": [
    "def cal():\n",
    "    for n in range(len(result)):\n",
    "        kor = int(result[n][2])\n",
    "        mat = int(result[n][3])\n",
    "        eng = int(result[n][4])\n",
    "        sum1 = kor+mat+eng\n",
    "        avg = round(sum1/3,2)\n",
    "        \n",
    "        result[n][5]=sum1\n",
    "        result[n][6]=avg"
   ]
  },
  {
   "cell_type": "code",
   "execution_count": 5,
   "metadata": {},
   "outputs": [],
   "source": [
    "def rank():\n",
    "    result.sort(key=lambda x:x[6],reverse=True)\n",
    "    \n",
    "    for n in range(len(result)):\n",
    "        result[n][8]=(n+1)\n",
    "        \n",
    "    result.sort(key=lambda x:x[0])"
   ]
  },
  {
   "cell_type": "code",
   "execution_count": 6,
   "metadata": {},
   "outputs": [],
   "source": [
    "def grade():\n",
    "    for n in range(len(result)):\n",
    "        kor = result[n][2]\n",
    "        mat = result[n][3]\n",
    "        eng = result[n][4]\n",
    "        sum1 = result[n][5]\n",
    "        avg = result[n][6]\n",
    "        if(avg>=90):\n",
    "            gd = \"A학점\"\n",
    "        elif(avg<90)and(avg>=80):\n",
    "            gd = \"B학점\"\n",
    "        elif(avg<80)and(avg>=70):\n",
    "            gd = \"C학점\"\n",
    "        elif(avg<70)and(avg>=60):\n",
    "            gd = \"D학점\"\n",
    "        elif(avg<60)and(avg>=50):\n",
    "            gd = \"E학점\"\n",
    "        else:\n",
    "            gd = \"F학점\"\n",
    "        \n",
    "        result[n][7]=gd"
   ]
  },
  {
   "cell_type": "code",
   "execution_count": 7,
   "metadata": {},
   "outputs": [
    {
     "name": "stdout",
     "output_type": "stream",
     "text": [
      "원하는 작업코드를 입력하세요 (메뉴 입력:1, 출력:2, 계산(합계평균):3, 석차:4, 학점:5, 종료:9)1\n",
      "번호를 입력하세요 : 1\n",
      "이름를 입력하세요 : 길\n",
      "국어점수를 입력하세요 : 100\n",
      "수학점수를 입력하세요 : 80\n",
      "영어점수를 입력하세요 : 70\n",
      "원하는 작업코드를 입력하세요 (메뉴 입력:1, 출력:2, 계산(합계평균):3, 석차:4, 학점:5, 종료:9)1\n",
      "번호를 입력하세요 : 2\n",
      "이름를 입력하세요 : 한\n",
      "국어점수를 입력하세요 : 50\n",
      "수학점수를 입력하세요 : 60\n",
      "영어점수를 입력하세요 : 70\n",
      "원하는 작업코드를 입력하세요 (메뉴 입력:1, 출력:2, 계산(합계평균):3, 석차:4, 학점:5, 종료:9)1\n",
      "번호를 입력하세요 : 3\n",
      "이름를 입력하세요 : 별\n",
      "국어점수를 입력하세요 : 10\n",
      "수학점수를 입력하세요 : 20\n",
      "영어점수를 입력하세요 : 30\n",
      "원하는 작업코드를 입력하세요 (메뉴 입력:1, 출력:2, 계산(합계평균):3, 석차:4, 학점:5, 종료:9)3\n",
      "합계평균 계산완료\n",
      "원하는 작업코드를 입력하세요 (메뉴 입력:1, 출력:2, 계산(합계평균):3, 석차:4, 학점:5, 종료:9)4\n",
      "등수 계산완료\n",
      "원하는 작업코드를 입력하세요 (메뉴 입력:1, 출력:2, 계산(합계평균):3, 석차:4, 학점:5, 종료:9)5\n",
      "학점 계산완료\n",
      "원하는 작업코드를 입력하세요 (메뉴 입력:1, 출력:2, 계산(합계평균):3, 석차:4, 학점:5, 종료:9)2\n",
      "1번 길학생의 결과입니다.\n",
      "국어점수 : 100\n",
      "수학점수 : 80\n",
      "영어점수 : 70\n",
      "합계 : 250\n",
      "평균 : 83.33\n",
      "학점 : B학점\n",
      "석차 : 1\n",
      "2번 한학생의 결과입니다.\n",
      "국어점수 : 50\n",
      "수학점수 : 60\n",
      "영어점수 : 70\n",
      "합계 : 180\n",
      "평균 : 60.0\n",
      "학점 : D학점\n",
      "석차 : 2\n",
      "3번 별학생의 결과입니다.\n",
      "국어점수 : 10\n",
      "수학점수 : 20\n",
      "영어점수 : 30\n",
      "합계 : 60\n",
      "평균 : 20.0\n",
      "학점 : F학점\n",
      "석차 : 3\n",
      "원하는 작업코드를 입력하세요 (메뉴 입력:1, 출력:2, 계산(합계평균):3, 석차:4, 학점:5, 종료:9)9\n",
      "종료\n"
     ]
    }
   ],
   "source": [
    "while True:\n",
    "    a = int(input(\"원하는 작업코드를 입력하세요 (메뉴 입력:1, 출력:2, 계산(합계평균):3, 석차:4, 학점:5, 종료:9)\"))\n",
    "    if a==1:\n",
    "        getinput()\n",
    "    elif a==2:\n",
    "        summit()\n",
    "    elif a==3:\n",
    "        print(\"합계평균 계산완료\")\n",
    "        cal()\n",
    "    elif a==4:\n",
    "        print(\"등수 계산완료\")\n",
    "        rank()\n",
    "    elif a==5:\n",
    "        print(\"학점 계산완료\")\n",
    "        grade()\n",
    "    elif a==9:\n",
    "        print(\"종료\")\n",
    "        break;\n",
    "    else:\n",
    "        print(\"잘못 입력하셨습니다.\")"
   ]
  },
  {
   "cell_type": "code",
   "execution_count": 1,
   "metadata": {},
   "outputs": [
    {
     "name": "stdout",
     "output_type": "stream",
     "text": [
      "삼각형의 넓이는 100.0\n"
     ]
    }
   ],
   "source": [
    "width = 10\n",
    "height = 20\n",
    "area = 10*20/2\n",
    "print(\"삼각형의 넓이는\",area)"
   ]
  },
  {
   "cell_type": "code",
   "execution_count": 3,
   "metadata": {},
   "outputs": [
    {
     "name": "stdout",
     "output_type": "stream",
     "text": [
      "10 20 100.0\n"
     ]
    }
   ],
   "source": [
    "class Triangle :               # 재사용 가능, 데이터 보호 가능\n",
    "    # def __init__():            # 반드시 생성자에서 초기화 (C++, java)\n",
    "    \n",
    "    def setData(self, width, height): # 일반함수에서도 멤버변수 생성가능\n",
    "        self.width = width # 멤버 변수와 지역번수 구분\n",
    "        self.height = height\n",
    "    def area(self): # 함수는 첫번째 매개변수가 반드시 self\n",
    "        return self.width*self.height/2\n",
    "tri1 = Triangle() # 인스턴스\n",
    "tri1.setData(10,20)\n",
    "print(tri1.width, tri1.height, tri1.area())"
   ]
  },
  {
   "cell_type": "code",
   "execution_count": 4,
   "metadata": {},
   "outputs": [
    {
     "name": "stdout",
     "output_type": "stream",
     "text": [
      "90033865340\n"
     ]
    }
   ],
   "source": [
    "print(hash(tri1)) # 검색속도가 빠름"
   ]
  },
  {
   "cell_type": "code",
   "execution_count": 8,
   "metadata": {},
   "outputs": [
    {
     "name": "stdout",
     "output_type": "stream",
     "text": [
      "클래스의 예\n",
      "12345\n",
      "54321\n"
     ]
    },
    {
     "data": {
      "text/plain": [
       "54321"
      ]
     },
     "execution_count": 8,
     "metadata": {},
     "output_type": "execute_result"
    }
   ],
   "source": [
    "# 모든 클래스는 object를 상속 (명시적 상속과 암묵적 상속)\n",
    "class MyClass(object):\n",
    "    \"\"\"클래스의 예\"\"\"\n",
    "    i = 12345 # 클래스 변수(공유 변수)\n",
    "    def __init__(self):\n",
    "        self.i=54321 # 멤버변수\n",
    "        num = 100 # 지역변수\n",
    "    def f(self):\n",
    "        return self.i\n",
    "print(MyClass.__doc__) #멤버변수\n",
    "print(MyClass.i)\n",
    "myclass = MyClass()\n",
    "print(myclass.i)\n",
    "myclass.f()"
   ]
  },
  {
   "cell_type": "code",
   "execution_count": 10,
   "metadata": {},
   "outputs": [
    {
     "name": "stdout",
     "output_type": "stream",
     "text": [
      "생성 Wed Apr 21 10:40:34 2021\n",
      "3초 동안 sleeping\n",
      "사망 Wed Apr 21 10:40:37 2021\n"
     ]
    }
   ],
   "source": [
    "#힙에 메모리 생성 -> 주소 -> 클래스변수 (시스템에서 가비지 컬렉션)\n",
    "#가비지 컬렉션은 참조가 사라지면 자동으로 청소를 한다.\n",
    "from time import time, ctime, sleep # 밀리초로 표현, 시간을 문자로 표현\n",
    "class Life:\n",
    "    def __init__(self): # 인스턴스할 때 한 번 호출 (자동호출, 명시적 호출)\n",
    "        self.birth=ctime()\n",
    "        print ('생성', self.birth)\n",
    "    def __del__(self):\n",
    "        print('사망', ctime())\n",
    "    def test(self):\n",
    "        #mylife = Life()\n",
    "        print(\"3초 동안 sleeping\")\n",
    "        sleep(3)\n",
    "\n",
    "li = Life() # 인스턴스\n",
    "# li.__init__()\n",
    "li.test()\n",
    "del li # 주소값을 지우면"
   ]
  },
  {
   "cell_type": "code",
   "execution_count": 11,
   "metadata": {},
   "outputs": [],
   "source": [
    "class Employee:\n",
    "    empCount = 0 # 클래스 변수\n",
    "    def __init__(self, name, salary): # 생성자\n",
    "        self.name = name\n",
    "        self.salary = salary\n",
    "        Employee.empCount += 1 # 인스턴스 할 때 마다 증가 : 인원수를 확인\n",
    "    def displayCount(self):\n",
    "        print(\"직원 수 = %d\" % Employee.empCount)\n",
    "    def displaysEmployee(self):\n",
    "        print(\"이름 : \", self.name, \", 급여 : \", self.salary)\n",
    "    def __call__(self, *pargs, **kargs): # object 소속 : 클래스를 함수 처럼 사용\n",
    "        print(\"Called:\",pargs, kargs)"
   ]
  },
  {
   "cell_type": "code",
   "execution_count": 14,
   "metadata": {},
   "outputs": [
    {
     "name": "stdout",
     "output_type": "stream",
     "text": [
      "직원 수 = 5\n",
      "직원 수 = 6\n",
      "직원 수 = 6\n",
      "이름 :  김종호 , 급여 :  500\n",
      "이름 :  빅데타 , 급여 :  500\n"
     ]
    }
   ],
   "source": [
    "emp = Employee(\"김종호\", 500)\n",
    "emp.displayCount()\n",
    "emp1 = Employee(\"빅데타\", 500)\n",
    "emp1.displayCount()\n",
    "emp.displayCount()\n",
    "\n",
    "emp.displaysEmployee()\n",
    "emp1.displaysEmployee()"
   ]
  },
  {
   "cell_type": "code",
   "execution_count": 15,
   "metadata": {},
   "outputs": [
    {
     "name": "stdout",
     "output_type": "stream",
     "text": [
      "직원 수는 6\n"
     ]
    }
   ],
   "source": [
    "print(\"직원 수는 %d\" %Employee.empCount)"
   ]
  },
  {
   "cell_type": "code",
   "execution_count": 16,
   "metadata": {},
   "outputs": [
    {
     "name": "stdout",
     "output_type": "stream",
     "text": [
      "Called: ('빅데타', 500, 100) {'ᄎ': 100}\n"
     ]
    }
   ],
   "source": [
    "emp(\"빅데타\",500,100,ㅊ=100) # 클래스를 함수처럼 사용"
   ]
  },
  {
   "cell_type": "code",
   "execution_count": 17,
   "metadata": {},
   "outputs": [],
   "source": [
    "emp.age = 40 # age변수는 처음에는 없음 => 추가 (실시간으로 멤버변수를 추가 할 수 있다.)\n",
    "emp1.age = 8"
   ]
  },
  {
   "cell_type": "code",
   "execution_count": 18,
   "metadata": {},
   "outputs": [
    {
     "name": "stdout",
     "output_type": "stream",
     "text": [
      "40\n"
     ]
    }
   ],
   "source": [
    "print(emp.age)"
   ]
  },
  {
   "cell_type": "code",
   "execution_count": 19,
   "metadata": {},
   "outputs": [
    {
     "name": "stdout",
     "output_type": "stream",
     "text": [
      "True\n"
     ]
    },
    {
     "data": {
      "text/plain": [
       "8"
      ]
     },
     "execution_count": 19,
     "metadata": {},
     "output_type": "execute_result"
    }
   ],
   "source": [
    "print(hasattr(emp1, 'name'))\n",
    "getattr(emp1, 'age')"
   ]
  },
  {
   "cell_type": "code",
   "execution_count": 20,
   "metadata": {},
   "outputs": [],
   "source": [
    "setattr(emp1,'age', 10)\n",
    "delattr(emp1, 'age')"
   ]
  },
  {
   "cell_type": "code",
   "execution_count": 21,
   "metadata": {},
   "outputs": [
    {
     "name": "stdout",
     "output_type": "stream",
     "text": [
      "['__call__', '__class__', '__delattr__', '__dict__', '__dir__', '__doc__', '__eq__', '__format__', '__ge__', '__getattribute__', '__gt__', '__hash__', '__init__', '__init_subclass__', '__le__', '__lt__', '__module__', '__ne__', '__new__', '__reduce__', '__reduce_ex__', '__repr__', '__setattr__', '__sizeof__', '__str__', '__subclasshook__', '__weakref__', 'age', 'displayCount', 'displaysEmployee', 'empCount', 'name', 'salary']\n"
     ]
    }
   ],
   "source": [
    "print(dir(emp))"
   ]
  },
  {
   "cell_type": "code",
   "execution_count": 23,
   "metadata": {},
   "outputs": [
    {
     "name": "stdout",
     "output_type": "stream",
     "text": [
      "{'name': '김종호', 'salary': 500, 'age': 40}\n"
     ]
    }
   ],
   "source": [
    "print(emp.__dict__) #dictionary로 데이터로 실제 저장함"
   ]
  },
  {
   "cell_type": "code",
   "execution_count": 24,
   "metadata": {},
   "outputs": [
    {
     "name": "stdout",
     "output_type": "stream",
     "text": [
      "Employee.__name__: Employee\n"
     ]
    }
   ],
   "source": [
    "print (\"Employee.__name__:\", Employee.__name__)"
   ]
  },
  {
   "cell_type": "markdown",
   "metadata": {},
   "source": [
    "# 문제\n",
    "- 이름과 나이를 저장하는 student class를 생성하시오\n",
    "- 이름과 나이를 출력하는 print함수를 생성하시오"
   ]
  },
  {
   "cell_type": "code",
   "execution_count": 41,
   "metadata": {},
   "outputs": [],
   "source": [
    "class Student:\n",
    "    def __init__(self,name,age):\n",
    "        self.name = name\n",
    "        self.age = age\n",
    "    def Print(self):\n",
    "        print(\"이름 : \",self.name,\" 나이 : \",self.age)\n",
    "    def __repr__(self):\n",
    "        return \"나의 이름 : \" + self.name + \"나이 : \" + str(self.age)+ \"입니다.\""
   ]
  },
  {
   "cell_type": "code",
   "execution_count": 42,
   "metadata": {},
   "outputs": [],
   "source": [
    "st = Student(\"길한별\",29)"
   ]
  },
  {
   "cell_type": "code",
   "execution_count": 45,
   "metadata": {},
   "outputs": [
    {
     "name": "stdout",
     "output_type": "stream",
     "text": [
      "이름 :  길한별  나이 :  29\n",
      "나의 이름 : 길한별나이 : 29입니다.\n"
     ]
    }
   ],
   "source": [
    "st.Print()\n",
    "print(st)"
   ]
  },
  {
   "cell_type": "code",
   "execution_count": 46,
   "metadata": {},
   "outputs": [
    {
     "name": "stdout",
     "output_type": "stream",
     "text": [
      "<class '__main__.Student'>\n"
     ]
    }
   ],
   "source": [
    "print(st.__class__)"
   ]
  },
  {
   "cell_type": "code",
   "execution_count": 47,
   "metadata": {},
   "outputs": [
    {
     "name": "stdout",
     "output_type": "stream",
     "text": [
      "나의 이름 : 발전해나이 : 34입니다.\n"
     ]
    }
   ],
   "source": [
    "g = st.__class__(\"발전해\", 34)\n",
    "print(g)"
   ]
  },
  {
   "cell_type": "code",
   "execution_count": 48,
   "metadata": {},
   "outputs": [],
   "source": [
    "class FourCal:\n",
    "    def setdata(self, first, second):\n",
    "        self.first = first\n",
    "        self.second= second\n",
    "    def sum(self):\n",
    "        result = self.first + self.second\n",
    "        return result\n",
    "    def mul(self):\n",
    "        esult = self.first - self.second\n",
    "        return result\n",
    "    def sub(self):\n",
    "        esult = self.first * self.second\n",
    "        return result\n",
    "    def div(self):\n",
    "        esult = self.first / self.second\n",
    "        return result\n",
    "    def all_cal(self):\n",
    "        result1 = self.sum()\n",
    "        result2 = self.mul()\n",
    "        result3 = self.sub()\n",
    "        result4 = self.div()\n",
    "        return result1 + result2 + result3 + result4"
   ]
  },
  {
   "cell_type": "code",
   "execution_count": 51,
   "metadata": {},
   "outputs": [
    {
     "name": "stdout",
     "output_type": "stream",
     "text": [
      "300\n"
     ]
    }
   ],
   "source": [
    "fourcal = FourCal()\n",
    "fourcal.setdata(100,200)\n",
    "fourcal.third = 500\n",
    "def addnum(a, b):\n",
    "    return a+b\n",
    "fourcal.addnum_point = addnum # 실시간으로 멤버함수의 추가가 가능\n",
    "print(fourcal.addnum_point(fourcal.first,fourcal.second))"
   ]
  },
  {
   "cell_type": "code",
   "execution_count": 53,
   "metadata": {},
   "outputs": [],
   "source": [
    "import random\n",
    "class LottoBall:\n",
    "    def __init__(self, num):\n",
    "        self.num = num\n",
    "    def __repr__(self):\n",
    "        return str(self.num)"
   ]
  },
  {
   "cell_type": "code",
   "execution_count": 55,
   "metadata": {},
   "outputs": [],
   "source": [
    "class LottoMachine:\n",
    "    def __init__(self):\n",
    "        self.ballList = []\n",
    "        for i in range(1,46):\n",
    "            self.ballList.append(LottoBall(i))\n",
    "            \n",
    "    def selectBalls(self):\n",
    "        random.shuffle(self.ballList);\n",
    "        return self.ballList[0:6]"
   ]
  },
  {
   "cell_type": "code",
   "execution_count": 56,
   "metadata": {},
   "outputs": [],
   "source": [
    "class LottoUI:\n",
    "    def __init__(self):\n",
    "        self.machine = LottoMachine()\n",
    "    def playLotto(self):\n",
    "        input(\"번호를 뽑을까요?\");\n",
    "        selectedBalls = self.machine.selectBalls()\n",
    "        for ball in selectedBalls:\n",
    "            print(ball, end=\" \")"
   ]
  },
  {
   "cell_type": "code",
   "execution_count": 57,
   "metadata": {},
   "outputs": [
    {
     "name": "stdout",
     "output_type": "stream",
     "text": [
      "번호를 뽑을까요?네\n",
      "33 32 44 14 17 38 "
     ]
    }
   ],
   "source": [
    "lo = LottoUI()\n",
    "lo.playLotto()"
   ]
  },
  {
   "cell_type": "code",
   "execution_count": 2,
   "metadata": {},
   "outputs": [
    {
     "name": "stdout",
     "output_type": "stream",
     "text": [
      "이름 :  에어콘 , 나이 :  21\n"
     ]
    }
   ],
   "source": [
    "# chaining\n",
    "class Person:\n",
    "    def name(self, value):\n",
    "        self.name = value\n",
    "        return self\n",
    "    def age(self, value):\n",
    "        self.age = value\n",
    "        return self\n",
    "    def introduce(self):\n",
    "        print (\"이름 : \", self.name, \", 나이 : \",self.age)\n",
    "person = Person()\n",
    "person.name(\"에어콘\").age(21).introduce()"
   ]
  },
  {
   "cell_type": "markdown",
   "metadata": {},
   "source": [
    "# 문제\n",
    "- point class를 생성하시오\n",
    "- x,y 값을 저장해야 함\n",
    "- __repr__을 이용해서 출력하시오\n",
    "- 두 포인트의 거리값을 구하는 함수를 작성하시오\n",
    "- 두 포인트의 거리값이 3 이하면 충돌하는 것으로 출력하시오"
   ]
  },
  {
   "cell_type": "code",
   "execution_count": 1,
   "metadata": {},
   "outputs": [],
   "source": [
    "import math\n",
    "class Point:    \n",
    "    def __init__(self,x,y):\n",
    "        self.x = x\n",
    "        self.y = y\n",
    "    def __repr__(self):\n",
    "        return \"좌표는 (%d,%d)\" % (self.x, self.y)\n",
    "    def dist(self, other):\n",
    "        distance = math.sqrt( (self.x-other.x)**2 + (self.y -other.y)**2)\n",
    "        return distance\n",
    "    def collision(self, other):\n",
    "        return self.dist(other) <3\n",
    "    def collisonUI(self, other):\n",
    "        if self.collision(other):\n",
    "            print(\"충돌했습니다.\")\n",
    "        else:\n",
    "            print(\"충돌하지 않았습니다.\")"
   ]
  },
  {
   "cell_type": "code",
   "execution_count": 4,
   "metadata": {},
   "outputs": [
    {
     "name": "stdout",
     "output_type": "stream",
     "text": [
      "좌표는 (7,3)\n",
      "좌표는 (4,7)\n",
      "두 점 사이의 거리는 =  5.0\n",
      "충돌하지 않았습니다.\n"
     ]
    }
   ],
   "source": [
    "first = Point(7,3)\n",
    "second = Point(4,7)\n",
    "print(first)\n",
    "print(second)\n",
    "print(\"두 점 사이의 거리는 = \", first.dist(second))\n",
    "first.collisonUI(second)"
   ]
  },
  {
   "cell_type": "markdown",
   "metadata": {},
   "source": [
    "#원클래스를 작성하시오\n",
    "- 중심(point)과 반지름 : 포함 (component)\n",
    "- 원과 원의 중심거리를 구하는 함수를 작성하시오\n",
    "- 두원이 충돌했는지 판단하는 함수를 작성하시오 (중심거리 < 두 반지름의 합)\n",
    "- 중심과 반지름을 출력하는 함수를 작성하시오\n",
    "- 원의 둘레를 구하는 함수\n",
    "- 원의 면적을 구하는 함수를 작성하시오"
   ]
  },
  {
   "cell_type": "code",
   "execution_count": 34,
   "metadata": {},
   "outputs": [],
   "source": [
    "import math\n",
    "class Circle:\n",
    "    def __init__(self,x,y,radius):\n",
    "        self.x = x\n",
    "        self.y = y\n",
    "        self.radius = radius\n",
    "    def dist(self,other):\n",
    "        distance = math.sqrt( (self.x-other.x)**2 + (self.y -other.y)**2)\n",
    "        return distance\n",
    "    def carsh(self,other,distance):\n",
    "        if distance > (self.radius+other.radius):\n",
    "            return \"충돌하지않았습니다.\"\n",
    "        else :\n",
    "            return \"충돌하였습니다.\"\n",
    "    def Circumference(self):\n",
    "        self.cirf = 2*self.radius*3.14\n",
    "        return self.cirf\n",
    "    def area(self):\n",
    "        self.ar = (self.radius**2)*3.14\n",
    "        return self.ar\n",
    "    def __repr__(self):\n",
    "        return \"좌표는 (\"+str(self.x)+\",\"+str(self.y)+\"), 반지름은 \" + str(self.radius)+\" 둘레는 \" +str(self.Circumference()) + \" 면적은 \" + str(self.area())\n",
    "    def moveUp(self):\n",
    "        self.center.y -=1\n",
    "    def moveDown(self):\n",
    "        self.center.y +=1\n",
    "    def moveLeft(self):\n",
    "        self.center.x -=1\n",
    "    def moveRight(self):\n",
    "        self.center.x +=1"
   ]
  },
  {
   "cell_type": "code",
   "execution_count": 35,
   "metadata": {},
   "outputs": [
    {
     "name": "stdout",
     "output_type": "stream",
     "text": [
      "충돌하지않았습니다.\n",
      "좌표는 (1,2), 반지름은 2 둘레는 12.56 면적은 12.56\n",
      "좌표는 (5,5), 반지름은 2 둘레는 12.56 면적은 12.56\n"
     ]
    }
   ],
   "source": [
    "first = Circle(1,2,2)\n",
    "second = Circle(5,5,2)\n",
    "r=first.dist(second)\n",
    "print(first.carsh(second,r))\n",
    "first.Circumference\n",
    "first.area\n",
    "second.Circumference\n",
    "first.area\n",
    "print(first)\n",
    "print(second)"
   ]
  },
  {
   "cell_type": "code",
   "execution_count": null,
   "metadata": {},
   "outputs": [],
   "source": [
    "Event driven programing\n",
    "-이벤트\n",
    "-"
   ]
  },
  {
   "cell_type": "code",
   "execution_count": 39,
   "metadata": {},
   "outputs": [],
   "source": [
    "from pynput.keyboard import Key, Listener\n",
    "def on_press(key):\n",
    "    print(\"{0} pressed\".format(key))\n",
    "def on_release(key):\n",
    "    print(\"{0} release\".format(key))\n",
    "    if key == key.esc:\n",
    "        return False\n",
    "    if key == key.right:\n",
    "        cir.moveRight()\n",
    "    if key == key.left:\n",
    "        cir.moveLeft()\n",
    "    if key == key.up:\n",
    "        cir.moveUp()\n",
    "    if key == key.down:\n",
    "        cir.moveDown()\n",
    "    print(cir)\n",
    "with Listener(\n",
    "        on_press=on_press,\n",
    "        on_release=on_release) as listener:\n",
    "    listener.join()"
   ]
  },
  {
   "cell_type": "markdown",
   "metadata": {},
   "source": [
    "# 문제\n",
    "- 두 point를 이용해서 Rectangle을 정의 합니다.\n",
    "- 사각형의 면적을 구하는 함수를 작성하시오\n",
    "- 사각형의 둘레를 구하는 함수를 작성하시오\n",
    "- 대각선의 길이를 구하는 함수를 작성하시오\n",
    "- 사각형의 중심 좌표를 구하는 함수를 작성하시오\n",
    "- 위를 출력하는 함수를 작성하시오"
   ]
  },
  {
   "cell_type": "code",
   "execution_count": 20,
   "metadata": {},
   "outputs": [],
   "source": [
    "import math\n",
    "class Rectangle:\n",
    "    a=0\n",
    "    c=0\n",
    "    d=0\n",
    "    listcenter = []\n",
    "    def __init__(self,x,y):\n",
    "        self.x = x\n",
    "        self.y = y\n",
    "    def area(self,other):\n",
    "        self.a = abs(self.x-other.x)*abs(self.y-other.y)\n",
    "        return self.a\n",
    "    def Circumference(self,other):\n",
    "        self.c = (abs(self.x-other.x)+abs(self.y-other.y))*2\n",
    "        return self.c\n",
    "    def diagonal(self,other):\n",
    "        self.d = math.sqrt((self.x-other.x)**2 + (self.y-other.y)**2)\n",
    "        return self.d\n",
    "    def center(self,other):\n",
    "        hor = abs(self.x-other.x)/2\n",
    "        ver = abs(self.y-other.y)/2\n",
    "        list1 = [self.x,other.x]\n",
    "        list2 = [self.y,other.y]\n",
    "        self.centerX = min(list1)+hor\n",
    "        self.centerY = min(list2)+ver\n",
    "        self.listcenter = [self.centerX,self.centerY]\n",
    "        return self.listcenter\n",
    "    def __repr__(self):\n",
    "        return \"면적 : \"+ str(self.a) + \"\\n둘레 : \" + str(self.c) + \"\\n대각선 길이 : \" + str(self.d) + \"\\n중심좌표 : (\" + str(self.listcenter[0])+\",\"+str(self.listcenter[1])+\")\"    "
   ]
  },
  {
   "cell_type": "code",
   "execution_count": 22,
   "metadata": {},
   "outputs": [
    {
     "name": "stdout",
     "output_type": "stream",
     "text": [
      "면적 : 12\n",
      "둘레 : 14\n",
      "대각선 길이 : 5.0\n",
      "중심좌표 : (12.0,11.5)\n"
     ]
    }
   ],
   "source": [
    "fir = Rectangle(10,10)\n",
    "sec = Rectangle(14,13)\n",
    "fir.area(sec)\n",
    "fir.Circumference(sec)\n",
    "fir.diagonal(sec)\n",
    "fir.center(sec)\n",
    "print(fir)"
   ]
  },
  {
   "cell_type": "code",
   "execution_count": 23,
   "metadata": {},
   "outputs": [],
   "source": [
    "# vector 연산 : 요소연산 , 내적"
   ]
  },
  {
   "cell_type": "code",
   "execution_count": 9,
   "metadata": {},
   "outputs": [],
   "source": [
    "import math\n",
    "class Vector:\n",
    "    def __init__(self, x, y):\n",
    "        self.x = x\n",
    "        self.y = y\n",
    "    def __repr__(self):\n",
    "        return \"(좌표는 %d, %d)\" %(self.x, self.y)\n",
    "    def __add__(self, other): # 연산자 오버로딩\n",
    "        return Vector(self.x + other.x, self.y + other.y)\n",
    "    def __mul__(self, other):\n",
    "        return Vector(self.x * other.x, self.y * other.y)\n",
    "    def __sub__(self, other):\n",
    "        return Vector(self.x - other.x, self.y - other.y)\n",
    "    def __truediv__(self, other):\n",
    "        return Vector(self.x / other.x, self.y / other.y)"
   ]
  },
  {
   "cell_type": "code",
   "execution_count": 10,
   "metadata": {},
   "outputs": [
    {
     "name": "stdout",
     "output_type": "stream",
     "text": [
      "(좌표는 10, 20)\n",
      "(좌표는 20, 40)\n",
      "(좌표는 200, 200)\n",
      "(좌표는 -10, 10)\n",
      "(좌표는 0, 2)\n"
     ]
    }
   ],
   "source": [
    "f = Vector(10,20)\n",
    "g = Vector(20,10)\n",
    "print(f)\n",
    "print(f+f)\n",
    "print(f*g)\n",
    "print(f-g)\n",
    "print(f/g)"
   ]
  },
  {
   "cell_type": "code",
   "execution_count": 4,
   "metadata": {},
   "outputs": [],
   "source": [
    "import math\n",
    "class Vector:\n",
    "    def __init__(self, x, y, z):\n",
    "        self.x = x\n",
    "        self.y = y\n",
    "        self.z = z\n",
    "    def __repr__(self):\n",
    "        return \"(좌표는 %d, %d, %d)\" %(self.x, self.y, self.z)\n",
    "    def __add__(self, other): # 연산자 오버로딩\n",
    "        return Vector(self.x + other.x, self.y + other.y, self.z + other.z)\n",
    "    def __mul__(self, other):\n",
    "        return Vector(self.x * other.x, self.y * other.y, self.z * other.z)\n",
    "    def __sub__(self, other):\n",
    "        return Vector(self.x - other.x, self.y - other.y, self.z - other.z)\n",
    "    def __truediv__(self, other):\n",
    "        return Vector(self.x / other.x, self.y / other.y, self.z / other.z)\n",
    "    def norm(self):\n",
    "        return math.sqrt(self.x**2 + self.y**2+self.z**2)\n",
    "    def noramlize(self):\n",
    "        norm = self.norm()\n",
    "        return Vector(self.x/norm, self.y/norm, self.z/norm)\n",
    "    def dot(self,other):\n",
    "        return (self.x * other.x + self.y * other.y + self.z * other.z)\n",
    "    def costheta(self,other):\n",
    "        dot = self.dot(other)\n",
    "        norm1 = self.norm()\n",
    "        norm2 = other.norm()\n",
    "        return dot/(norm1*norm2)\n",
    "    def theta(self, other):\n",
    "        costheta = self.costheta(other)\n",
    "        return math.acos(costheta) * (180/math.pi) # 라디안 값으로 나오니 degree값으로 변경\n",
    "    "
   ]
  },
  {
   "cell_type": "code",
   "execution_count": 12,
   "metadata": {},
   "outputs": [
    {
     "name": "stdout",
     "output_type": "stream",
     "text": [
      "(좌표는 10, 20, 30)\n",
      "(좌표는 20, 40, 60)\n",
      "(좌표는 200, 200, 1200)\n",
      "(좌표는 -10, 10, -10)\n",
      "(좌표는 0, 2, 0)\n"
     ]
    }
   ],
   "source": [
    "f = Vector(10,20,30)\n",
    "g = Vector(20,10,40)\n",
    "print(f)\n",
    "print(f+f)\n",
    "print(f*g)\n",
    "print(f-g)\n",
    "print(f/g)"
   ]
  },
  {
   "cell_type": "code",
   "execution_count": 7,
   "metadata": {},
   "outputs": [],
   "source": [
    "f = Vector(10,0,0)\n",
    "g = Vector(0,27,0)"
   ]
  },
  {
   "cell_type": "code",
   "execution_count": 10,
   "metadata": {},
   "outputs": [
    {
     "name": "stdout",
     "output_type": "stream",
     "text": [
      "(좌표는 10, 0, 0)\n",
      "(좌표는 20, 0, 0)\n",
      "(좌표는 0, 0, 0)\n",
      "f벡터의 크기  10.0\n",
      "g벡터의 크기  27.0\n",
      "f벡터의 normal vecotor (좌표는 1, 0, 0)\n",
      "두 벡터의 내적 =  0\n",
      "f와 g의 사이각은 =  90.0\n",
      "f와 g의 코사인 사이각은  0.0\n"
     ]
    }
   ],
   "source": [
    "print(f)\n",
    "print(f+f)\n",
    "print(f*g)\n",
    "print(\"f벡터의 크기 \", f.norm())\n",
    "print(\"g벡터의 크기 \", g.norm())\n",
    "print(\"f벡터의 normal vecotor\", f.noramlize())\n",
    "print(\"두 벡터의 내적 = \", g.dot(f)) # 내적이 0이면 두 벡터는 직교다\n",
    "print(\"f와 g의 사이각은 = \", f.theta(g))\n",
    "print(\"f와 g의 코사인 사이각은 \", f.costheta(g))"
   ]
  },
  {
   "cell_type": "code",
   "execution_count": null,
   "metadata": {},
   "outputs": [],
   "source": [
    "#문제 : 성적 프로그램을 클래스화하시요\n",
    "- 1인분을 다루는 클래스를 만듬\n",
    "- Manangement 하는 클래스를 작성하시오 (검색) (CRUD)\n",
    "    -입력\n",
    "    -출력\n",
    "    -수정\n",
    "    -삭제\n",
    "- 그리고 메뉴화 하시오"
   ]
  },
  {
   "cell_type": "markdown",
   "metadata": {},
   "source": [
    "# Exception 예외 처리\n",
    "- 프로그램은 계속 진행 되어야 한다."
   ]
  },
  {
   "cell_type": "code",
   "execution_count": null,
   "metadata": {},
   "outputs": [],
   "source": [
    "try 예외처리의 대상이 되는 구만 - exception else finally # 무조건 실행"
   ]
  },
  {
   "cell_type": "code",
   "execution_count": 1,
   "metadata": {},
   "outputs": [
    {
     "ename": "Exception",
     "evalue": "음수안됨",
     "output_type": "error",
     "traceback": [
      "\u001b[1;31m---------------------------------------------------------------------------\u001b[0m",
      "\u001b[1;31mException\u001b[0m                                 Traceback (most recent call last)",
      "\u001b[1;32m<ipython-input-1-2c55fb84eb75>\u001b[0m in \u001b[0;36m<module>\u001b[1;34m\u001b[0m\n\u001b[0;32m      1\u001b[0m \u001b[0mx\u001b[0m \u001b[1;33m=\u001b[0m \u001b[1;33m-\u001b[0m\u001b[1;36m1\u001b[0m\u001b[1;33m\u001b[0m\u001b[1;33m\u001b[0m\u001b[0m\n\u001b[0;32m      2\u001b[0m \u001b[1;32mif\u001b[0m \u001b[0mx\u001b[0m \u001b[1;33m<\u001b[0m \u001b[1;36m0\u001b[0m\u001b[1;33m:\u001b[0m\u001b[1;33m\u001b[0m\u001b[1;33m\u001b[0m\u001b[0m\n\u001b[1;32m----> 3\u001b[1;33m     \u001b[1;32mraise\u001b[0m \u001b[0mException\u001b[0m\u001b[1;33m(\u001b[0m\u001b[1;34m\"음수안됨\"\u001b[0m\u001b[1;33m)\u001b[0m\u001b[1;33m\u001b[0m\u001b[1;33m\u001b[0m\u001b[0m\n\u001b[0m",
      "\u001b[1;31mException\u001b[0m: 음수안됨"
     ]
    }
   ],
   "source": [
    "x = -1\n",
    "if x < 0:\n",
    "    raise Exception(\"음수안됨\")"
   ]
  },
  {
   "cell_type": "code",
   "execution_count": 2,
   "metadata": {},
   "outputs": [
    {
     "ename": "Exception",
     "evalue": "이상치 발생 : 10",
     "output_type": "error",
     "traceback": [
      "\u001b[1;31m---------------------------------------------------------------------------\u001b[0m",
      "\u001b[1;31mException\u001b[0m                                 Traceback (most recent call last)",
      "\u001b[1;32m<ipython-input-2-cfc547002ae5>\u001b[0m in \u001b[0;36m<module>\u001b[1;34m\u001b[0m\n\u001b[0;32m      1\u001b[0m \u001b[0mx\u001b[0m \u001b[1;33m=\u001b[0m \u001b[1;36m10\u001b[0m\u001b[1;33m\u001b[0m\u001b[1;33m\u001b[0m\u001b[0m\n\u001b[0;32m      2\u001b[0m \u001b[1;32mif\u001b[0m \u001b[0mx\u001b[0m \u001b[1;33m>\u001b[0m \u001b[1;36m5\u001b[0m \u001b[1;33m:\u001b[0m\u001b[1;33m\u001b[0m\u001b[1;33m\u001b[0m\u001b[0m\n\u001b[1;32m----> 3\u001b[1;33m     \u001b[1;32mraise\u001b[0m \u001b[0mException\u001b[0m\u001b[1;33m(\u001b[0m\u001b[1;34m\"이상치 발생 : {}\"\u001b[0m \u001b[1;33m.\u001b[0m\u001b[0mformat\u001b[0m\u001b[1;33m(\u001b[0m\u001b[0mx\u001b[0m\u001b[1;33m)\u001b[0m\u001b[1;33m)\u001b[0m\u001b[1;33m\u001b[0m\u001b[1;33m\u001b[0m\u001b[0m\n\u001b[0m",
      "\u001b[1;31mException\u001b[0m: 이상치 발생 : 10"
     ]
    }
   ],
   "source": [
    "x = 10\n",
    "if x > 5 :\n",
    "    raise Exception(\"이상치 발생 : {}\" .format(x))"
   ]
  },
  {
   "cell_type": "code",
   "execution_count": 6,
   "metadata": {},
   "outputs": [
    {
     "name": "stdout",
     "output_type": "stream",
     "text": [
      "list index out of range\n",
      "프로그램이 정상적으로 종료되었습니다.\n"
     ]
    }
   ],
   "source": [
    "cities=[]\n",
    "cities.append(\"하늘\")\n",
    "cities.append(\"땅\")\n",
    "try:\n",
    "    print(cities[2])\n",
    "    print(\"뒤에 출력 가능?\")\n",
    "except IndexError as e:\n",
    "    print(e)\n",
    "print(\"프로그램이 정상적으로 종료되었습니다.\")"
   ]
  },
  {
   "cell_type": "code",
   "execution_count": 10,
   "metadata": {},
   "outputs": [
    {
     "name": "stdout",
     "output_type": "stream",
     "text": [
      "반드시 정수를 입력하세요1\n",
      "입력한 숫자는 1\n"
     ]
    }
   ],
   "source": [
    "import sys\n",
    "try:\n",
    "    my_number = int(input(\"반드시 정수를 입력하세요\"))\n",
    "except ValueError: # 상속구조로 되어 있음 ( 자식 -> 부모순으로 기술되어야 함)\n",
    "    print(\"정수를 입력하지 않았습니다.\")\n",
    "    #sys.exit(1)#0\n",
    "print(\"입력한 숫자는\", my_number)"
   ]
  },
  {
   "cell_type": "code",
   "execution_count": 13,
   "metadata": {},
   "outputs": [
    {
     "name": "stdout",
     "output_type": "stream",
     "text": [
      "a,b,c 중 입력 : 12\n",
      "원하지 않는 입력입니다.\n",
      "a,b,c 중 입력 : a\n",
      "alpha\n"
     ]
    }
   ],
   "source": [
    "def main():\n",
    "    phoneticAlphabet = {'a':\"alpha\", 'b':\"bravo\", 'c':\"charlie\"}\n",
    "    while True:\n",
    "        try:\n",
    "            letter = input(\"a,b,c 중 입력 : \")\n",
    "            print(phoneticAlphabet[letter])\n",
    "            break\n",
    "        except KeyError:\n",
    "            print(\"원하지 않는 입력입니다.\")\n",
    "            \n",
    "main()"
   ]
  },
  {
   "cell_type": "code",
   "execution_count": null,
   "metadata": {},
   "outputs": [],
   "source": [
    "# 상속 :\n",
    "- 중복의 방지 ( 공통부분을 부모로 정의하고 상속)\n",
    "- overriding : 재정의 : 매개변수의 타입과 매개변수 숫자는 같아야 합니다. (일치)\n",
    "- 재정의되었을 경우 : 자식의 함수가 실행"
   ]
  },
  {
   "cell_type": "code",
   "execution_count": 16,
   "metadata": {},
   "outputs": [
    {
     "name": "stdout",
     "output_type": "stream",
     "text": [
      "부모메소드\n"
     ]
    }
   ],
   "source": [
    "class Parent():\n",
    "    def myMethod(self):\n",
    "        print(\"부모메소드\")\n",
    "\n",
    "class Child(Parent):\n",
    "    def Child(self):\n",
    "        print(\"자식메소드\")\n",
    "ch = Child()\n",
    "ch.myMethod()"
   ]
  },
  {
   "cell_type": "code",
   "execution_count": null,
   "metadata": {},
   "outputs": [],
   "source": [
    "# 프로그램은 순서적으로 실행\n",
    "- 실행순서 : 제어문(if, for)\n",
    "- 함수 : jump : 리턴 (stack) : 호출한 곳으로 돌아옴\n",
    "- 클래스 : 생성자"
   ]
  },
  {
   "cell_type": "code",
   "execution_count": 19,
   "metadata": {},
   "outputs": [],
   "source": [
    "class Parent:\n",
    "    parentAttr = 100 # 클래스 변수\n",
    "    def __init__(self, name): # 생성자\n",
    "        self.name = name\n",
    "        print(\"부모 생성자\")\n",
    "    def parentMethod(self):\n",
    "        print (\"부모 메서드\", self.name)\n",
    "    def setAttr(self, attr):\n",
    "        Parent.parentAttr = attr\n",
    "    def getAttr(self):\n",
    "        print (\"부모 속성 : \", Parent.parentAttr)\n",
    "class Child(Parent):\n",
    "    def __init__(self): # 생성자 : 자식의 생성자가 실행 : 오버라이딩 : __init__ 호출불가 하나\n",
    "        Parent.__init__(self,\"서울\")# 예외로 자식 클래스에서 호출 가능\n",
    "        print(\"자식 생성자\")\n",
    "    def childMethod(self):\n",
    "        print(\"자식 매서드\")\n",
    "    def print_attribute(self):\n",
    "        self.setAttr(500)\n",
    "        print(\"자식 호출된 부모 속성 :\", Parent.parentAttr)"
   ]
  },
  {
   "cell_type": "code",
   "execution_count": 20,
   "metadata": {},
   "outputs": [
    {
     "name": "stdout",
     "output_type": "stream",
     "text": [
      "부모 생성자\n",
      "자식 생성자\n",
      "자식 매서드\n",
      "부모 메서드 서울\n",
      "부모 속성 :  200\n",
      "자식 호출된 부모 속성 : 500\n"
     ]
    },
    {
     "data": {
      "text/plain": [
       "500"
      ]
     },
     "execution_count": 20,
     "metadata": {},
     "output_type": "execute_result"
    }
   ],
   "source": [
    "c = Child()\n",
    "c.childMethod()\n",
    "c.parentMethod()\n",
    "c.setAttr(200)\n",
    "c.getAttr()\n",
    "c.print_attribute()\n",
    "c.parentAttr"
   ]
  },
  {
   "cell_type": "code",
   "execution_count": 21,
   "metadata": {},
   "outputs": [],
   "source": [
    "# 인터페이스의 일관성\n",
    "class Animal: # 공통부분을 정의 \n",
    "    def __init__(self, name):\n",
    "        self.name = name\n",
    "    def move(self):\n",
    "        print(\"move\")\n",
    "    def speak(self):\n",
    "        pass\n",
    "    \n",
    "class Dog (Animal): # 자식이 상속시 __init__ 재정의하지 않는 경우 : 부모의 생성자실행\n",
    "    def speak(self): # 재정의\n",
    "        print(\"bark\")\n",
    "        \n",
    "class Duck (Animal):\n",
    "    def speak(self):\n",
    "        print(\"quack\")"
   ]
  },
  {
   "cell_type": "code",
   "execution_count": 22,
   "metadata": {},
   "outputs": [
    {
     "name": "stdout",
     "output_type": "stream",
     "text": [
      "move\n",
      "bark\n",
      "doggy\n"
     ]
    }
   ],
   "source": [
    "dog = Dog(\"doggy\")\n",
    "n = dog.name\n",
    "dog.move()\n",
    "dog.speak()\n",
    "print(n)"
   ]
  },
  {
   "cell_type": "code",
   "execution_count": 24,
   "metadata": {},
   "outputs": [
    {
     "name": "stdout",
     "output_type": "stream",
     "text": [
      "move\n",
      "bark\n",
      "move\n",
      "quack\n"
     ]
    }
   ],
   "source": [
    "animals = [Dog('doggy'), Duck('duck')]\n",
    "for a in animals:\n",
    "    a.move()\n",
    "    a.speak()"
   ]
  },
  {
   "cell_type": "code",
   "execution_count": 3,
   "metadata": {},
   "outputs": [],
   "source": [
    "# 문제\n",
    "class Point:\n",
    "    def __init__(self,x,y):\n",
    "        self.x = x\n",
    "        self.y = y\n",
    "class Shape: # 공통점\n",
    "    def area_calc(self):\n",
    "        print(\"면적\")\n",
    "    def perimeter(self):\n",
    "        print(\"둘레\")\n",
    "        \n",
    "# 문제\n",
    "# - Shape를 상속받아 Rectangle과 Circle의 면적과 둘레를 구하는 클래스를 작성하시오\n",
    "# - 인스턴스 후에 리스트를 만들어 일시에 실행시켜 보시오"
   ]
  },
  {
   "cell_type": "code",
   "execution_count": 8,
   "metadata": {},
   "outputs": [],
   "source": [
    "class Rectangle(Shape):\n",
    "    def __init__(self,lefttop,rightdown):\n",
    "        self.lefttop = lefttop\n",
    "        self.rightdown = rightdown\n",
    "        \n",
    "    def perimeter(self):\n",
    "        result = 2*(abs(self.lefttop - self.rightdown) + abs(self.lefttop - self.rightdown))\n",
    "        return result\n",
    "        \n",
    "    def area_calc(self):\n",
    "        result = abs(self.x - other.x) * abs(self.y - other.y)\n",
    "        return result\n",
    "    \n",
    "    def __repr__(self):\n",
    "        return \"좌표 (%d,%d),(%d,%d) 를 가지는 사각형의 둘레 : %d , 면적 : %d\" %(self.x,self.y,other.x,other.y,self.perimeter(other),self.area_calc(other))\n",
    "    \n",
    "class Circle(Shape):\n",
    "    def __init__(self,center,radius):\n",
    "        self.center = center\n",
    "        self.radius = radius\n",
    "    \n",
    "    def perimeter(self):\n",
    "        result = 2*self.radius*3.14\n",
    "        return result\n",
    "        \n",
    "    def area_calc(self):\n",
    "        result = (self.radius**2)*3.14\n",
    "        return result\n",
    "    \n",
    "    def __repr__(self):\n",
    "        return \"좌표 (%d,%d)과 반지름 %d를 가지는 원의 둘레 : %d, 면적 : %d\" %(self.x,self.y,self.radius,self.perimeter(),self.area_calc())\n",
    "        \n",
    "    "
   ]
  },
  {
   "cell_type": "code",
   "execution_count": 9,
   "metadata": {},
   "outputs": [
    {
     "name": "stdout",
     "output_type": "stream",
     "text": [
      "78.5\n",
      "31.400000000000002\n",
      "78.5\n",
      "31.400000000000002\n"
     ]
    },
    {
     "ename": "AttributeError",
     "evalue": "'Rectangle' object has no attribute 'x'",
     "output_type": "error",
     "traceback": [
      "\u001b[1;31m---------------------------------------------------------------------------\u001b[0m",
      "\u001b[1;31mAttributeError\u001b[0m                            Traceback (most recent call last)",
      "\u001b[1;32m<ipython-input-9-c25167700638>\u001b[0m in \u001b[0;36m<module>\u001b[1;34m\u001b[0m\n\u001b[0;32m     10\u001b[0m         \u001b[0mshape_list\u001b[0m\u001b[1;33m.\u001b[0m\u001b[0mappend\u001b[0m\u001b[1;33m(\u001b[0m\u001b[0mcircle\u001b[0m\u001b[1;33m)\u001b[0m\u001b[1;33m\u001b[0m\u001b[1;33m\u001b[0m\u001b[0m\n\u001b[0;32m     11\u001b[0m \u001b[1;32mfor\u001b[0m \u001b[0mi\u001b[0m \u001b[1;32min\u001b[0m \u001b[0mrange\u001b[0m\u001b[1;33m(\u001b[0m\u001b[1;36m100\u001b[0m\u001b[1;33m)\u001b[0m\u001b[1;33m:\u001b[0m\u001b[1;33m\u001b[0m\u001b[1;33m\u001b[0m\u001b[0m\n\u001b[1;32m---> 12\u001b[1;33m     \u001b[0mprint\u001b[0m\u001b[1;33m(\u001b[0m\u001b[0mshape_list\u001b[0m\u001b[1;33m[\u001b[0m\u001b[0mi\u001b[0m\u001b[1;33m]\u001b[0m\u001b[1;33m.\u001b[0m\u001b[0marea_calc\u001b[0m\u001b[1;33m(\u001b[0m\u001b[1;33m)\u001b[0m\u001b[1;33m)\u001b[0m\u001b[1;33m\u001b[0m\u001b[1;33m\u001b[0m\u001b[0m\n\u001b[0m\u001b[0;32m     13\u001b[0m     \u001b[0mprint\u001b[0m\u001b[1;33m(\u001b[0m\u001b[0mshape_list\u001b[0m\u001b[1;33m[\u001b[0m\u001b[0mi\u001b[0m\u001b[1;33m]\u001b[0m\u001b[1;33m.\u001b[0m\u001b[0mperimeter\u001b[0m\u001b[1;33m(\u001b[0m\u001b[1;33m)\u001b[0m\u001b[1;33m)\u001b[0m\u001b[1;33m\u001b[0m\u001b[1;33m\u001b[0m\u001b[0m\n",
      "\u001b[1;32m<ipython-input-8-fde50c3970fe>\u001b[0m in \u001b[0;36marea_calc\u001b[1;34m(self)\u001b[0m\n\u001b[0;32m      9\u001b[0m \u001b[1;33m\u001b[0m\u001b[0m\n\u001b[0;32m     10\u001b[0m     \u001b[1;32mdef\u001b[0m \u001b[0marea_calc\u001b[0m\u001b[1;33m(\u001b[0m\u001b[0mself\u001b[0m\u001b[1;33m)\u001b[0m\u001b[1;33m:\u001b[0m\u001b[1;33m\u001b[0m\u001b[1;33m\u001b[0m\u001b[0m\n\u001b[1;32m---> 11\u001b[1;33m         \u001b[0mresult\u001b[0m \u001b[1;33m=\u001b[0m \u001b[0mabs\u001b[0m\u001b[1;33m(\u001b[0m\u001b[0mself\u001b[0m\u001b[1;33m.\u001b[0m\u001b[0mx\u001b[0m \u001b[1;33m-\u001b[0m \u001b[0mother\u001b[0m\u001b[1;33m.\u001b[0m\u001b[0mx\u001b[0m\u001b[1;33m)\u001b[0m \u001b[1;33m*\u001b[0m \u001b[0mabs\u001b[0m\u001b[1;33m(\u001b[0m\u001b[0mself\u001b[0m\u001b[1;33m.\u001b[0m\u001b[0my\u001b[0m \u001b[1;33m-\u001b[0m \u001b[0mother\u001b[0m\u001b[1;33m.\u001b[0m\u001b[0my\u001b[0m\u001b[1;33m)\u001b[0m\u001b[1;33m\u001b[0m\u001b[1;33m\u001b[0m\u001b[0m\n\u001b[0m\u001b[0;32m     12\u001b[0m         \u001b[1;32mreturn\u001b[0m \u001b[0mresult\u001b[0m\u001b[1;33m\u001b[0m\u001b[1;33m\u001b[0m\u001b[0m\n\u001b[0;32m     13\u001b[0m \u001b[1;33m\u001b[0m\u001b[0m\n",
      "\u001b[1;31mAttributeError\u001b[0m: 'Rectangle' object has no attribute 'x'"
     ]
    }
   ],
   "source": [
    "import random\n",
    "shape_list=[]\n",
    "for i in range(100):\n",
    "    rand = random.randint(0,10)\n",
    "    if rand%2 == 0:\n",
    "        rect = Rectangle(Point(10,20),Point(20,30))\n",
    "        shape_list.append(rect)\n",
    "    else:\n",
    "        circle = Circle(Point(10,20),5)\n",
    "        shape_list.append(circle)\n",
    "for i in range(100):\n",
    "    print(shape_list[i].area_calc())\n",
    "    print(shape_list[i].perimeter())"
   ]
  },
  {
   "cell_type": "code",
   "execution_count": null,
   "metadata": {},
   "outputs": [],
   "source": [
    "# 학교 성적관리 프로그램을 개발하는 업체\n",
    "- 학교마다 다양한 평가 방법이 있음\n",
    "- 평가 방법을 다 반영하여 구동할 수 있는 프로그램을 어떻게 개발 할 수 있을까.\n",
    "- A,B,C,D,E,F\n",
    "- 합격, 불합격\n",
    "- 수우미양가\n",
    "- 원칙 : 방법을 모두 고정 시키면 복잡 - 유지 보수, 확장도 힘듬(평가 방법이 추가)"
   ]
  },
  {
   "cell_type": "code",
   "execution_count": null,
   "metadata": {},
   "outputs": [],
   "source": [
    "- 상속과 delegate 대신해서 작업 (가상 대표를 이용해서 작업)"
   ]
  },
  {
   "cell_type": "code",
   "execution_count": 13,
   "metadata": {},
   "outputs": [],
   "source": [
    "class Evaluation :\n",
    "    def printcalcGrade(self, average):\n",
    "        pass\n",
    "class Hakjum(Evaluation):\n",
    "    def printcalcGrade(self, average):\n",
    "        if average >= 90: return \"A\"\n",
    "        elif average >= 80: return \"B\"\n",
    "        elif average >= 70: return \"C\"\n",
    "        elif average >= 60: return \"D\"\n",
    "        elif average >= 50: return \"E\"\n",
    "        else: return \"F\"\n",
    "        \n",
    "class Pass_Fail(Evaluation):\n",
    "    def printcalcGrade(self, average):\n",
    "        if average >= 60: return \"합격\"\n",
    "        else : return \"불합격\"\n",
    "        \n",
    "class Element_Evaluation(Evaluation):\n",
    "    def printcalcGrade(self, average):\n",
    "        if average >= 90: return \"수\"\n",
    "        elif average >= 80: return \"우\"\n",
    "        elif average >= 70: return \"미\"\n",
    "        elif average >= 60: return \"양\"\n",
    "        else: return \"가\""
   ]
  },
  {
   "cell_type": "code",
   "execution_count": 14,
   "metadata": {},
   "outputs": [],
   "source": [
    "class Evaluation_print:\n",
    "    def print_evalution(self, evaluation):\n",
    "        jumsu = eval(input(\"점수를 입력하세요\"))\n",
    "        print(evaluation.printcalcGrade(jumsu))"
   ]
  },
  {
   "cell_type": "code",
   "execution_count": 15,
   "metadata": {},
   "outputs": [
    {
     "name": "stdout",
     "output_type": "stream",
     "text": [
      "점수를 입력하세요50\n",
      "E\n",
      "점수를 입력하세요60\n",
      "합격\n",
      "점수를 입력하세요80\n",
      "우\n"
     ]
    }
   ],
   "source": [
    "evaluation_print = Evaluation_print()\n",
    "hakjum = Hakjum()\n",
    "pass_fail = Pass_Fail()\n",
    "element = Element_Evaluation()\n",
    "evaluation_print.print_evalution(hakjum)\n",
    "evaluation_print.print_evalution(pass_fail)\n",
    "\n",
    "evaluation_print.print_evalution(element)"
   ]
  },
  {
   "cell_type": "code",
   "execution_count": null,
   "metadata": {},
   "outputs": [],
   "source": [
    "다중 상속 : C 에서는 다중 상속 가능 , java 는 다중상속이 안됨(인터페이스:다중상속가능)\n",
    "다이아몬드 문제 발생"
   ]
  },
  {
   "cell_type": "code",
   "execution_count": 16,
   "metadata": {},
   "outputs": [
    {
     "name": "stdout",
     "output_type": "stream",
     "text": [
      "B.m()호출\n"
     ]
    }
   ],
   "source": [
    "class A:\n",
    "    def m(self):\n",
    "        print(\"A.m()호출\")\n",
    "class B(A):\n",
    "    def m(self):\n",
    "        print(\"B.m()호출\")\n",
    "class C(A):\n",
    "    def m(self):\n",
    "        print(\"C.m()\")\n",
    "class D(B,C):\n",
    "    pass\n",
    "dinc = D()\n",
    "dinc.m()"
   ]
  },
  {
   "cell_type": "code",
   "execution_count": 8,
   "metadata": {},
   "outputs": [],
   "source": [
    "class Clock(object):\n",
    "    def __init__(self,hours=0, minutes=0, seconds=0):\n",
    "        self.__hours = hours\n",
    "        self.__minutes = minutes\n",
    "        self.__seconds = seconds\n",
    "    def set(self, hours, minutes, seconds=0):\n",
    "        self.__hours = hours\n",
    "        self.__minutes = minutes\n",
    "        self.__seconds = seconds\n",
    "    def tick(self):\n",
    "        if self.__seconds == 59:\n",
    "            self.__seconds = 0\n",
    "            if (self.__minutes == 59):\n",
    "                self.__minutes = 0\n",
    "                if(self.__hours == 23):\n",
    "                    self.__hours = 0\n",
    "                else:\n",
    "                    self.__hours += 1\n",
    "            else:\n",
    "                self.__minutes += 1\n",
    "        else:\n",
    "            self.__seconds += 1;\n",
    "    def display(self):\n",
    "        print(\"%d:%d:%d\" %(self.__hours, self.__minutes, self.__seconds))\n",
    "    def __str__(self):\n",
    "        return \"%2d:%2d:%2d\" %(self.__hours, self.__minutes, self.__seconds)\n",
    "    def check(self):\n",
    "        if self.__hours == 0 and self.__minutes==0 and self.__seconds==0:\n",
    "            return True"
   ]
  },
  {
   "cell_type": "code",
   "execution_count": 9,
   "metadata": {},
   "outputs": [],
   "source": [
    "class Calendar(object):\n",
    "    months=(31,28,31,30,31,30,31,31,30,31,30,31)\n",
    "    def __init__(self, day=1, month=1, year=1900):\n",
    "        self.__day = day # private : 상속이 안됨\n",
    "        self.__month = month\n",
    "        self.__year = year\n",
    "    def leapyear(self, y):\n",
    "        if y%4:\n",
    "            return 0;\n",
    "        else :\n",
    "            if y%100:\n",
    "                return 1\n",
    "            else :\n",
    "                if y % 400:\n",
    "                    return 0\n",
    "                else :\n",
    "                    return 1\n",
    "    def set(self, day, month, year):\n",
    "        self.__day = day\n",
    "        self.__month = month\n",
    "        self.__year = year\n",
    "    def advance(self):\n",
    "        months = Calendar.months\n",
    "        max_days = months[self.__month-1] # 인덱스 0, 월은 1\n",
    "        if self.__month == 2:\n",
    "            max_days += self.leapyear(self.__year)\n",
    "        if self.__day == max_days:\n",
    "            self.__day = 1\n",
    "            if (self.__month == 12):\n",
    "                self.__month = 1\n",
    "                self.__year += 1\n",
    "            else:\n",
    "                self.__month += 1\n",
    "        else:\n",
    "            self.__day += 1\n",
    "    def __str__(self):\n",
    "        return str(self.__year) + \"/\" + str(self.__month)+ \"/\" + str(self.__day)"
   ]
  },
  {
   "cell_type": "code",
   "execution_count": 20,
   "metadata": {},
   "outputs": [],
   "source": [
    "# 문제 clock과 calendar를 다중 상속해서 시간이 지나면 자동으로 년월일이 변동하도록 연결시킨 클래스를 작성하시오"
   ]
  },
  {
   "cell_type": "code",
   "execution_count": 6,
   "metadata": {},
   "outputs": [
    {
     "data": {
      "text/plain": [
       "0"
      ]
     },
     "execution_count": 6,
     "metadata": {},
     "output_type": "execute_result"
    }
   ],
   "source": [
    "x._Clock__hours"
   ]
  },
  {
   "cell_type": "code",
   "execution_count": 10,
   "metadata": {},
   "outputs": [],
   "source": [
    "class time(Clock,Calendar):\n",
    "    def __init__(self, year=1900, month=1, day=1, hours=0, minutes=0, seconds=0):\n",
    "        Calendar.__init__(self, day, month, year)\n",
    "        Clock.__init__(self, hours, minutes, seconds)\n",
    "    def __str__(self):\n",
    "        return Calendar.__str__(self) + \" \" + Clock.__str__(self)\n",
    "    \n",
    "    def go(self):\n",
    "        self.tick()\n",
    "        if self.check():\n",
    "            self.advance()"
   ]
  },
  {
   "cell_type": "code",
   "execution_count": 11,
   "metadata": {},
   "outputs": [],
   "source": [
    "ccc = time(2020,1,1)"
   ]
  },
  {
   "cell_type": "code",
   "execution_count": 12,
   "metadata": {},
   "outputs": [
    {
     "name": "stdout",
     "output_type": "stream",
     "text": [
      "2020/1/1  0: 0: 0\n"
     ]
    }
   ],
   "source": [
    "print(ccc)"
   ]
  },
  {
   "cell_type": "code",
   "execution_count": 14,
   "metadata": {},
   "outputs": [
    {
     "name": "stdout",
     "output_type": "stream",
     "text": [
      "2020/1/1  0:30: 0\n"
     ]
    }
   ],
   "source": [
    "for i in range(20*60):\n",
    "    ccc.go()\n",
    "\n",
    "print(ccc)"
   ]
  },
  {
   "cell_type": "code",
   "execution_count": 17,
   "metadata": {},
   "outputs": [
    {
     "name": "stdout",
     "output_type": "stream",
     "text": [
      " 0: 0: 0\n"
     ]
    }
   ],
   "source": [
    "a = Clock()\n",
    "print(a)"
   ]
  },
  {
   "cell_type": "code",
   "execution_count": null,
   "metadata": {},
   "outputs": [],
   "source": []
  }
 ],
 "metadata": {
  "kernelspec": {
   "display_name": "Python 3",
   "language": "python",
   "name": "python3"
  },
  "language_info": {
   "codemirror_mode": {
    "name": "ipython",
    "version": 3
   },
   "file_extension": ".py",
   "mimetype": "text/x-python",
   "name": "python",
   "nbconvert_exporter": "python",
   "pygments_lexer": "ipython3",
   "version": "3.8.5"
  }
 },
 "nbformat": 4,
 "nbformat_minor": 4
}
