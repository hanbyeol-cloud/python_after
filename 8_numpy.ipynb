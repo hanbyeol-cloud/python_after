{
 "cells": [
  {
   "cell_type": "markdown",
   "metadata": {},
   "source": [
    "# 행렬\n",
    "- 행렬의 항등원 - 단위 행렬을 곱하면 - 대각선으로 1인 행렬"
   ]
  },
  {
   "cell_type": "code",
   "execution_count": 2,
   "metadata": {},
   "outputs": [
    {
     "name": "stdout",
     "output_type": "stream",
     "text": [
      "1.19.2\n",
      "[[1. 0. 0. 0. 0.]\n",
      " [0. 1. 0. 0. 0.]\n",
      " [0. 0. 1. 0. 0.]\n",
      " [0. 0. 0. 1. 0.]\n",
      " [0. 0. 0. 0. 1.]]\n",
      "[[1. 0. 0. 0. 0.]\n",
      " [0. 1. 0. 0. 0.]\n",
      " [0. 0. 1. 0. 0.]\n",
      " [0. 0. 0. 1. 0.]\n",
      " [0. 0. 0. 0. 1.]]\n"
     ]
    }
   ],
   "source": [
    "import numpy as np\n",
    "print(np.__version__)\n",
    "print(np.eye(5))\n",
    "print(np.identity(5))"
   ]
  },
  {
   "cell_type": "code",
   "execution_count": null,
   "metadata": {},
   "outputs": [],
   "source": [
    "# 행렬을 메모리에 저장하는 방법\n",
    "- 행 우선\n",
    "- 열 우선"
   ]
  },
  {
   "cell_type": "code",
   "execution_count": 3,
   "metadata": {},
   "outputs": [
    {
     "data": {
      "text/plain": [
       "array([[4.45036200e+217, 2.25563609e-153],\n",
       "       [3.31006788e-258, 3.52287686e-110]])"
      ]
     },
     "execution_count": 3,
     "metadata": {},
     "output_type": "execute_result"
    }
   ],
   "source": [
    "first= np.ndarray(shape=(2,2), dtype=float, order='F') # fortran style (열 우선)\n",
    "first # 메모리는 쓰레기 초기화"
   ]
  },
  {
   "cell_type": "code",
   "execution_count": 4,
   "metadata": {},
   "outputs": [
    {
     "data": {
      "text/plain": [
       "array([[10., 10.],\n",
       "       [10., 10.]])"
      ]
     },
     "execution_count": 4,
     "metadata": {},
     "output_type": "execute_result"
    }
   ],
   "source": [
    "first.fill(10)\n",
    "first"
   ]
  },
  {
   "cell_type": "code",
   "execution_count": 7,
   "metadata": {},
   "outputs": [
    {
     "name": "stdout",
     "output_type": "stream",
     "text": [
      "[[0. 0. 0. 0.]\n",
      " [0. 0. 0. 0.]\n",
      " [0. 0. 0. 0.]]\n",
      "[[[1 1 1 1]\n",
      "  [1 1 1 1]\n",
      "  [1 1 1 1]]\n",
      "\n",
      " [[1 1 1 1]\n",
      "  [1 1 1 1]\n",
      "  [1 1 1 1]]]\n",
      "[[7 7]\n",
      " [7 7]]\n",
      "[[1. 0. 0. 0.]\n",
      " [0. 1. 0. 0.]\n",
      " [0. 0. 1. 0.]\n",
      " [0. 0. 0. 1.]]\n",
      "[[0.00e+000 0.00e+000]\n",
      " [0.00e+000 0.00e+000]\n",
      " [0.00e+000 5.91e-321]\n",
      " [0.00e+000 0.00e+000]]\n"
     ]
    }
   ],
   "source": [
    "print(np.zeros((3,4)))\n",
    "print(np.ones((2,3,4),dtype=np.int16)) # 대량의 데이터\n",
    "print(np.full((2,2),7))\n",
    "print(np.eye(4))\n",
    "print(np.empty((4,2)))"
   ]
  },
  {
   "cell_type": "code",
   "execution_count": 8,
   "metadata": {},
   "outputs": [
    {
     "name": "stdout",
     "output_type": "stream",
     "text": [
      "원배열 : \n",
      " [[0 1]\n",
      " [2 3]\n",
      " [4 5]\n",
      " [6 7]\n",
      " [8 9]]\n",
      "\n",
      "동일 사이즈행렬: \n",
      " [[1. 1.]\n",
      " [1. 1.]\n",
      " [1. 1.]\n",
      " [1. 1.]\n",
      " [1. 1.]]\n"
     ]
    }
   ],
   "source": [
    "import numpy as np\n",
    "# python core 연속된 수 range : list\n",
    "# arange = vector\n",
    "array = np.arange(10).reshape(5,2)\n",
    "# [0.......9]\n",
    "print(\"원배열 : \\n\", array)\n",
    "\n",
    "b = np.ones_like(array, float)\n",
    "print(\"\\n동일 사이즈행렬: \\n\",b)"
   ]
  },
  {
   "cell_type": "code",
   "execution_count": 9,
   "metadata": {},
   "outputs": [
    {
     "name": "stdout",
     "output_type": "stream",
     "text": [
      "[0 1 2 3 4 5 6 7 8 9]\n",
      "<class 'numpy.ndarray'>\n",
      "[0 1 2 3 4]\n",
      "[0 1 2 3 4 5 6 7 8 9]\n"
     ]
    }
   ],
   "source": [
    "c = np.arange(10)\n",
    "print(c)\n",
    "print(type(c))\n",
    "c_copy = c[0:5].copy() # deep copy\n",
    "print(c_copy)\n",
    "\n",
    "c_copy[0:2]=100\n",
    "print(c)"
   ]
  },
  {
   "cell_type": "code",
   "execution_count": 11,
   "metadata": {},
   "outputs": [
    {
     "name": "stdout",
     "output_type": "stream",
     "text": [
      "[[[ 0  1  2  3]\n",
      "  [ 4  5  6  7]\n",
      "  [ 8  9 10 11]]\n",
      "\n",
      " [[12 13 14 15]\n",
      "  [16 17 18 19]\n",
      "  [20 21 22 23]]]\n",
      "[ 0  1  2  3  4  5  6  7  8  9 10 11 12 13 14 15 16 17 18 19 20 21 22 23]\n",
      "차원확대\n",
      "[[[[ 0  1  2  3]\n",
      "   [ 4  5  6  7]\n",
      "   [ 8  9 10 11]]\n",
      "\n",
      "  [[12 13 14 15]\n",
      "   [16 17 18 19]\n",
      "   [20 21 22 23]]]]\n",
      "차원축소\n",
      "[[ 0  1  2  3]\n",
      " [ 4  5  6  7]\n",
      " [ 8  9 10 11]\n",
      " [12 13 14 15]\n",
      " [16 17 18 19]\n",
      " [20 21 22 23]]\n"
     ]
    }
   ],
   "source": [
    "e = np.arange(24).reshape(2,3,4)\n",
    "print(e)\n",
    "print(e.flatten())\n",
    "e = np.arange(24).reshape(1,2,3,4) # 24개의 요소\n",
    "print(\"차원확대\")\n",
    "print(e)\n",
    "print(\"차원축소\")\n",
    "\n",
    "e=e.reshape(-1,4) # 나머지다 : 6이 된다\n",
    "print(e)"
   ]
  },
  {
   "cell_type": "code",
   "execution_count": 12,
   "metadata": {},
   "outputs": [
    {
     "data": {
      "text/plain": [
       "(6, 4)"
      ]
     },
     "execution_count": 12,
     "metadata": {},
     "output_type": "execute_result"
    }
   ],
   "source": [
    "e.shape"
   ]
  },
  {
   "cell_type": "code",
   "execution_count": 13,
   "metadata": {},
   "outputs": [
    {
     "data": {
      "text/plain": [
       "dtype('int32')"
      ]
     },
     "execution_count": 13,
     "metadata": {},
     "output_type": "execute_result"
    }
   ],
   "source": [
    "e.dtype"
   ]
  },
  {
   "cell_type": "code",
   "execution_count": 14,
   "metadata": {},
   "outputs": [
    {
     "data": {
      "text/plain": [
       "2"
      ]
     },
     "execution_count": 14,
     "metadata": {},
     "output_type": "execute_result"
    }
   ],
   "source": [
    "e.ndim"
   ]
  },
  {
   "cell_type": "code",
   "execution_count": 15,
   "metadata": {},
   "outputs": [
    {
     "data": {
      "text/plain": [
       "'='"
      ]
     },
     "execution_count": 15,
     "metadata": {},
     "output_type": "execute_result"
    }
   ],
   "source": [
    "e.dtype.byteorder"
   ]
  },
  {
   "cell_type": "code",
   "execution_count": 16,
   "metadata": {},
   "outputs": [
    {
     "data": {
      "text/plain": [
       "4"
      ]
     },
     "execution_count": 16,
     "metadata": {},
     "output_type": "execute_result"
    }
   ],
   "source": [
    "e.dtype.itemsize # 4바이트"
   ]
  },
  {
   "cell_type": "code",
   "execution_count": 17,
   "metadata": {},
   "outputs": [
    {
     "data": {
      "text/plain": [
       "array([[ 0.,  1.,  2.,  3.],\n",
       "       [ 4.,  5.,  6.,  7.],\n",
       "       [ 8.,  9., 10., 11.],\n",
       "       [12., 13., 14., 15.],\n",
       "       [16., 17., 18., 19.],\n",
       "       [20., 21., 22., 23.]], dtype=float32)"
      ]
     },
     "execution_count": 17,
     "metadata": {},
     "output_type": "execute_result"
    }
   ],
   "source": [
    "e.astype(np.float32)"
   ]
  },
  {
   "cell_type": "code",
   "execution_count": 18,
   "metadata": {},
   "outputs": [
    {
     "name": "stdout",
     "output_type": "stream",
     "text": [
      "[1, 5, -1]\n",
      "[ 0 10 20 30 40 50 60 70 80 90]\n",
      "[10 50 90]\n"
     ]
    }
   ],
   "source": [
    "a = np.arange(0,100,10)\n",
    "indices = [1,5,-1]\n",
    "print(indices)\n",
    "b = a[indices]\n",
    "print(a)\n",
    "print(b)"
   ]
  },
  {
   "cell_type": "code",
   "execution_count": 21,
   "metadata": {},
   "outputs": [
    {
     "name": "stdout",
     "output_type": "stream",
     "text": [
      "스트라이드의 값 (160, 40, 8)\n"
     ]
    }
   ],
   "source": [
    "# 데이터는 메모리에 연속해서 저장\n",
    "print(\"스트라이드의 값\", np.ones((3,4,5), dtype=np.float64).strides)\n",
    "# 한 열은 8바이트를 지나면 있다.\n",
    "# 40바이트를 지나가면 행이 바뀐다.\n",
    "# 160이 지나가면 면이 바뀐다."
   ]
  },
  {
   "cell_type": "code",
   "execution_count": 19,
   "metadata": {},
   "outputs": [
    {
     "name": "stdout",
     "output_type": "stream",
     "text": [
      "[1 2 3]\n",
      "3\n",
      "3\n",
      "[[1 2 3]\n",
      " [4 5 6]]\n",
      "[[2 3]\n",
      " [5 6]]\n",
      "[4 5]\n",
      "[7]\n",
      "[[0 2 3]\n",
      " [0 5 6]\n",
      " [7 8 9]]\n",
      "2\n",
      "36\n",
      "(12, 4)\n"
     ]
    }
   ],
   "source": [
    "arr2d = np.array(([1,2,3], [4,5,6],[7,8,9]))# shape 3,3\n",
    "print(arr2d[0])\n",
    "print(arr2d[0][2])\n",
    "print(arr2d[0,2])\n",
    "print(arr2d[:2])\n",
    "print(arr2d[:2,1:])\n",
    "print(arr2d[1,:2])\n",
    "print(arr2d[2,:1])\n",
    "arr2d[:2,:1]=0\n",
    "\n",
    "print(arr2d)\n",
    "print(arr2d.ndim)\n",
    "print(arr2d.nbytes)\n",
    "print(arr2d.strides)"
   ]
  },
  {
   "cell_type": "code",
   "execution_count": 28,
   "metadata": {},
   "outputs": [],
   "source": [
    "# 다음과 같이 데이터를 저장하고\n",
    "a = np.array([[[1,2,3],[4,5,6]],[[7,8,9],[10,11,12]]])\n",
    "arr3d = np.arange(1,13).reshape(2,2,3)\n",
    "#- 첫면을 출력\n",
    "#- 첫면 첫행을 출력\n",
    "#- 첫면 첫행 첫요소를 출력\n",
    "#- 숫자 8을 출력\n",
    "#- 숫자 12를 출력"
   ]
  },
  {
   "cell_type": "code",
   "execution_count": 29,
   "metadata": {},
   "outputs": [
    {
     "name": "stdout",
     "output_type": "stream",
     "text": [
      "[[1 2 3]\n",
      " [4 5 6]]\n",
      "[1 2 3]\n",
      "1\n",
      "8\n",
      "12\n"
     ]
    }
   ],
   "source": [
    "print(arr3d[0])\n",
    "print(arr3d[0][0])\n",
    "print(arr3d[0][0][0])\n",
    "print(arr3d[1][0][1])\n",
    "print(arr3d[1][1][2])"
   ]
  },
  {
   "cell_type": "code",
   "execution_count": 30,
   "metadata": {},
   "outputs": [
    {
     "data": {
      "text/plain": [
       "array([[ 0,  1,  2,  3],\n",
       "       [ 4,  5,  6,  7],\n",
       "       [ 8,  9, 10, 11],\n",
       "       [12, 13, 14, 15],\n",
       "       [16, 17, 18, 19],\n",
       "       [20, 21, 22, 23],\n",
       "       [24, 25, 26, 27],\n",
       "       [28, 29, 30, 31]])"
      ]
     },
     "execution_count": 30,
     "metadata": {},
     "output_type": "execute_result"
    }
   ],
   "source": [
    "arr=np.arange(32).reshape((8,4))\n",
    "arr"
   ]
  },
  {
   "cell_type": "code",
   "execution_count": 32,
   "metadata": {},
   "outputs": [
    {
     "name": "stdout",
     "output_type": "stream",
     "text": [
      "[ 4 23 29 10]\n",
      "파이프\n",
      "[[ 4  5  6  7]\n",
      " [ 8  9 10 11]\n",
      " [20 21 22 23]]\n",
      "팬시\n",
      "[[ 4  5  6  7]\n",
      " [ 8  9 10 11]\n",
      " [20 21 22 23]\n",
      " [28 29 30 31]]\n",
      "[[ 4  7  5  6]\n",
      " [20 23 21 22]\n",
      " [28 31 29 30]\n",
      " [ 8 11  9 10]]\n"
     ]
    }
   ],
   "source": [
    "print(arr[[1,5,7,2],[0,3,1,2]])\n",
    "\n",
    "print(\"파이프\")\n",
    "print(arr[[1,5,7,2]][[0,3,1]])\n",
    "\n",
    "print(\"팬시\")\n",
    "print(arr[[1,2,5,7]][:,[0,1,2,3]])\n",
    "print(arr[[1,5,7,2]][:,[0,3,1,2]])"
   ]
  },
  {
   "cell_type": "code",
   "execution_count": 58,
   "metadata": {},
   "outputs": [],
   "source": [
    "a=np.arange(0,51,10)\n",
    "list=[]\n",
    "for i in range(len(a)):\n",
    "    list.append(np.arange(a[i],a[i]+6))"
   ]
  },
  {
   "cell_type": "code",
   "execution_count": 61,
   "metadata": {},
   "outputs": [
    {
     "data": {
      "text/plain": [
       "[array([0, 1, 2, 3, 4, 5]),\n",
       " array([10, 11, 12, 13, 14, 15]),\n",
       " array([20, 21, 22, 23, 24, 25]),\n",
       " array([30, 31, 32, 33, 34, 35]),\n",
       " array([40, 41, 42, 43, 44, 45]),\n",
       " array([50, 51, 52, 53, 54, 55])]"
      ]
     },
     "execution_count": 61,
     "metadata": {},
     "output_type": "execute_result"
    }
   ],
   "source": [
    "list"
   ]
  },
  {
   "cell_type": "code",
   "execution_count": 81,
   "metadata": {},
   "outputs": [
    {
     "name": "stdout",
     "output_type": "stream",
     "text": [
      "[2, 22, 52]\n"
     ]
    },
    {
     "ename": "TypeError",
     "evalue": "list indices must be integers or slices, not tuple",
     "output_type": "error",
     "traceback": [
      "\u001b[1;31m---------------------------------------------------------------------------\u001b[0m",
      "\u001b[1;31mTypeError\u001b[0m                                 Traceback (most recent call last)",
      "\u001b[1;32m<ipython-input-81-5c8fc3ac02b7>\u001b[0m in \u001b[0;36m<module>\u001b[1;34m\u001b[0m\n\u001b[0;32m      1\u001b[0m \u001b[0mprint\u001b[0m\u001b[1;33m(\u001b[0m\u001b[1;33m[\u001b[0m\u001b[0mlist\u001b[0m\u001b[1;33m[\u001b[0m\u001b[1;36m0\u001b[0m\u001b[1;33m]\u001b[0m\u001b[1;33m[\u001b[0m\u001b[1;36m2\u001b[0m\u001b[1;33m]\u001b[0m\u001b[1;33m,\u001b[0m\u001b[0mlist\u001b[0m\u001b[1;33m[\u001b[0m\u001b[1;36m2\u001b[0m\u001b[1;33m]\u001b[0m\u001b[1;33m[\u001b[0m\u001b[1;36m2\u001b[0m\u001b[1;33m]\u001b[0m\u001b[1;33m,\u001b[0m\u001b[0mlist\u001b[0m\u001b[1;33m[\u001b[0m\u001b[1;36m5\u001b[0m\u001b[1;33m]\u001b[0m\u001b[1;33m[\u001b[0m\u001b[1;36m2\u001b[0m\u001b[1;33m]\u001b[0m\u001b[1;33m]\u001b[0m\u001b[1;33m)\u001b[0m\u001b[1;33m\u001b[0m\u001b[1;33m\u001b[0m\u001b[0m\n\u001b[1;32m----> 2\u001b[1;33m \u001b[0mprint\u001b[0m\u001b[1;33m(\u001b[0m\u001b[0mlist\u001b[0m\u001b[1;33m[\u001b[0m\u001b[1;36m0\u001b[0m\u001b[1;33m,\u001b[0m\u001b[1;36m1\u001b[0m\u001b[1;33m,\u001b[0m\u001b[1;36m2\u001b[0m\u001b[1;33m,\u001b[0m\u001b[1;36m3\u001b[0m\u001b[1;33m,\u001b[0m\u001b[1;36m4\u001b[0m\u001b[1;33m]\u001b[0m\u001b[1;33m)\u001b[0m\u001b[1;33m\u001b[0m\u001b[1;33m\u001b[0m\u001b[0m\n\u001b[0m",
      "\u001b[1;31mTypeError\u001b[0m: list indices must be integers or slices, not tuple"
     ]
    }
   ],
   "source": [
    "print([list[0][2],list[2][2],list[5][2]])\n",
    "print(list[0,1,2,3,4],[])"
   ]
  },
  {
   "cell_type": "code",
   "execution_count": 111,
   "metadata": {},
   "outputs": [],
   "source": [
    "list = []\n",
    "for i in range(0,6):\n",
    "    a = []\n",
    "    for j in range(0,6):\n",
    "        a.append(i*10+j)\n",
    "    list.append(a)\n",
    "aa = np.array(list)"
   ]
  },
  {
   "cell_type": "code",
   "execution_count": 113,
   "metadata": {},
   "outputs": [
    {
     "data": {
      "text/plain": [
       "array([[ 0,  1,  2,  3,  4,  5],\n",
       "       [10, 11, 12, 13, 14, 15],\n",
       "       [20, 21, 22, 23, 24, 25],\n",
       "       [30, 31, 32, 33, 34, 35],\n",
       "       [40, 41, 42, 43, 44, 45],\n",
       "       [50, 51, 52, 53, 54, 55]])"
      ]
     },
     "execution_count": 113,
     "metadata": {},
     "output_type": "execute_result"
    }
   ],
   "source": [
    "aa"
   ]
  },
  {
   "cell_type": "code",
   "execution_count": 114,
   "metadata": {},
   "outputs": [
    {
     "data": {
      "text/plain": [
       "array([ 2, 12, 22, 32, 42, 52])"
      ]
     },
     "execution_count": 114,
     "metadata": {},
     "output_type": "execute_result"
    }
   ],
   "source": [
    "aa[:,2]"
   ]
  },
  {
   "cell_type": "code",
   "execution_count": 115,
   "metadata": {},
   "outputs": [
    {
     "name": "stdout",
     "output_type": "stream",
     "text": [
      "[[ 0  1  2  3]\n",
      " [ 4  5  6  7]\n",
      " [ 8  9 10 11]\n",
      " [12 13 14 15]\n",
      " [16 17 18 19]\n",
      " [20 21 22 23]\n",
      " [24 25 26 27]\n",
      " [28 29 30 31]]\n"
     ]
    }
   ],
   "source": [
    "arr=np.arange(32).reshape((8,4))\n",
    "print(arr)"
   ]
  },
  {
   "cell_type": "code",
   "execution_count": 116,
   "metadata": {},
   "outputs": [
    {
     "ename": "ValueError",
     "evalue": "matmul: Input operand 1 has a mismatch in its core dimension 0, with gufunc signature (n?,k),(k,m?)->(n?,m?) (size 8 is different from 4)",
     "output_type": "error",
     "traceback": [
      "\u001b[1;31m---------------------------------------------------------------------------\u001b[0m",
      "\u001b[1;31mValueError\u001b[0m                                Traceback (most recent call last)",
      "\u001b[1;32m<ipython-input-116-5caeadbb965d>\u001b[0m in \u001b[0;36m<module>\u001b[1;34m\u001b[0m\n\u001b[1;32m----> 1\u001b[1;33m \u001b[0marr\u001b[0m\u001b[1;33m@\u001b[0m\u001b[0marr\u001b[0m\u001b[1;33m\u001b[0m\u001b[1;33m\u001b[0m\u001b[0m\n\u001b[0m",
      "\u001b[1;31mValueError\u001b[0m: matmul: Input operand 1 has a mismatch in its core dimension 0, with gufunc signature (n?,k),(k,m?)->(n?,m?) (size 8 is different from 4)"
     ]
    }
   ],
   "source": [
    "arr@arr #행렬곱 기호 8,4 , 8,4 "
   ]
  },
  {
   "cell_type": "code",
   "execution_count": 117,
   "metadata": {},
   "outputs": [
    {
     "data": {
      "text/plain": [
       "array([[ 0,  4,  8, 12, 16, 20, 24, 28],\n",
       "       [ 1,  5,  9, 13, 17, 21, 25, 29],\n",
       "       [ 2,  6, 10, 14, 18, 22, 26, 30],\n",
       "       [ 3,  7, 11, 15, 19, 23, 27, 31]])"
      ]
     },
     "execution_count": 117,
     "metadata": {},
     "output_type": "execute_result"
    }
   ],
   "source": [
    "arr.T # 전치 행렬"
   ]
  },
  {
   "cell_type": "code",
   "execution_count": 118,
   "metadata": {},
   "outputs": [
    {
     "data": {
      "text/plain": [
       "array([[  14,   38,   62,   86,  110,  134,  158,  182],\n",
       "       [  38,  126,  214,  302,  390,  478,  566,  654],\n",
       "       [  62,  214,  366,  518,  670,  822,  974, 1126],\n",
       "       [  86,  302,  518,  734,  950, 1166, 1382, 1598],\n",
       "       [ 110,  390,  670,  950, 1230, 1510, 1790, 2070],\n",
       "       [ 134,  478,  822, 1166, 1510, 1854, 2198, 2542],\n",
       "       [ 158,  566,  974, 1382, 1790, 2198, 2606, 3014],\n",
       "       [ 182,  654, 1126, 1598, 2070, 2542, 3014, 3486]])"
      ]
     },
     "execution_count": 118,
     "metadata": {},
     "output_type": "execute_result"
    }
   ],
   "source": [
    "arr@arr.T"
   ]
  },
  {
   "cell_type": "code",
   "execution_count": 123,
   "metadata": {},
   "outputs": [
    {
     "data": {
      "text/plain": [
       "array([[ 0,  4,  8, 12, 16, 20, 24, 28],\n",
       "       [ 1,  5,  9, 13, 17, 21, 25, 29],\n",
       "       [ 2,  6, 10, 14, 18, 22, 26, 30],\n",
       "       [ 3,  7, 11, 15, 19, 23, 27, 31]])"
      ]
     },
     "execution_count": 123,
     "metadata": {},
     "output_type": "execute_result"
    }
   ],
   "source": [
    "np.transpose(arr)"
   ]
  },
  {
   "cell_type": "code",
   "execution_count": 119,
   "metadata": {},
   "outputs": [
    {
     "data": {
      "text/plain": [
       "array([[  14,   38,   62,   86,  110,  134,  158,  182],\n",
       "       [  38,  126,  214,  302,  390,  478,  566,  654],\n",
       "       [  62,  214,  366,  518,  670,  822,  974, 1126],\n",
       "       [  86,  302,  518,  734,  950, 1166, 1382, 1598],\n",
       "       [ 110,  390,  670,  950, 1230, 1510, 1790, 2070],\n",
       "       [ 134,  478,  822, 1166, 1510, 1854, 2198, 2542],\n",
       "       [ 158,  566,  974, 1382, 1790, 2198, 2606, 3014],\n",
       "       [ 182,  654, 1126, 1598, 2070, 2542, 3014, 3486]])"
      ]
     },
     "execution_count": 119,
     "metadata": {},
     "output_type": "execute_result"
    }
   ],
   "source": [
    "np.matmul(arr, arr.T)"
   ]
  },
  {
   "cell_type": "code",
   "execution_count": 120,
   "metadata": {},
   "outputs": [
    {
     "data": {
      "text/plain": [
       "array([[2240, 2352, 2464, 2576],\n",
       "       [2352, 2472, 2592, 2712],\n",
       "       [2464, 2592, 2720, 2848],\n",
       "       [2576, 2712, 2848, 2984]])"
      ]
     },
     "execution_count": 120,
     "metadata": {},
     "output_type": "execute_result"
    }
   ],
   "source": [
    "arr.T@arr"
   ]
  },
  {
   "cell_type": "code",
   "execution_count": 122,
   "metadata": {},
   "outputs": [
    {
     "name": "stdout",
     "output_type": "stream",
     "text": [
      "[[ 1  2  3]\n",
      " [ 4  5  6]\n",
      " [ 7  8  9]\n",
      " [10 11 12]]\n",
      "타일출력\n",
      "[[1 0 1]\n",
      " [1 0 1]\n",
      " [1 0 1]\n",
      " [1 0 1]]\n",
      "[[ 2  2  4]\n",
      " [ 5  5  7]\n",
      " [ 8  8 10]\n",
      " [11 11 13]]\n",
      "[[ 2  2  4]\n",
      " [ 5  5  7]\n",
      " [ 8  8 10]\n",
      " [11 11 13]]\n"
     ]
    },
    {
     "data": {
      "text/plain": [
       "array([[ 4,  5,  6],\n",
       "       [ 7,  8,  9],\n",
       "       [10, 11, 12],\n",
       "       [13, 14, 15]])"
      ]
     },
     "execution_count": 122,
     "metadata": {},
     "output_type": "execute_result"
    }
   ],
   "source": [
    "import numpy as np\n",
    "x = np.array([[1,2,3],[4,5,6],[7,8,9],[10,11,12]])\n",
    "print(x)\n",
    "v = np.array([1,0,1])\n",
    "#\n",
    "print(\"타일출력\")\n",
    "vv = np.tile(v, (4, 1))\n",
    "print(vv)\n",
    "# 행렬연산 요소연산\n",
    "y = x + vv\n",
    "print(y)\n",
    "\n",
    "print(x+v) # 브로드캐스팅 (반드시 말단 차수가 일치해야함)\n",
    "x + 3"
   ]
  },
  {
   "cell_type": "code",
   "execution_count": 124,
   "metadata": {},
   "outputs": [
    {
     "data": {
      "text/plain": [
       "array([[[ 0,  1,  2,  3],\n",
       "        [ 4,  5,  6,  7],\n",
       "        [ 8,  9, 10, 11]],\n",
       "\n",
       "       [[12, 13, 14, 15],\n",
       "        [16, 17, 18, 19],\n",
       "        [20, 21, 22, 23]]])"
      ]
     },
     "execution_count": 124,
     "metadata": {},
     "output_type": "execute_result"
    }
   ],
   "source": [
    "arr = np.arange(24).reshape((2,3,4))\n",
    "arr"
   ]
  },
  {
   "cell_type": "code",
   "execution_count": 125,
   "metadata": {},
   "outputs": [
    {
     "name": "stdout",
     "output_type": "stream",
     "text": [
      "[[[ 0  1  2  3]\n",
      "  [12 13 14 15]]\n",
      "\n",
      " [[ 4  5  6  7]\n",
      "  [16 17 18 19]]\n",
      "\n",
      " [[ 8  9 10 11]\n",
      "  [20 21 22 23]]]\n"
     ]
    }
   ],
   "source": [
    "print(arr.transpose((1,0,2))) # 3,2,4"
   ]
  },
  {
   "cell_type": "code",
   "execution_count": 126,
   "metadata": {},
   "outputs": [
    {
     "name": "stdout",
     "output_type": "stream",
     "text": [
      "[[[ 0  4  8]\n",
      "  [ 1  5  9]\n",
      "  [ 2  6 10]\n",
      "  [ 3  7 11]]\n",
      "\n",
      " [[12 16 20]\n",
      "  [13 17 21]\n",
      "  [14 18 22]\n",
      "  [15 19 23]]]\n"
     ]
    }
   ],
   "source": [
    "print(arr.transpose((0,2,1)))#2, 4, 3"
   ]
  },
  {
   "cell_type": "code",
   "execution_count": 2,
   "metadata": {},
   "outputs": [
    {
     "name": "stdout",
     "output_type": "stream",
     "text": [
      "[ True False False False False False False]\n",
      "[[-0.56865127  0.35390692 -0.40836018 -0.43879294]]\n",
      "[[-0.40836018 -0.43879294]]\n",
      "[-0.43879294]\n",
      "[False  True  True  True  True  True  True]\n",
      "[False  True  True  True  True  True  True]\n",
      "[ True False  True False  True False False]\n",
      "[[-0.56865127  0.35390692 -0.40836018 -0.43879294]\n",
      " [ 0.01728804  0.67671206 -0.7761293   1.75261225]\n",
      " [ 2.76833076 -1.72935348 -2.05738804  1.17407936]]\n"
     ]
    }
   ],
   "source": [
    "import numpy as np\n",
    "names = np.array(['Seoul', 'Daejun', 'chungju', 'seoul', 'chungju', 'Daejun', 'Daejun'])\n",
    "# 정규분포에서 표준편차 2배수 안에 있을 확률 : 95%\n",
    "# 3배수 안에 있을 확률 : 99%\n",
    "# 6 sigma운동\n",
    "data = np.random.randn(7,4) # normal 정규 분포\n",
    "\n",
    "print(names=='Seoul')\n",
    "\n",
    "print(data[names=='Seoul']) # boolean인덱싱은 브로드캐스팅이 안됨\n",
    "print(data[names=='Seoul',2:])\n",
    "print(data[names=='Seoul',3])\n",
    "\n",
    "print(names != 'Seoul')\n",
    "print(~(names == 'Seoul'))\n",
    "mask = (names == 'Seoul') | (names=='chungju')\n",
    "print(mask)\n",
    "print(data[mask])"
   ]
  },
  {
   "cell_type": "code",
   "execution_count": 3,
   "metadata": {},
   "outputs": [
    {
     "name": "stdout",
     "output_type": "stream",
     "text": [
      "<zip object at 0x000002A38BE46740>\n",
      "[(1.1, 2.1, True), (1.2, 2.2, False), (1.3, 2.3, True), (1.4, 2.4, True), (1.5, 2.5, False)]\n",
      "result =  [1.1, 2.2, 1.3, 1.4, 2.5]\n"
     ]
    }
   ],
   "source": [
    "xarr = np.array([1.1, 1.2, 1.3, 1.4, 1.5])\n",
    "yarr = np.array([2.1, 2.2, 2.3, 2.4, 2.5])\n",
    "cond = np.array([True, False, True, True, False])\n",
    "print(zip(xarr, yarr, cond))\n",
    "print(list(zip(xarr, yarr, cond)))\n",
    "result = [(x if c else y) for x,y,c in zip(xarr,yarr,cond)]\n",
    "print(\"result = \",result)"
   ]
  },
  {
   "cell_type": "code",
   "execution_count": 4,
   "metadata": {},
   "outputs": [],
   "source": [
    "# 벡터화 연산 - core"
   ]
  },
  {
   "cell_type": "code",
   "execution_count": 5,
   "metadata": {},
   "outputs": [
    {
     "name": "stdout",
     "output_type": "stream",
     "text": [
      "[1.1 2.2 1.3 1.4 2.5]\n",
      "[[-1.36704861 -1.93023554  1.74467718 -1.62572384]\n",
      " [ 0.5137336  -0.19215394  0.305615    0.71386855]\n",
      " [ 0.36451354  1.47228906 -1.29803261  0.19391143]\n",
      " [ 0.67320794  0.52290339 -0.44153892 -0.24650445]]\n",
      "[[-2 -2  2 -2]\n",
      " [ 2 -2  2  2]\n",
      " [ 2  2 -2  2]\n",
      " [ 2  2 -2 -2]]\n",
      "[[-1.36704861 -1.93023554  2.         -1.62572384]\n",
      " [ 2.         -0.19215394  2.          2.        ]\n",
      " [ 2.          2.         -1.29803261  2.        ]\n",
      " [ 2.          2.         -0.44153892 -0.24650445]]\n"
     ]
    }
   ],
   "source": [
    "result = np.where(cond, xarr, yarr)\n",
    "print(result)\n",
    "\n",
    "arr = np.random.randn(4,4)\n",
    "print(arr)\n",
    "print(np.where(arr>0, 2, -2))\n",
    "print(np.where(arr>0, 2, arr))"
   ]
  },
  {
   "cell_type": "markdown",
   "metadata": {},
   "source": [
    "# 문제 \n",
    "- cond1 = np.array([1,0,1,1,0,0,1], dtype=bool)\n",
    "- cond2 = np.array([0,1,1,1,0,1,1], dtype=bool)\n",
    "- 두개 다 참이면 0, cond1이 참이면 1 cond2가 참이면 2, 그 외일 때는 3으로 처리하여 출력하시오"
   ]
  },
  {
   "cell_type": "code",
   "execution_count": 1,
   "metadata": {},
   "outputs": [
    {
     "name": "stdout",
     "output_type": "stream",
     "text": [
      "[(1, 0), (0, 2), (1, 2), (1, 2), (0, 0), (0, 2), (1, 2)]\n"
     ]
    }
   ],
   "source": [
    "import numpy as np\n",
    "cond1 = np.array([1,0,1,1,0,0,1], dtype=bool)\n",
    "cond2 = np.array([0,1,1,1,0,1,1], dtype=bool)\n",
    "cond3 = np.array([0,0,0,0,0,0,0], dtype=bool)\n",
    "a=np.where((cond1==1),1,cond1)\n",
    "b=np.where((cond2==1),2,cond2)\n",
    "print(list(zip(a,b)))"
   ]
  },
  {
   "cell_type": "code",
   "execution_count": 7,
   "metadata": {},
   "outputs": [],
   "source": [
    "#두개가 참 1참 2참 둘다 낫참 3\n",
    "result = [(x if y==x+1 else 0) for x,y,z in zip(cond1,cond2,cond3)]"
   ]
  },
  {
   "cell_type": "code",
   "execution_count": 14,
   "metadata": {},
   "outputs": [
    {
     "data": {
      "text/plain": [
       "array([1, 2, 0, 0, 3, 2, 0])"
      ]
     },
     "execution_count": 14,
     "metadata": {},
     "output_type": "execute_result"
    }
   ],
   "source": [
    "result=np.where(cond1 & cond2, 0, np.where(cond1,1,np.where(cond2,2,3)))\n",
    "result"
   ]
  },
  {
   "cell_type": "code",
   "execution_count": 15,
   "metadata": {},
   "outputs": [
    {
     "name": "stdout",
     "output_type": "stream",
     "text": [
      "수식을 이용한 [1 2 0 0 3 2 0]\n"
     ]
    }
   ],
   "source": [
    "result = 1*(cond1 & ~cond2) + 2*(cond2 & ~cond1) + 3* ~(cond1 | cond2)\n",
    "print(\"수식을 이용한\", result)"
   ]
  },
  {
   "cell_type": "code",
   "execution_count": 17,
   "metadata": {},
   "outputs": [
    {
     "name": "stdout",
     "output_type": "stream",
     "text": [
      "[0 1 2 3]\n",
      "[0 1]\n",
      "[[0 1]\n",
      " [2 3]\n",
      " [4 5]\n",
      " [6 7]]\n",
      "[[[0 1]\n",
      "  [2 3]\n",
      "  [4 5]\n",
      "  [6 7]]\n",
      "\n",
      " [[0 1]\n",
      "  [2 3]\n",
      "  [4 5]\n",
      "  [6 7]]\n",
      "\n",
      " [[0 1]\n",
      "  [2 3]\n",
      "  [4 5]\n",
      "  [6 7]]]\n",
      "[[[ 0  2]\n",
      "  [ 4  6]\n",
      "  [ 8 10]\n",
      "  [12 14]]\n",
      "\n",
      " [[ 0  2]\n",
      "  [ 4  6]\n",
      "  [ 8 10]\n",
      "  [12 14]]\n",
      "\n",
      " [[ 0  2]\n",
      "  [ 4  6]\n",
      "  [ 8 10]\n",
      "  [12 14]]]\n",
      "[[[ 0  2]\n",
      "  [ 4  6]\n",
      "  [ 8 10]\n",
      "  [12 14]]\n",
      "\n",
      " [[ 0  2]\n",
      "  [ 4  6]\n",
      "  [ 8 10]\n",
      "  [12 14]]\n",
      "\n",
      " [[ 0  2]\n",
      "  [ 4  6]\n",
      "  [ 8 10]\n",
      "  [12 14]]]\n",
      "[[[0 2]\n",
      "  [2 4]\n",
      "  [4 6]\n",
      "  [6 8]]\n",
      "\n",
      " [[0 2]\n",
      "  [2 4]\n",
      "  [4 6]\n",
      "  [6 8]]\n",
      "\n",
      " [[0 2]\n",
      "  [2 4]\n",
      "  [4 6]\n",
      "  [6 8]]]\n"
     ]
    }
   ],
   "source": [
    "arr1 = np.arange(4)\n",
    "arr4 = np.arange(2)\n",
    "print(arr1)\n",
    "print(arr4)\n",
    "arr2 = np.arange(8).reshape(4,2)\n",
    "print(arr2)\n",
    "arr3d = np.array([arr2, arr2, arr2])\n",
    "print(arr3d)\n",
    "print(arr3d + arr3d)\n",
    "print(arr3d + arr2)\n",
    "print(arr3d + arr4)"
   ]
  },
  {
   "cell_type": "code",
   "execution_count": 21,
   "metadata": {},
   "outputs": [
    {
     "name": "stdout",
     "output_type": "stream",
     "text": [
      "[5 6 7 8] [5 6 7 8] [5 6 7 8]\n",
      "[100   6   7   8] [100   6   7   8] [5 6 7 8]\n"
     ]
    }
   ],
   "source": [
    "# 복사 하지 않고 1차원으로 표현\n",
    "# deep copy후에 별도의 공간에서 1차원으로 변환하기 때문에 불변\n",
    "import numpy as np\n",
    "a1 = np.array([[5,6],\n",
    "               [7,8]])\n",
    "ra = a1.ravel()\n",
    "re = a1.reshape(-1)\n",
    "fl = a1.flatten()\n",
    "print(ra,re,fl)\n",
    "a1[0][0]=100\n",
    "print(ra,re,fl)\n",
    "import math"
   ]
  },
  {
   "cell_type": "code",
   "execution_count": 43,
   "metadata": {},
   "outputs": [
    {
     "name": "stdout",
     "output_type": "stream",
     "text": [
      "2\n",
      "1\n",
      "120\n",
      "5\n",
      "1\n",
      "1\n"
     ]
    }
   ],
   "source": [
    "from numpy import math\n",
    "print(math.ceil(1.100))\n",
    "print(math.floor(1.100))\n",
    "print(math.factorial(5))\n",
    "print(math.gcd(10,125))\n",
    "print(math.trunc(1.001))\n",
    "print(math.trunc(1.999))"
   ]
  },
  {
   "cell_type": "code",
   "execution_count": 19,
   "metadata": {},
   "outputs": [
    {
     "name": "stdout",
     "output_type": "stream",
     "text": [
      "abs(-11) :  11\n"
     ]
    }
   ],
   "source": [
    "print(\"abs(-11) : \",abs(-11))"
   ]
  },
  {
   "cell_type": "code",
   "execution_count": 22,
   "metadata": {},
   "outputs": [
    {
     "name": "stdout",
     "output_type": "stream",
     "text": [
      "math.e :  2.718281828459045\n"
     ]
    }
   ],
   "source": [
    "print(\"math.e : \", math.e)"
   ]
  },
  {
   "cell_type": "code",
   "execution_count": 24,
   "metadata": {},
   "outputs": [
    {
     "name": "stdout",
     "output_type": "stream",
     "text": [
      "pow(2,10) :  1024\n"
     ]
    }
   ],
   "source": [
    "print(\"pow(2,10) : \",pow(2,10))"
   ]
  },
  {
   "cell_type": "code",
   "execution_count": 25,
   "metadata": {},
   "outputs": [
    {
     "name": "stdout",
     "output_type": "stream",
     "text": [
      "divmod(10,7) :  (1, 3)\n"
     ]
    }
   ],
   "source": [
    "print(\"divmod(10,7) : \", divmod(10,7))"
   ]
  },
  {
   "cell_type": "code",
   "execution_count": 26,
   "metadata": {},
   "outputs": [
    {
     "data": {
      "text/plain": [
       "array([[  1,   2,   4],\n",
       "       [  8,  16,  32],\n",
       "       [ 64, 128, 256]], dtype=int32)"
      ]
     },
     "execution_count": 26,
     "metadata": {},
     "output_type": "execute_result"
    }
   ],
   "source": [
    "x = np.arange(9).reshape((3,3))\n",
    "2 ** x"
   ]
  },
  {
   "cell_type": "code",
   "execution_count": 27,
   "metadata": {},
   "outputs": [],
   "source": [
    "theta = np.linspace(0, np.pi,3)"
   ]
  },
  {
   "cell_type": "code",
   "execution_count": 30,
   "metadata": {},
   "outputs": [
    {
     "name": "stdout",
     "output_type": "stream",
     "text": [
      "theta :  [0.         1.57079633 3.14159265]\n",
      "sin(theta) :  [0.0000000e+00 1.0000000e+00 1.2246468e-16]\n",
      "cos(theta) :  [ 1.000000e+00  6.123234e-17 -1.000000e+00]\n",
      "tan(theta) :  [ 0.00000000e+00  1.63312394e+16 -1.22464680e-16]\n"
     ]
    }
   ],
   "source": [
    "# 반지름이 1인 원의 가로 세로 비율을 통해서 각도나 길이를 알 수 있다.\n",
    "# 삼각함수는 가로 세로의 비율\n",
    "print(\"theta : \" , theta)\n",
    "print(\"sin(theta) : \" , np.sin(theta))\n",
    "print(\"cos(theta) : \" , np.cos(theta))\n",
    "print(\"tan(theta) : \" , np.tan(theta))"
   ]
  },
  {
   "cell_type": "code",
   "execution_count": 45,
   "metadata": {},
   "outputs": [
    {
     "name": "stdout",
     "output_type": "stream",
     "text": [
      "x = [1, 2, 3]\n",
      "e^x = [ 2.71828183  7.3890561  20.08553692]\n",
      "2^x = [2. 4. 8.]\n",
      "3^x = [ 3  9 27]\n"
     ]
    }
   ],
   "source": [
    "x = [1, 2, 3]\n",
    "print(\"x =\", x)\n",
    "print(\"e^x =\", np.exp(x)) # 일이 자연대수 : 은행 예금의 변화\n",
    "print(\"2^x =\", np.exp2(x))\n",
    "print(\"3^x =\", np.power(3, x))"
   ]
  },
  {
   "cell_type": "code",
   "execution_count": 47,
   "metadata": {},
   "outputs": [
    {
     "name": "stdout",
     "output_type": "stream",
     "text": [
      "2차원 1.4142135623730951\n",
      "3차원 1.7320508075688772\n"
     ]
    }
   ],
   "source": [
    "import numpy as np\n",
    "from numpy import linalg as la\n",
    "x = np.array([1.0,1.0])\n",
    "print(\"2차원\",la.norm(x))\n",
    "x = np.array([1.0,1.0,1.0])\n",
    "print(\"3차원\",la.norm(x))"
   ]
  },
  {
   "cell_type": "code",
   "execution_count": 49,
   "metadata": {},
   "outputs": [
    {
     "name": "stdout",
     "output_type": "stream",
     "text": [
      "[[1 2]\n",
      " [3 4]]\n",
      "[[11 12]\n",
      " [13 14]]\n"
     ]
    },
    {
     "data": {
      "text/plain": [
       "array([[37, 40],\n",
       "       [85, 92]])"
      ]
     },
     "execution_count": 49,
     "metadata": {},
     "output_type": "execute_result"
    }
   ],
   "source": [
    "a = np.array([[1,2],[3,4]])\n",
    "print(a)\n",
    "b = np.array([[11,12],[13,14]])\n",
    "print(b)\n",
    "np.dot(a,b)"
   ]
  },
  {
   "cell_type": "code",
   "execution_count": 52,
   "metadata": {},
   "outputs": [
    {
     "name": "stdout",
     "output_type": "stream",
     "text": [
      "[[[ 0  1  2  3]\n",
      "  [ 4  5  6  7]\n",
      "  [ 8  9 10 11]]\n",
      "\n",
      " [[12 13 14 15]\n",
      "  [16 17 18 19]\n",
      "  [20 21 22 23]]]\n",
      "[[[ 0  1  2]\n",
      "  [ 3  4  5]\n",
      "  [ 6  7  8]\n",
      "  [ 9 10 11]]\n",
      "\n",
      " [[12 13 14]\n",
      "  [15 16 17]\n",
      "  [18 19 20]\n",
      "  [21 22 23]]]\n",
      "행렬곱 : [[[  42   48   54]\n",
      "  [ 114  136  158]\n",
      "  [ 186  224  262]]\n",
      "\n",
      " [[ 906  960 1014]\n",
      "  [1170 1240 1310]\n",
      "  [1434 1520 1606]]]\n"
     ]
    }
   ],
   "source": [
    "A = np.arange(2*3*4).reshape((2,3,4))\n",
    "B = np.arange(2*4*3).reshape((2,4,3))\n",
    "print(A)\n",
    "print(B)\n",
    "print(\"행렬곱 :\", np.matmul(A,B))"
   ]
  },
  {
   "cell_type": "code",
   "execution_count": 53,
   "metadata": {},
   "outputs": [
    {
     "ename": "SyntaxError",
     "evalue": "cannot assign to operator (<ipython-input-53-4f0e88bf32ce>, line 1)",
     "output_type": "error",
     "traceback": [
      "\u001b[1;36m  File \u001b[1;32m\"<ipython-input-53-4f0e88bf32ce>\"\u001b[1;36m, line \u001b[1;32m1\u001b[0m\n\u001b[1;33m    x + y = 2\u001b[0m\n\u001b[1;37m    ^\u001b[0m\n\u001b[1;31mSyntaxError\u001b[0m\u001b[1;31m:\u001b[0m cannot assign to operator\n"
     ]
    }
   ],
   "source": [
    "x + y = 2\n",
    "y + z = 2\n",
    "x + y + z = 3\n",
    "\n",
    "# [[1,1,0],[0,1,1],[1,1,1]] * [x,y,z] = [2,2,3]\n",
    "# [x,y,z] = [2.2.3] / [[1,1,0],[0,1,1],[1,1,1]]\n",
    "# 행렬 나눗셈이 없음\n",
    "# 역행렬을 구해서 해를 구함"
   ]
  },
  {
   "cell_type": "code",
   "execution_count": 61,
   "metadata": {},
   "outputs": [
    {
     "data": {
      "text/plain": [
       "array([[1.],\n",
       "       [1.],\n",
       "       [1.]])"
      ]
     },
     "execution_count": 61,
     "metadata": {},
     "output_type": "execute_result"
    }
   ],
   "source": [
    "A = np.array([[1,1,0],[0,1,1],[1,1,1]])\n",
    "Alnv = np.linalg.inv(A) # inv : inverse matrix\n",
    "b = np.array([[2],[2],[3]])\n",
    "b\n",
    "x = Alnv @ b\n",
    "x"
   ]
  },
  {
   "cell_type": "code",
   "execution_count": null,
   "metadata": {},
   "outputs": [],
   "source": [
    "2x + y -2z = -3\n",
    "3x + z = 5\n",
    "x + y -z = -2"
   ]
  },
  {
   "cell_type": "code",
   "execution_count": 62,
   "metadata": {},
   "outputs": [
    {
     "data": {
      "text/plain": [
       "array([[ 1.],\n",
       "       [-1.],\n",
       "       [ 2.]])"
      ]
     },
     "execution_count": 62,
     "metadata": {},
     "output_type": "execute_result"
    }
   ],
   "source": [
    "A = np.array([[2,1,-2],[3,0,1],[1,1,-1]])\n",
    "Alnv = np.linalg.inv(A)\n",
    "b = np.array([[-3],[5],[-2]])\n",
    "x = Alnv @ b\n",
    "x"
   ]
  },
  {
   "cell_type": "code",
   "execution_count": 64,
   "metadata": {},
   "outputs": [
    {
     "data": {
      "text/plain": [
       "array([[ 1.],\n",
       "       [-1.],\n",
       "       [ 2.]])"
      ]
     },
     "execution_count": 64,
     "metadata": {},
     "output_type": "execute_result"
    }
   ],
   "source": [
    "np.matmul(np.linalg.inv(A),b)"
   ]
  },
  {
   "cell_type": "code",
   "execution_count": 65,
   "metadata": {},
   "outputs": [
    {
     "data": {
      "text/plain": [
       "array([[ 1.],\n",
       "       [-1.],\n",
       "       [ 2.]])"
      ]
     },
     "execution_count": 65,
     "metadata": {},
     "output_type": "execute_result"
    }
   ],
   "source": [
    "x = np.linalg.solve(A,b)\n",
    "x"
   ]
  },
  {
   "cell_type": "code",
   "execution_count": 66,
   "metadata": {},
   "outputs": [
    {
     "name": "stdout",
     "output_type": "stream",
     "text": [
      "0\n",
      "1.0\n",
      "1.0\n",
      "1.0\n",
      "cos theta 0.0\n",
      "1.5707963267948966\n",
      "90.0\n"
     ]
    }
   ],
   "source": [
    "a = np.array([0,1,0])\n",
    "b = np.array([1,0,0])\n",
    "res=np.dot(a,b)\n",
    "print(res)\n",
    "print(np.linalg.norm(a))\n",
    "print(np.linalg.norm(b))\n",
    "print(np.linalg.norm(a) * np.linalg.norm(b))\n",
    "rad = res / (np.linalg.norm(a) * np.linalg.norm(b))\n",
    "print(\"cos theta\", rad)\n",
    "print(np.arccos(rad))\n",
    "print(np.degrees(np.arccos(rad)))"
   ]
  },
  {
   "cell_type": "code",
   "execution_count": 70,
   "metadata": {},
   "outputs": [
    {
     "name": "stdout",
     "output_type": "stream",
     "text": [
      "666666666666673.0\n",
      "10.0\n",
      "[[1.        0.8660254]\n",
      " [0.8660254 1.       ]]\n"
     ]
    }
   ],
   "source": [
    "from statistics import *\n",
    "x=np.array([7,8,9])\n",
    "y= np.array([9,10,20])\n",
    "print(y.mean())\n",
    "print(np.median(y))\n",
    "print(np.corrcoef(x,y)) # 상관 계수 행렬 : 정방행렬, 대칭행렬"
   ]
  },
  {
   "cell_type": "code",
   "execution_count": 68,
   "metadata": {},
   "outputs": [
    {
     "name": "stdout",
     "output_type": "stream",
     "text": [
      "공분산 [[ 1.   5.5]\n",
      " [ 5.5 37. ]]\n"
     ]
    }
   ],
   "source": [
    "print(\"공분산\",np.cov(x,y)) # covariance\n",
    "\n",
    "# cov = sigma((x-xbar)(y-ybar)/(n-1))         xbar,ybar : 평균\n",
    "# corr = cov / (xsigma * ysigma)\n",
    "\n",
    "# 상관계수의 의미가 내적과 같다"
   ]
  },
  {
   "cell_type": "code",
   "execution_count": 71,
   "metadata": {},
   "outputs": [
    {
     "name": "stdout",
     "output_type": "stream",
     "text": [
      "원본 [[1 2 3]\n",
      " [4 5 6]\n",
      " [7 8 9]]\n",
      "누적합(행)= [[ 1  2  3]\n",
      " [ 5  7  9]\n",
      " [12 15 18]]\n",
      "누적곱(열)= [[  1   2   6]\n",
      " [  4  20 120]\n",
      " [  7  56 504]]\n",
      "배열의 합계= 45\n",
      "열방향으로 합계(행평균) = [2. 5. 8.]\n",
      "행방향으로의 합계= [12 15 18]\n"
     ]
    }
   ],
   "source": [
    "arr=np.array(([1,2,3],[4,5,6],[7,8,9]))\n",
    "print(\"원본\",arr)\n",
    "print(\"누적합(행)=\",arr.cumsum(0)) # 행방향\n",
    "print(\"누적곱(열)=\",arr.cumprod(1)) # 열방향\n",
    "\n",
    "print(\"배열의 합계=\",arr.sum())\n",
    "print(\"열방향으로 합계(행평균) =\", arr.mean(axis=1))\n",
    "print(\"행방향으로의 합계=\", arr.sum(0))"
   ]
  },
  {
   "cell_type": "code",
   "execution_count": 77,
   "metadata": {},
   "outputs": [
    {
     "name": "stdout",
     "output_type": "stream",
     "text": [
      "범위 7\n",
      "열범위 [4 5 7]\n",
      "분위수 4.0\n",
      "[5. 4. 4.]\n",
      "행중위수 [3. 4. 5.]\n",
      "열평균 [5. 5. 5.]\n"
     ]
    }
   ],
   "source": [
    "a = np.array([[3,7,5],[8,4,3],[2,4,9]])\n",
    "print(\"범위\", np.ptp(a))\n",
    "print(\"열범위\", np.ptp(a, axis=1)) # peak to peak : range 범위 값\n",
    "print(\"분위수\", np.percentile(a,50)) # 위치적으로 중위수\n",
    "# 통계학 : 중위수를 사용 - 이상치에 강건하다. 백분위수 (중간에 있는 것)\n",
    "print(np.percentile(a,50, axis=1))\n",
    "print(\"행중위수\",np.median(a, axis=0))\n",
    "print(\"열평균\", np.mean(a, axis = 1))"
   ]
  },
  {
   "cell_type": "code",
   "execution_count": 80,
   "metadata": {},
   "outputs": [
    {
     "name": "stdout",
     "output_type": "stream",
     "text": [
      "2.0\n",
      "1.118033988749895\n",
      "1.25\n",
      "1.25\n",
      "1.118033988749895\n"
     ]
    }
   ],
   "source": [
    "a = np.array([1,2,3,4])\n",
    "wts = np.array([4,3,2,1])\n",
    "print(np.average(a,weights = wts))\n",
    "# 표준편차 구하는 식\n",
    "std = np.sqrt(np.mean(abs(a-a.mean())**2))\n",
    "print(std)\n",
    "# 제곱근((모든 데이터 - 평균)**2)\n",
    "print(np.mean(abs(a-a.mean())**2))\n",
    "print (np.var([1,2,3,4]))\n",
    "print(np.std(a))"
   ]
  },
  {
   "cell_type": "code",
   "execution_count": null,
   "metadata": {},
   "outputs": [],
   "source": [
    "pandas : numpy + dict(중복허용, 순서를 보장) + 함수형프로그래밍(map, filter, reduce) + 데이터베이스(group by) + 엑셀(pivot)\n",
    "    + 시계열분석(index 기능 )\n",
    "- 인덱스 : 열중심\n",
    "- numpy (행중심, 열중심 (F) )\n",
    "- [행,열] : loc(키), iloc(숫자)\n",
    "- 행:사람 열:성적  : 열내 동질적 열간이질적\n",
    "- Serise(1차원, 데이터 프레임의 열), DataFrame(2차원 행과 열)\n",
    "- 행과 열의 인덱스 : 검색을 고속으로 하기 위해서"
   ]
  },
  {
   "cell_type": "code",
   "execution_count": 83,
   "metadata": {},
   "outputs": [
    {
     "data": {
      "text/plain": [
       "a    0.25\n",
       "b    0.50\n",
       "c    0.75\n",
       "d    1.00\n",
       "dtype: float64"
      ]
     },
     "execution_count": 83,
     "metadata": {},
     "output_type": "execute_result"
    }
   ],
   "source": [
    "import pandas as pd\n",
    "data = pd.Series([0.25,0.5,0.75,1.0,], index=['a','b','c','d'])\n",
    "data"
   ]
  },
  {
   "cell_type": "code",
   "execution_count": 84,
   "metadata": {},
   "outputs": [
    {
     "data": {
      "text/plain": [
       "0.5"
      ]
     },
     "execution_count": 84,
     "metadata": {},
     "output_type": "execute_result"
    }
   ],
   "source": [
    "data['b']"
   ]
  },
  {
   "cell_type": "code",
   "execution_count": 85,
   "metadata": {},
   "outputs": [
    {
     "data": {
      "text/plain": [
       "0.5"
      ]
     },
     "execution_count": 85,
     "metadata": {},
     "output_type": "execute_result"
    }
   ],
   "source": [
    "data[1]"
   ]
  },
  {
   "cell_type": "code",
   "execution_count": 86,
   "metadata": {},
   "outputs": [
    {
     "data": {
      "text/plain": [
       "True"
      ]
     },
     "execution_count": 86,
     "metadata": {},
     "output_type": "execute_result"
    }
   ],
   "source": [
    "'a' in data"
   ]
  },
  {
   "cell_type": "code",
   "execution_count": 87,
   "metadata": {},
   "outputs": [
    {
     "data": {
      "text/plain": [
       "Index(['a', 'b', 'c', 'd'], dtype='object')"
      ]
     },
     "execution_count": 87,
     "metadata": {},
     "output_type": "execute_result"
    }
   ],
   "source": [
    "data.keys()"
   ]
  },
  {
   "cell_type": "code",
   "execution_count": 88,
   "metadata": {},
   "outputs": [
    {
     "data": {
      "text/plain": [
       "[('a', 0.25), ('b', 0.5), ('c', 0.75), ('d', 1.0)]"
      ]
     },
     "execution_count": 88,
     "metadata": {},
     "output_type": "execute_result"
    }
   ],
   "source": [
    "list(data.items())"
   ]
  },
  {
   "cell_type": "code",
   "execution_count": 89,
   "metadata": {},
   "outputs": [
    {
     "data": {
      "text/plain": [
       "a    0.25\n",
       "b    0.50\n",
       "c    0.75\n",
       "d    1.00\n",
       "e    1.25\n",
       "dtype: float64"
      ]
     },
     "execution_count": 89,
     "metadata": {},
     "output_type": "execute_result"
    }
   ],
   "source": [
    "data['e']=1.25\n",
    "data"
   ]
  },
  {
   "cell_type": "code",
   "execution_count": 90,
   "metadata": {},
   "outputs": [
    {
     "data": {
      "text/plain": [
       "a    0.25\n",
       "b    0.50\n",
       "c    0.75\n",
       "dtype: float64"
      ]
     },
     "execution_count": 90,
     "metadata": {},
     "output_type": "execute_result"
    }
   ],
   "source": [
    "data['a':'c']"
   ]
  },
  {
   "cell_type": "code",
   "execution_count": 91,
   "metadata": {},
   "outputs": [
    {
     "data": {
      "text/plain": [
       "a    0.25\n",
       "b    0.50\n",
       "dtype: float64"
      ]
     },
     "execution_count": 91,
     "metadata": {},
     "output_type": "execute_result"
    }
   ],
   "source": [
    "data[0:2]"
   ]
  },
  {
   "cell_type": "code",
   "execution_count": 92,
   "metadata": {},
   "outputs": [
    {
     "data": {
      "text/plain": [
       "b    0.50\n",
       "c    0.75\n",
       "dtype: float64"
      ]
     },
     "execution_count": 92,
     "metadata": {},
     "output_type": "execute_result"
    }
   ],
   "source": [
    "data[(data>0.3) & (data < 0.8)]"
   ]
  },
  {
   "cell_type": "code",
   "execution_count": 94,
   "metadata": {},
   "outputs": [
    {
     "data": {
      "text/plain": [
       "a    0.25\n",
       "e    1.25\n",
       "dtype: float64"
      ]
     },
     "execution_count": 94,
     "metadata": {},
     "output_type": "execute_result"
    }
   ],
   "source": [
    "data[['a','e']]"
   ]
  },
  {
   "cell_type": "code",
   "execution_count": 95,
   "metadata": {},
   "outputs": [
    {
     "data": {
      "text/plain": [
       "1    a\n",
       "3    b\n",
       "5    c\n",
       "dtype: object"
      ]
     },
     "execution_count": 95,
     "metadata": {},
     "output_type": "execute_result"
    }
   ],
   "source": [
    "data = pd.Series(['a','b','c'], index=[1,3,5])\n",
    "data"
   ]
  },
  {
   "cell_type": "code",
   "execution_count": 96,
   "metadata": {},
   "outputs": [
    {
     "data": {
      "text/plain": [
       "3    b\n",
       "5    c\n",
       "dtype: object"
      ]
     },
     "execution_count": 96,
     "metadata": {},
     "output_type": "execute_result"
    }
   ],
   "source": [
    "data[1:3]"
   ]
  },
  {
   "cell_type": "code",
   "execution_count": 97,
   "metadata": {},
   "outputs": [
    {
     "data": {
      "text/plain": [
       "'a'"
      ]
     },
     "execution_count": 97,
     "metadata": {},
     "output_type": "execute_result"
    }
   ],
   "source": [
    "data.loc[1] # 키"
   ]
  },
  {
   "cell_type": "code",
   "execution_count": 98,
   "metadata": {},
   "outputs": [
    {
     "data": {
      "text/plain": [
       "1    a\n",
       "3    b\n",
       "dtype: object"
      ]
     },
     "execution_count": 98,
     "metadata": {},
     "output_type": "execute_result"
    }
   ],
   "source": [
    "data.loc[1:3]"
   ]
  },
  {
   "cell_type": "code",
   "execution_count": 99,
   "metadata": {},
   "outputs": [
    {
     "data": {
      "text/plain": [
       "'b'"
      ]
     },
     "execution_count": 99,
     "metadata": {},
     "output_type": "execute_result"
    }
   ],
   "source": [
    "data.iloc[1] # 인덱스"
   ]
  },
  {
   "cell_type": "code",
   "execution_count": 140,
   "metadata": {},
   "outputs": [
    {
     "data": {
      "text/html": [
       "<div>\n",
       "<style scoped>\n",
       "    .dataframe tbody tr th:only-of-type {\n",
       "        vertical-align: middle;\n",
       "    }\n",
       "\n",
       "    .dataframe tbody tr th {\n",
       "        vertical-align: top;\n",
       "    }\n",
       "\n",
       "    .dataframe thead th {\n",
       "        text-align: right;\n",
       "    }\n",
       "</style>\n",
       "<table border=\"1\" class=\"dataframe\">\n",
       "  <thead>\n",
       "    <tr style=\"text-align: right;\">\n",
       "      <th></th>\n",
       "      <th>area</th>\n",
       "      <th>pop</th>\n",
       "    </tr>\n",
       "  </thead>\n",
       "  <tbody>\n",
       "    <tr>\n",
       "      <th>California</th>\n",
       "      <td>423967</td>\n",
       "      <td>38332521</td>\n",
       "    </tr>\n",
       "    <tr>\n",
       "      <th>Texas</th>\n",
       "      <td>695662</td>\n",
       "      <td>26448193</td>\n",
       "    </tr>\n",
       "    <tr>\n",
       "      <th>New York</th>\n",
       "      <td>141297</td>\n",
       "      <td>19651127</td>\n",
       "    </tr>\n",
       "    <tr>\n",
       "      <th>Florida</th>\n",
       "      <td>170312</td>\n",
       "      <td>19552860</td>\n",
       "    </tr>\n",
       "    <tr>\n",
       "      <th>Illinois</th>\n",
       "      <td>149995</td>\n",
       "      <td>12882135</td>\n",
       "    </tr>\n",
       "  </tbody>\n",
       "</table>\n",
       "</div>"
      ],
      "text/plain": [
       "              area       pop\n",
       "California  423967  38332521\n",
       "Texas       695662  26448193\n",
       "New York    141297  19651127\n",
       "Florida     170312  19552860\n",
       "Illinois    149995  12882135"
      ]
     },
     "execution_count": 140,
     "metadata": {},
     "output_type": "execute_result"
    }
   ],
   "source": [
    "area = pd.Series({'California': 423967, 'Texas': 695662, 'New York': 141297, 'Florida': 170312, 'Illinois': 149995})\n",
    "pop = pd.Series({'California': 38332521, 'Texas': 26448193, 'New York': 19651127, 'Florida': 19552860, 'Illinois': 12882135})\n",
    "data = pd.DataFrame({'area': area, 'pop': pop})\n",
    "data"
   ]
  },
  {
   "cell_type": "code",
   "execution_count": 141,
   "metadata": {},
   "outputs": [
    {
     "data": {
      "text/plain": [
       "California    423967\n",
       "Texas         695662\n",
       "New York      141297\n",
       "Florida       170312\n",
       "Illinois      149995\n",
       "Name: area, dtype: int64"
      ]
     },
     "execution_count": 141,
     "metadata": {},
     "output_type": "execute_result"
    }
   ],
   "source": [
    "data['area']"
   ]
  },
  {
   "cell_type": "code",
   "execution_count": 142,
   "metadata": {},
   "outputs": [
    {
     "data": {
      "text/plain": [
       "California    423967\n",
       "Texas         695662\n",
       "New York      141297\n",
       "Florida       170312\n",
       "Illinois      149995\n",
       "Name: area, dtype: int64"
      ]
     },
     "execution_count": 142,
     "metadata": {},
     "output_type": "execute_result"
    }
   ],
   "source": [
    "data.area"
   ]
  },
  {
   "cell_type": "code",
   "execution_count": 143,
   "metadata": {},
   "outputs": [
    {
     "data": {
      "text/html": [
       "<div>\n",
       "<style scoped>\n",
       "    .dataframe tbody tr th:only-of-type {\n",
       "        vertical-align: middle;\n",
       "    }\n",
       "\n",
       "    .dataframe tbody tr th {\n",
       "        vertical-align: top;\n",
       "    }\n",
       "\n",
       "    .dataframe thead th {\n",
       "        text-align: right;\n",
       "    }\n",
       "</style>\n",
       "<table border=\"1\" class=\"dataframe\">\n",
       "  <thead>\n",
       "    <tr style=\"text-align: right;\">\n",
       "      <th></th>\n",
       "      <th>area</th>\n",
       "      <th>pop</th>\n",
       "      <th>density</th>\n",
       "    </tr>\n",
       "  </thead>\n",
       "  <tbody>\n",
       "    <tr>\n",
       "      <th>California</th>\n",
       "      <td>423967</td>\n",
       "      <td>38332521</td>\n",
       "      <td>90.413926</td>\n",
       "    </tr>\n",
       "    <tr>\n",
       "      <th>Texas</th>\n",
       "      <td>695662</td>\n",
       "      <td>26448193</td>\n",
       "      <td>38.018740</td>\n",
       "    </tr>\n",
       "    <tr>\n",
       "      <th>New York</th>\n",
       "      <td>141297</td>\n",
       "      <td>19651127</td>\n",
       "      <td>139.076746</td>\n",
       "    </tr>\n",
       "    <tr>\n",
       "      <th>Florida</th>\n",
       "      <td>170312</td>\n",
       "      <td>19552860</td>\n",
       "      <td>114.806121</td>\n",
       "    </tr>\n",
       "    <tr>\n",
       "      <th>Illinois</th>\n",
       "      <td>149995</td>\n",
       "      <td>12882135</td>\n",
       "      <td>85.883763</td>\n",
       "    </tr>\n",
       "  </tbody>\n",
       "</table>\n",
       "</div>"
      ],
      "text/plain": [
       "              area       pop     density\n",
       "California  423967  38332521   90.413926\n",
       "Texas       695662  26448193   38.018740\n",
       "New York    141297  19651127  139.076746\n",
       "Florida     170312  19552860  114.806121\n",
       "Illinois    149995  12882135   85.883763"
      ]
     },
     "execution_count": 143,
     "metadata": {},
     "output_type": "execute_result"
    }
   ],
   "source": [
    "data['density'] = data['pop'] / data['area']\n",
    "data"
   ]
  },
  {
   "cell_type": "code",
   "execution_count": 144,
   "metadata": {},
   "outputs": [
    {
     "data": {
      "text/plain": [
       "array([[4.23967000e+05, 3.83325210e+07, 9.04139261e+01],\n",
       "       [6.95662000e+05, 2.64481930e+07, 3.80187404e+01],\n",
       "       [1.41297000e+05, 1.96511270e+07, 1.39076746e+02],\n",
       "       [1.70312000e+05, 1.95528600e+07, 1.14806121e+02],\n",
       "       [1.49995000e+05, 1.28821350e+07, 8.58837628e+01]])"
      ]
     },
     "execution_count": 144,
     "metadata": {},
     "output_type": "execute_result"
    }
   ],
   "source": [
    "data.values"
   ]
  },
  {
   "cell_type": "code",
   "execution_count": 145,
   "metadata": {},
   "outputs": [
    {
     "data": {
      "text/html": [
       "<div>\n",
       "<style scoped>\n",
       "    .dataframe tbody tr th:only-of-type {\n",
       "        vertical-align: middle;\n",
       "    }\n",
       "\n",
       "    .dataframe tbody tr th {\n",
       "        vertical-align: top;\n",
       "    }\n",
       "\n",
       "    .dataframe thead th {\n",
       "        text-align: right;\n",
       "    }\n",
       "</style>\n",
       "<table border=\"1\" class=\"dataframe\">\n",
       "  <thead>\n",
       "    <tr style=\"text-align: right;\">\n",
       "      <th></th>\n",
       "      <th>California</th>\n",
       "      <th>Texas</th>\n",
       "      <th>New York</th>\n",
       "      <th>Florida</th>\n",
       "      <th>Illinois</th>\n",
       "    </tr>\n",
       "  </thead>\n",
       "  <tbody>\n",
       "    <tr>\n",
       "      <th>area</th>\n",
       "      <td>4.239670e+05</td>\n",
       "      <td>6.956620e+05</td>\n",
       "      <td>1.412970e+05</td>\n",
       "      <td>1.703120e+05</td>\n",
       "      <td>1.499950e+05</td>\n",
       "    </tr>\n",
       "    <tr>\n",
       "      <th>pop</th>\n",
       "      <td>3.833252e+07</td>\n",
       "      <td>2.644819e+07</td>\n",
       "      <td>1.965113e+07</td>\n",
       "      <td>1.955286e+07</td>\n",
       "      <td>1.288214e+07</td>\n",
       "    </tr>\n",
       "    <tr>\n",
       "      <th>density</th>\n",
       "      <td>9.041393e+01</td>\n",
       "      <td>3.801874e+01</td>\n",
       "      <td>1.390767e+02</td>\n",
       "      <td>1.148061e+02</td>\n",
       "      <td>8.588376e+01</td>\n",
       "    </tr>\n",
       "  </tbody>\n",
       "</table>\n",
       "</div>"
      ],
      "text/plain": [
       "           California         Texas      New York       Florida      Illinois\n",
       "area     4.239670e+05  6.956620e+05  1.412970e+05  1.703120e+05  1.499950e+05\n",
       "pop      3.833252e+07  2.644819e+07  1.965113e+07  1.955286e+07  1.288214e+07\n",
       "density  9.041393e+01  3.801874e+01  1.390767e+02  1.148061e+02  8.588376e+01"
      ]
     },
     "execution_count": 145,
     "metadata": {},
     "output_type": "execute_result"
    }
   ],
   "source": [
    "data.T"
   ]
  },
  {
   "cell_type": "code",
   "execution_count": 146,
   "metadata": {},
   "outputs": [
    {
     "data": {
      "text/html": [
       "<div>\n",
       "<style scoped>\n",
       "    .dataframe tbody tr th:only-of-type {\n",
       "        vertical-align: middle;\n",
       "    }\n",
       "\n",
       "    .dataframe tbody tr th {\n",
       "        vertical-align: top;\n",
       "    }\n",
       "\n",
       "    .dataframe thead th {\n",
       "        text-align: right;\n",
       "    }\n",
       "</style>\n",
       "<table border=\"1\" class=\"dataframe\">\n",
       "  <thead>\n",
       "    <tr style=\"text-align: right;\">\n",
       "      <th></th>\n",
       "      <th>area</th>\n",
       "      <th>pop</th>\n",
       "    </tr>\n",
       "  </thead>\n",
       "  <tbody>\n",
       "    <tr>\n",
       "      <th>California</th>\n",
       "      <td>423967</td>\n",
       "      <td>38332521</td>\n",
       "    </tr>\n",
       "    <tr>\n",
       "      <th>Texas</th>\n",
       "      <td>695662</td>\n",
       "      <td>26448193</td>\n",
       "    </tr>\n",
       "    <tr>\n",
       "      <th>New York</th>\n",
       "      <td>141297</td>\n",
       "      <td>19651127</td>\n",
       "    </tr>\n",
       "  </tbody>\n",
       "</table>\n",
       "</div>"
      ],
      "text/plain": [
       "              area       pop\n",
       "California  423967  38332521\n",
       "Texas       695662  26448193\n",
       "New York    141297  19651127"
      ]
     },
     "execution_count": 146,
     "metadata": {},
     "output_type": "execute_result"
    }
   ],
   "source": [
    "data.iloc[:3,:2]"
   ]
  },
  {
   "cell_type": "code",
   "execution_count": 147,
   "metadata": {},
   "outputs": [
    {
     "data": {
      "text/html": [
       "<div>\n",
       "<style scoped>\n",
       "    .dataframe tbody tr th:only-of-type {\n",
       "        vertical-align: middle;\n",
       "    }\n",
       "\n",
       "    .dataframe tbody tr th {\n",
       "        vertical-align: top;\n",
       "    }\n",
       "\n",
       "    .dataframe thead th {\n",
       "        text-align: right;\n",
       "    }\n",
       "</style>\n",
       "<table border=\"1\" class=\"dataframe\">\n",
       "  <thead>\n",
       "    <tr style=\"text-align: right;\">\n",
       "      <th></th>\n",
       "      <th>area</th>\n",
       "      <th>pop</th>\n",
       "    </tr>\n",
       "  </thead>\n",
       "  <tbody>\n",
       "    <tr>\n",
       "      <th>California</th>\n",
       "      <td>423967</td>\n",
       "      <td>38332521</td>\n",
       "    </tr>\n",
       "    <tr>\n",
       "      <th>Texas</th>\n",
       "      <td>695662</td>\n",
       "      <td>26448193</td>\n",
       "    </tr>\n",
       "    <tr>\n",
       "      <th>New York</th>\n",
       "      <td>141297</td>\n",
       "      <td>19651127</td>\n",
       "    </tr>\n",
       "    <tr>\n",
       "      <th>Florida</th>\n",
       "      <td>170312</td>\n",
       "      <td>19552860</td>\n",
       "    </tr>\n",
       "    <tr>\n",
       "      <th>Illinois</th>\n",
       "      <td>149995</td>\n",
       "      <td>12882135</td>\n",
       "    </tr>\n",
       "  </tbody>\n",
       "</table>\n",
       "</div>"
      ],
      "text/plain": [
       "              area       pop\n",
       "California  423967  38332521\n",
       "Texas       695662  26448193\n",
       "New York    141297  19651127\n",
       "Florida     170312  19552860\n",
       "Illinois    149995  12882135"
      ]
     },
     "execution_count": 147,
     "metadata": {},
     "output_type": "execute_result"
    }
   ],
   "source": [
    "data.loc[:'Illinois', :'pop']"
   ]
  },
  {
   "cell_type": "code",
   "execution_count": 148,
   "metadata": {},
   "outputs": [],
   "source": [
    "# 문제 density가 100보다 큰 pop, density열을 출력하시오\n",
    "# 0번행 2번열의 값을 90으로 변경해보시오"
   ]
  },
  {
   "cell_type": "code",
   "execution_count": 151,
   "metadata": {},
   "outputs": [
    {
     "data": {
      "text/html": [
       "<div>\n",
       "<style scoped>\n",
       "    .dataframe tbody tr th:only-of-type {\n",
       "        vertical-align: middle;\n",
       "    }\n",
       "\n",
       "    .dataframe tbody tr th {\n",
       "        vertical-align: top;\n",
       "    }\n",
       "\n",
       "    .dataframe thead th {\n",
       "        text-align: right;\n",
       "    }\n",
       "</style>\n",
       "<table border=\"1\" class=\"dataframe\">\n",
       "  <thead>\n",
       "    <tr style=\"text-align: right;\">\n",
       "      <th></th>\n",
       "      <th>pop</th>\n",
       "      <th>density</th>\n",
       "    </tr>\n",
       "  </thead>\n",
       "  <tbody>\n",
       "    <tr>\n",
       "      <th>New York</th>\n",
       "      <td>19651127</td>\n",
       "      <td>139.076746</td>\n",
       "    </tr>\n",
       "    <tr>\n",
       "      <th>Florida</th>\n",
       "      <td>19552860</td>\n",
       "      <td>114.806121</td>\n",
       "    </tr>\n",
       "  </tbody>\n",
       "</table>\n",
       "</div>"
      ],
      "text/plain": [
       "               pop     density\n",
       "New York  19651127  139.076746\n",
       "Florida   19552860  114.806121"
      ]
     },
     "execution_count": 151,
     "metadata": {},
     "output_type": "execute_result"
    }
   ],
   "source": [
    "data.loc[data['density']> 100,'pop':]"
   ]
  },
  {
   "cell_type": "code",
   "execution_count": 153,
   "metadata": {},
   "outputs": [],
   "source": [
    "data.iloc[0,2]=90"
   ]
  },
  {
   "cell_type": "code",
   "execution_count": 154,
   "metadata": {},
   "outputs": [
    {
     "data": {
      "text/html": [
       "<div>\n",
       "<style scoped>\n",
       "    .dataframe tbody tr th:only-of-type {\n",
       "        vertical-align: middle;\n",
       "    }\n",
       "\n",
       "    .dataframe tbody tr th {\n",
       "        vertical-align: top;\n",
       "    }\n",
       "\n",
       "    .dataframe thead th {\n",
       "        text-align: right;\n",
       "    }\n",
       "</style>\n",
       "<table border=\"1\" class=\"dataframe\">\n",
       "  <thead>\n",
       "    <tr style=\"text-align: right;\">\n",
       "      <th></th>\n",
       "      <th>area</th>\n",
       "      <th>pop</th>\n",
       "      <th>density</th>\n",
       "    </tr>\n",
       "  </thead>\n",
       "  <tbody>\n",
       "    <tr>\n",
       "      <th>California</th>\n",
       "      <td>423967</td>\n",
       "      <td>38332521</td>\n",
       "      <td>90.000000</td>\n",
       "    </tr>\n",
       "    <tr>\n",
       "      <th>Texas</th>\n",
       "      <td>695662</td>\n",
       "      <td>26448193</td>\n",
       "      <td>38.018740</td>\n",
       "    </tr>\n",
       "    <tr>\n",
       "      <th>New York</th>\n",
       "      <td>141297</td>\n",
       "      <td>19651127</td>\n",
       "      <td>139.076746</td>\n",
       "    </tr>\n",
       "    <tr>\n",
       "      <th>Florida</th>\n",
       "      <td>170312</td>\n",
       "      <td>19552860</td>\n",
       "      <td>114.806121</td>\n",
       "    </tr>\n",
       "    <tr>\n",
       "      <th>Illinois</th>\n",
       "      <td>149995</td>\n",
       "      <td>12882135</td>\n",
       "      <td>85.883763</td>\n",
       "    </tr>\n",
       "  </tbody>\n",
       "</table>\n",
       "</div>"
      ],
      "text/plain": [
       "              area       pop     density\n",
       "California  423967  38332521   90.000000\n",
       "Texas       695662  26448193   38.018740\n",
       "New York    141297  19651127  139.076746\n",
       "Florida     170312  19552860  114.806121\n",
       "Illinois    149995  12882135   85.883763"
      ]
     },
     "execution_count": 154,
     "metadata": {},
     "output_type": "execute_result"
    }
   ],
   "source": [
    "data"
   ]
  },
  {
   "cell_type": "code",
   "execution_count": 3,
   "metadata": {},
   "outputs": [],
   "source": [
    "import pandas as pd\n",
    "import numpy as np\n",
    "data1 = {'state': ['경기', '강원', '서울', '충북', '인천'], 'year':[2000,2001,2002,2001,2002],'pop':[1.5,1.7,3.6,2.4,2.9]}\n",
    "\n",
    "# 1)위의 데이터를 데이터 프레임으로 생성 인덱스는 one two three four five\n",
    "# 2)state만 출력\n",
    "# 3)debt 열 추가 하고 모든값 16.5\n",
    "# 4)파생변수 'estern'에 주소가 서울인가를 따져 서울이면 True 아니면 False를 입력\n",
    "# 5)debt열에 대하여 (-1.2, -1.5, -1.7) index=['two','four','five']로 된 시리즈를 만들고 대체\n",
    "# 합계 출력\n",
    "# 모든행의 데이터 설명"
   ]
  },
  {
   "cell_type": "code",
   "execution_count": 4,
   "metadata": {},
   "outputs": [
    {
     "data": {
      "text/html": [
       "<div>\n",
       "<style scoped>\n",
       "    .dataframe tbody tr th:only-of-type {\n",
       "        vertical-align: middle;\n",
       "    }\n",
       "\n",
       "    .dataframe tbody tr th {\n",
       "        vertical-align: top;\n",
       "    }\n",
       "\n",
       "    .dataframe thead th {\n",
       "        text-align: right;\n",
       "    }\n",
       "</style>\n",
       "<table border=\"1\" class=\"dataframe\">\n",
       "  <thead>\n",
       "    <tr style=\"text-align: right;\">\n",
       "      <th></th>\n",
       "      <th>state</th>\n",
       "      <th>year</th>\n",
       "      <th>pop</th>\n",
       "    </tr>\n",
       "  </thead>\n",
       "  <tbody>\n",
       "    <tr>\n",
       "      <th>one</th>\n",
       "      <td>경기</td>\n",
       "      <td>2000</td>\n",
       "      <td>1.5</td>\n",
       "    </tr>\n",
       "    <tr>\n",
       "      <th>two</th>\n",
       "      <td>강원</td>\n",
       "      <td>2001</td>\n",
       "      <td>1.7</td>\n",
       "    </tr>\n",
       "    <tr>\n",
       "      <th>three</th>\n",
       "      <td>서울</td>\n",
       "      <td>2002</td>\n",
       "      <td>3.6</td>\n",
       "    </tr>\n",
       "    <tr>\n",
       "      <th>four</th>\n",
       "      <td>충북</td>\n",
       "      <td>2001</td>\n",
       "      <td>2.4</td>\n",
       "    </tr>\n",
       "    <tr>\n",
       "      <th>five</th>\n",
       "      <td>인천</td>\n",
       "      <td>2002</td>\n",
       "      <td>2.9</td>\n",
       "    </tr>\n",
       "  </tbody>\n",
       "</table>\n",
       "</div>"
      ],
      "text/plain": [
       "      state  year  pop\n",
       "one      경기  2000  1.5\n",
       "two      강원  2001  1.7\n",
       "three    서울  2002  3.6\n",
       "four     충북  2001  2.4\n",
       "five     인천  2002  2.9"
      ]
     },
     "execution_count": 4,
     "metadata": {},
     "output_type": "execute_result"
    }
   ],
   "source": [
    "data1=pd.DataFrame(data1,index=['one','two','three','four','five'])\n",
    "data1"
   ]
  },
  {
   "cell_type": "code",
   "execution_count": 5,
   "metadata": {},
   "outputs": [
    {
     "data": {
      "text/plain": [
       "one      경기\n",
       "two      강원\n",
       "three    서울\n",
       "four     충북\n",
       "five     인천\n",
       "Name: state, dtype: object"
      ]
     },
     "execution_count": 5,
     "metadata": {},
     "output_type": "execute_result"
    }
   ],
   "source": [
    "data1['state']"
   ]
  },
  {
   "cell_type": "code",
   "execution_count": 6,
   "metadata": {},
   "outputs": [
    {
     "data": {
      "text/html": [
       "<div>\n",
       "<style scoped>\n",
       "    .dataframe tbody tr th:only-of-type {\n",
       "        vertical-align: middle;\n",
       "    }\n",
       "\n",
       "    .dataframe tbody tr th {\n",
       "        vertical-align: top;\n",
       "    }\n",
       "\n",
       "    .dataframe thead th {\n",
       "        text-align: right;\n",
       "    }\n",
       "</style>\n",
       "<table border=\"1\" class=\"dataframe\">\n",
       "  <thead>\n",
       "    <tr style=\"text-align: right;\">\n",
       "      <th></th>\n",
       "      <th>state</th>\n",
       "      <th>year</th>\n",
       "      <th>pop</th>\n",
       "      <th>debt</th>\n",
       "    </tr>\n",
       "  </thead>\n",
       "  <tbody>\n",
       "    <tr>\n",
       "      <th>one</th>\n",
       "      <td>경기</td>\n",
       "      <td>2000</td>\n",
       "      <td>1.5</td>\n",
       "      <td>16.5</td>\n",
       "    </tr>\n",
       "    <tr>\n",
       "      <th>two</th>\n",
       "      <td>강원</td>\n",
       "      <td>2001</td>\n",
       "      <td>1.7</td>\n",
       "      <td>16.5</td>\n",
       "    </tr>\n",
       "    <tr>\n",
       "      <th>three</th>\n",
       "      <td>서울</td>\n",
       "      <td>2002</td>\n",
       "      <td>3.6</td>\n",
       "      <td>16.5</td>\n",
       "    </tr>\n",
       "    <tr>\n",
       "      <th>four</th>\n",
       "      <td>충북</td>\n",
       "      <td>2001</td>\n",
       "      <td>2.4</td>\n",
       "      <td>16.5</td>\n",
       "    </tr>\n",
       "    <tr>\n",
       "      <th>five</th>\n",
       "      <td>인천</td>\n",
       "      <td>2002</td>\n",
       "      <td>2.9</td>\n",
       "      <td>16.5</td>\n",
       "    </tr>\n",
       "  </tbody>\n",
       "</table>\n",
       "</div>"
      ],
      "text/plain": [
       "      state  year  pop  debt\n",
       "one      경기  2000  1.5  16.5\n",
       "two      강원  2001  1.7  16.5\n",
       "three    서울  2002  3.6  16.5\n",
       "four     충북  2001  2.4  16.5\n",
       "five     인천  2002  2.9  16.5"
      ]
     },
     "execution_count": 6,
     "metadata": {},
     "output_type": "execute_result"
    }
   ],
   "source": [
    "data1.loc[:,'debt']= [16.5,16.5,16.5,16.5,16.5]\n",
    "data1"
   ]
  },
  {
   "cell_type": "code",
   "execution_count": 7,
   "metadata": {},
   "outputs": [
    {
     "data": {
      "text/html": [
       "<div>\n",
       "<style scoped>\n",
       "    .dataframe tbody tr th:only-of-type {\n",
       "        vertical-align: middle;\n",
       "    }\n",
       "\n",
       "    .dataframe tbody tr th {\n",
       "        vertical-align: top;\n",
       "    }\n",
       "\n",
       "    .dataframe thead th {\n",
       "        text-align: right;\n",
       "    }\n",
       "</style>\n",
       "<table border=\"1\" class=\"dataframe\">\n",
       "  <thead>\n",
       "    <tr style=\"text-align: right;\">\n",
       "      <th></th>\n",
       "      <th>state</th>\n",
       "      <th>year</th>\n",
       "      <th>pop</th>\n",
       "      <th>debt</th>\n",
       "      <th>estern</th>\n",
       "    </tr>\n",
       "  </thead>\n",
       "  <tbody>\n",
       "    <tr>\n",
       "      <th>one</th>\n",
       "      <td>경기</td>\n",
       "      <td>2000</td>\n",
       "      <td>1.5</td>\n",
       "      <td>16.5</td>\n",
       "      <td>False</td>\n",
       "    </tr>\n",
       "    <tr>\n",
       "      <th>two</th>\n",
       "      <td>강원</td>\n",
       "      <td>2001</td>\n",
       "      <td>1.7</td>\n",
       "      <td>16.5</td>\n",
       "      <td>False</td>\n",
       "    </tr>\n",
       "    <tr>\n",
       "      <th>three</th>\n",
       "      <td>서울</td>\n",
       "      <td>2002</td>\n",
       "      <td>3.6</td>\n",
       "      <td>16.5</td>\n",
       "      <td>True</td>\n",
       "    </tr>\n",
       "    <tr>\n",
       "      <th>four</th>\n",
       "      <td>충북</td>\n",
       "      <td>2001</td>\n",
       "      <td>2.4</td>\n",
       "      <td>16.5</td>\n",
       "      <td>False</td>\n",
       "    </tr>\n",
       "    <tr>\n",
       "      <th>five</th>\n",
       "      <td>인천</td>\n",
       "      <td>2002</td>\n",
       "      <td>2.9</td>\n",
       "      <td>16.5</td>\n",
       "      <td>False</td>\n",
       "    </tr>\n",
       "  </tbody>\n",
       "</table>\n",
       "</div>"
      ],
      "text/plain": [
       "      state  year  pop  debt estern\n",
       "one      경기  2000  1.5  16.5  False\n",
       "two      강원  2001  1.7  16.5  False\n",
       "three    서울  2002  3.6  16.5   True\n",
       "four     충북  2001  2.4  16.5  False\n",
       "five     인천  2002  2.9  16.5  False"
      ]
     },
     "execution_count": 7,
     "metadata": {},
     "output_type": "execute_result"
    }
   ],
   "source": [
    "data1['estern'] = np.where(data1['state']=='서울', 'True','False')\n",
    "data1"
   ]
  },
  {
   "cell_type": "code",
   "execution_count": 8,
   "metadata": {},
   "outputs": [
    {
     "name": "stderr",
     "output_type": "stream",
     "text": [
      "<ipython-input-8-30e63783b606>:3: SettingWithCopyWarning: \n",
      "A value is trying to be set on a copy of a slice from a DataFrame\n",
      "\n",
      "See the caveats in the documentation: https://pandas.pydata.org/pandas-docs/stable/user_guide/indexing.html#returning-a-view-versus-a-copy\n",
      "  data1['debt']['one']=16.5\n",
      "<ipython-input-8-30e63783b606>:4: SettingWithCopyWarning: \n",
      "A value is trying to be set on a copy of a slice from a DataFrame\n",
      "\n",
      "See the caveats in the documentation: https://pandas.pydata.org/pandas-docs/stable/user_guide/indexing.html#returning-a-view-versus-a-copy\n",
      "  data1['debt']['three']=16.5\n"
     ]
    },
    {
     "data": {
      "text/html": [
       "<div>\n",
       "<style scoped>\n",
       "    .dataframe tbody tr th:only-of-type {\n",
       "        vertical-align: middle;\n",
       "    }\n",
       "\n",
       "    .dataframe tbody tr th {\n",
       "        vertical-align: top;\n",
       "    }\n",
       "\n",
       "    .dataframe thead th {\n",
       "        text-align: right;\n",
       "    }\n",
       "</style>\n",
       "<table border=\"1\" class=\"dataframe\">\n",
       "  <thead>\n",
       "    <tr style=\"text-align: right;\">\n",
       "      <th></th>\n",
       "      <th>state</th>\n",
       "      <th>year</th>\n",
       "      <th>pop</th>\n",
       "      <th>debt</th>\n",
       "      <th>estern</th>\n",
       "    </tr>\n",
       "  </thead>\n",
       "  <tbody>\n",
       "    <tr>\n",
       "      <th>one</th>\n",
       "      <td>경기</td>\n",
       "      <td>2000</td>\n",
       "      <td>1.5</td>\n",
       "      <td>16.5</td>\n",
       "      <td>False</td>\n",
       "    </tr>\n",
       "    <tr>\n",
       "      <th>two</th>\n",
       "      <td>강원</td>\n",
       "      <td>2001</td>\n",
       "      <td>1.7</td>\n",
       "      <td>-1.2</td>\n",
       "      <td>False</td>\n",
       "    </tr>\n",
       "    <tr>\n",
       "      <th>three</th>\n",
       "      <td>서울</td>\n",
       "      <td>2002</td>\n",
       "      <td>3.6</td>\n",
       "      <td>16.5</td>\n",
       "      <td>True</td>\n",
       "    </tr>\n",
       "    <tr>\n",
       "      <th>four</th>\n",
       "      <td>충북</td>\n",
       "      <td>2001</td>\n",
       "      <td>2.4</td>\n",
       "      <td>-1.5</td>\n",
       "      <td>False</td>\n",
       "    </tr>\n",
       "    <tr>\n",
       "      <th>five</th>\n",
       "      <td>인천</td>\n",
       "      <td>2002</td>\n",
       "      <td>2.9</td>\n",
       "      <td>-1.7</td>\n",
       "      <td>False</td>\n",
       "    </tr>\n",
       "  </tbody>\n",
       "</table>\n",
       "</div>"
      ],
      "text/plain": [
       "      state  year  pop  debt estern\n",
       "one      경기  2000  1.5  16.5  False\n",
       "two      강원  2001  1.7  -1.2  False\n",
       "three    서울  2002  3.6  16.5   True\n",
       "four     충북  2001  2.4  -1.5  False\n",
       "five     인천  2002  2.9  -1.7  False"
      ]
     },
     "execution_count": 8,
     "metadata": {},
     "output_type": "execute_result"
    }
   ],
   "source": [
    "aaa=pd.Series([-1.2, -1.5, -1.7],index=['two','four','five'])\n",
    "data1['debt']= aaa\n",
    "data1['debt']['one']=16.5\n",
    "data1['debt']['three']=16.5\n",
    "data1"
   ]
  },
  {
   "cell_type": "code",
   "execution_count": 9,
   "metadata": {},
   "outputs": [
    {
     "data": {
      "text/plain": [
       "state                   경기강원서울충북인천\n",
       "year                         10006\n",
       "pop                           12.1\n",
       "debt                          28.6\n",
       "estern    FalseFalseTrueFalseFalse\n",
       "dtype: object"
      ]
     },
     "execution_count": 9,
     "metadata": {},
     "output_type": "execute_result"
    }
   ],
   "source": [
    "data1.sum()"
   ]
  },
  {
   "cell_type": "code",
   "execution_count": 231,
   "metadata": {},
   "outputs": [
    {
     "name": "stdout",
     "output_type": "stream",
     "text": [
      "      count         mean       std     min     25%     50%      75%     max\n",
      "year    5.0  2001.200000  0.836660  2000.0  2001.0  2001.0  2002.00  2002.0\n",
      "pop     5.0     2.420000  0.864292     1.5     1.7     2.4     2.90     3.6\n",
      "debt    3.0    -1.466667  0.251661    -1.7    -1.6    -1.5    -1.35    -1.2\n",
      "서울    1\n",
      "경기    1\n",
      "인천    1\n",
      "강원    1\n",
      "충북    1\n",
      "Name: state, dtype: int64\n"
     ]
    }
   ],
   "source": [
    "print(data1.describe().T)\n",
    "print(data1.state.value_counts())"
   ]
  },
  {
   "cell_type": "code",
   "execution_count": null,
   "metadata": {},
   "outputs": [],
   "source": [
    "- 문제 다음 데이터를 데이터프레임에 저장하시요\n",
    "-        지역  2018    2017    2016    2015       2015-2018 증가율\n",
    "- 서울 수도권  9904312 9631482 9762546 9853972    0.0283\n",
    "- 부산 경상권  3448737 3393191 3512547 3655437    0.0163\n",
    "- 인천 수도권  2890451 2632035 2517680 2466338    0.0982\n",
    "- 대구 경상권  2466052 2431774 2456016 2473990    0.0141 "
   ]
  },
  {
   "cell_type": "code",
   "execution_count": 19,
   "metadata": {},
   "outputs": [
    {
     "data": {
      "text/html": [
       "<div>\n",
       "<style scoped>\n",
       "    .dataframe tbody tr th:only-of-type {\n",
       "        vertical-align: middle;\n",
       "    }\n",
       "\n",
       "    .dataframe tbody tr th {\n",
       "        vertical-align: top;\n",
       "    }\n",
       "\n",
       "    .dataframe thead th {\n",
       "        text-align: right;\n",
       "    }\n",
       "</style>\n",
       "<table border=\"1\" class=\"dataframe\">\n",
       "  <thead>\n",
       "    <tr style=\"text-align: right;\">\n",
       "      <th></th>\n",
       "      <th>지역</th>\n",
       "      <th>2018</th>\n",
       "      <th>2017</th>\n",
       "      <th>2016</th>\n",
       "      <th>2015</th>\n",
       "      <th>2015-2018 증가율</th>\n",
       "    </tr>\n",
       "  </thead>\n",
       "  <tbody>\n",
       "    <tr>\n",
       "      <th>서울</th>\n",
       "      <td>수도권</td>\n",
       "      <td>9904312</td>\n",
       "      <td>9631482</td>\n",
       "      <td>9762546</td>\n",
       "      <td>9853972</td>\n",
       "      <td>0.0283</td>\n",
       "    </tr>\n",
       "    <tr>\n",
       "      <th>부산</th>\n",
       "      <td>경상권</td>\n",
       "      <td>3448737</td>\n",
       "      <td>3393191</td>\n",
       "      <td>3512547</td>\n",
       "      <td>3655437</td>\n",
       "      <td>0.0163</td>\n",
       "    </tr>\n",
       "    <tr>\n",
       "      <th>인천</th>\n",
       "      <td>수도권</td>\n",
       "      <td>2890451</td>\n",
       "      <td>2632035</td>\n",
       "      <td>2517680</td>\n",
       "      <td>2466338</td>\n",
       "      <td>0.0982</td>\n",
       "    </tr>\n",
       "    <tr>\n",
       "      <th>대구</th>\n",
       "      <td>경상권</td>\n",
       "      <td>2466052</td>\n",
       "      <td>2431774</td>\n",
       "      <td>2456016</td>\n",
       "      <td>2473990</td>\n",
       "      <td>0.0141</td>\n",
       "    </tr>\n",
       "  </tbody>\n",
       "</table>\n",
       "</div>"
      ],
      "text/plain": [
       "     지역     2018     2017     2016     2015 2015-2018 증가율\n",
       "서울  수도권  9904312  9631482  9762546  9853972        0.0283\n",
       "부산  경상권  3448737  3393191  3512547  3655437        0.0163\n",
       "인천  수도권  2890451  2632035  2517680  2466338        0.0982\n",
       "대구  경상권  2466052  2431774  2456016  2473990        0.0141"
      ]
     },
     "execution_count": 19,
     "metadata": {},
     "output_type": "execute_result"
    }
   ],
   "source": [
    "ji=pd.DataFrame({'서울': ['수도권',9904312,9631482,9762546,9853972,0.0283],\n",
    "            '부산': ['경상권',3448737,3393191,3512547,3655437,0.0163],\n",
    "            '인천': ['수도권',2890451,2632035,2517680,2466338,0.0982],\n",
    "            '대구': ['경상권',2466052,2431774,2456016,2473990,0.0141]},\n",
    "                index=['지역','2018','2017','2016','2015','2015-2018 증가율'],\n",
    "                columns=[\"서울\",\"부산\",\"인천\",\"대구\"])\n",
    "ji.T"
   ]
  },
  {
   "cell_type": "code",
   "execution_count": 20,
   "metadata": {},
   "outputs": [],
   "source": [
    "ji = ji.T"
   ]
  },
  {
   "cell_type": "code",
   "execution_count": 21,
   "metadata": {},
   "outputs": [
    {
     "data": {
      "text/plain": [
       "지역               object\n",
       "2018             object\n",
       "2017             object\n",
       "2016             object\n",
       "2015             object\n",
       "2015-2018 증가율    object\n",
       "dtype: object"
      ]
     },
     "execution_count": 21,
     "metadata": {},
     "output_type": "execute_result"
    }
   ],
   "source": [
    "ji.dtypes"
   ]
  },
  {
   "cell_type": "code",
   "execution_count": 22,
   "metadata": {},
   "outputs": [],
   "source": [
    "ji['2015']=ji[\"2015\"].astype('float')\n",
    "ji['2016']=ji[\"2016\"].astype('float')\n",
    "ji['2017']=ji[\"2017\"].astype('float')\n",
    "ji['2018']=ji[\"2018\"].astype('float')"
   ]
  },
  {
   "cell_type": "code",
   "execution_count": 23,
   "metadata": {},
   "outputs": [
    {
     "data": {
      "text/html": [
       "<div>\n",
       "<style scoped>\n",
       "    .dataframe tbody tr th:only-of-type {\n",
       "        vertical-align: middle;\n",
       "    }\n",
       "\n",
       "    .dataframe tbody tr th {\n",
       "        vertical-align: top;\n",
       "    }\n",
       "\n",
       "    .dataframe thead th {\n",
       "        text-align: right;\n",
       "    }\n",
       "</style>\n",
       "<table border=\"1\" class=\"dataframe\">\n",
       "  <thead>\n",
       "    <tr style=\"text-align: right;\">\n",
       "      <th></th>\n",
       "      <th>지역</th>\n",
       "      <th>2018</th>\n",
       "      <th>2017</th>\n",
       "      <th>2016</th>\n",
       "      <th>2015</th>\n",
       "      <th>2015-2018 증가율</th>\n",
       "      <th>2015-2017 증가율</th>\n",
       "    </tr>\n",
       "  </thead>\n",
       "  <tbody>\n",
       "    <tr>\n",
       "      <th>서울</th>\n",
       "      <td>수도권</td>\n",
       "      <td>9904312.0</td>\n",
       "      <td>9631482.0</td>\n",
       "      <td>9762546.0</td>\n",
       "      <td>9853972.0</td>\n",
       "      <td>0.0283</td>\n",
       "      <td>-2.26</td>\n",
       "    </tr>\n",
       "    <tr>\n",
       "      <th>부산</th>\n",
       "      <td>경상권</td>\n",
       "      <td>3448737.0</td>\n",
       "      <td>3393191.0</td>\n",
       "      <td>3512547.0</td>\n",
       "      <td>3655437.0</td>\n",
       "      <td>0.0163</td>\n",
       "      <td>-7.17</td>\n",
       "    </tr>\n",
       "    <tr>\n",
       "      <th>인천</th>\n",
       "      <td>수도권</td>\n",
       "      <td>2890451.0</td>\n",
       "      <td>2632035.0</td>\n",
       "      <td>2517680.0</td>\n",
       "      <td>2466338.0</td>\n",
       "      <td>0.0982</td>\n",
       "      <td>6.72</td>\n",
       "    </tr>\n",
       "    <tr>\n",
       "      <th>대구</th>\n",
       "      <td>경상권</td>\n",
       "      <td>2466052.0</td>\n",
       "      <td>2431774.0</td>\n",
       "      <td>2456016.0</td>\n",
       "      <td>2473990.0</td>\n",
       "      <td>0.0141</td>\n",
       "      <td>-1.71</td>\n",
       "    </tr>\n",
       "  </tbody>\n",
       "</table>\n",
       "</div>"
      ],
      "text/plain": [
       "     지역       2018       2017       2016       2015 2015-2018 증가율  \\\n",
       "서울  수도권  9904312.0  9631482.0  9762546.0  9853972.0        0.0283   \n",
       "부산  경상권  3448737.0  3393191.0  3512547.0  3655437.0        0.0163   \n",
       "인천  수도권  2890451.0  2632035.0  2517680.0  2466338.0        0.0982   \n",
       "대구  경상권  2466052.0  2431774.0  2456016.0  2473990.0        0.0141   \n",
       "\n",
       "    2015-2017 증가율  \n",
       "서울          -2.26  \n",
       "부산          -7.17  \n",
       "인천           6.72  \n",
       "대구          -1.71  "
      ]
     },
     "execution_count": 23,
     "metadata": {},
     "output_type": "execute_result"
    }
   ],
   "source": [
    "ji[\"2015-2017 증가율\"] = ((ji[\"2017\"] - ji[\"2015\"]) / ji[\"2015\"]*100).round(2)\n",
    "ji"
   ]
  }
 ],
 "metadata": {
  "kernelspec": {
   "display_name": "Python 3",
   "language": "python",
   "name": "python3"
  },
  "language_info": {
   "codemirror_mode": {
    "name": "ipython",
    "version": 3
   },
   "file_extension": ".py",
   "mimetype": "text/x-python",
   "name": "python",
   "nbconvert_exporter": "python",
   "pygments_lexer": "ipython3",
   "version": "3.8.5"
  }
 },
 "nbformat": 4,
 "nbformat_minor": 4
}
