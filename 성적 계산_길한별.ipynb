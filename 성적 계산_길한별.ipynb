{
 "cells": [
  {
   "cell_type": "markdown",
   "metadata": {},
   "source": [
    "# 종합 문제\n",
    "- 성적 계산 프로그램을 함수화\n",
    "메뉴 입력1, 출력2, 계산(합계평균)3, 석차4, 학점5, 종료9"
   ]
  },
  {
   "cell_type": "markdown",
   "metadata": {},
   "source": [
    "# 2021.04.20"
   ]
  },
  {
   "cell_type": "code",
   "execution_count": null,
   "metadata": {},
   "outputs": [],
   "source": [
    "result = []\n",
    "def getinput():\n",
    "    num = input(\"번호를 입력하세요 : \")\n",
    "    name = input(\"이름를 입력하세요 : \")\n",
    "    kor = input(\"국어점수를 입력하세요 : \")\n",
    "    mat = input(\"수학점수를 입력하세요 : \")\n",
    "    eng = input(\"영어점수를 입력하세요 : \")\n",
    "    result.append([num,name,kor,mat,eng,\"\",\"\",\"\",\"\"])"
   ]
  },
  {
   "cell_type": "code",
   "execution_count": 2,
   "metadata": {},
   "outputs": [],
   "source": [
    "def summit():\n",
    "    for n in range(len(result)):\n",
    "        num = result[n][0]\n",
    "        name = result[n][1]\n",
    "        kor = result[n][2]\n",
    "        mat = result[n][3]\n",
    "        eng = result[n][4]\n",
    "        sum1 = result[n][5]\n",
    "        avg = result[n][6]\n",
    "        gd = result[n][7]\n",
    "        ra = result[n][8]\n",
    "        print(num+\"번 \"+name+\"학생의 결과입니다.\")\n",
    "        print(\"국어점수 : \"+kor)\n",
    "        print(\"수학점수 : \"+mat)\n",
    "        print(\"영어점수 : \"+eng)\n",
    "        print(\"합계 : \"+str(sum1))\n",
    "        print(\"평균 : \"+str(avg))\n",
    "        print(\"학점 : \"+str(gd))\n",
    "        print(\"석차 : \"+str(ra))"
   ]
  },
  {
   "cell_type": "code",
   "execution_count": 3,
   "metadata": {},
   "outputs": [],
   "source": [
    "def cal():\n",
    "    for n in range(len(result)):\n",
    "        kor = int(result[n][2])\n",
    "        mat = int(result[n][3])\n",
    "        eng = int(result[n][4])\n",
    "        sum1 = kor+mat+eng\n",
    "        avg = round(sum1/3,2)\n",
    "        \n",
    "        result[n][5]=sum1\n",
    "        result[n][6]=avg"
   ]
  },
  {
   "cell_type": "code",
   "execution_count": 4,
   "metadata": {},
   "outputs": [],
   "source": [
    "def rank():\n",
    "    result.sort(key=lambda x:x[6],reverse=True)\n",
    "    \n",
    "    for n in range(len(result)):\n",
    "        result[n][8]=(n+1)\n",
    "        \n",
    "    result.sort(key=lambda x:x[0])"
   ]
  },
  {
   "cell_type": "code",
   "execution_count": 5,
   "metadata": {},
   "outputs": [],
   "source": [
    "def grade():\n",
    "    for n in range(len(result)):\n",
    "        kor = result[n][2]\n",
    "        mat = result[n][3]\n",
    "        eng = result[n][4]\n",
    "        sum1 = result[n][5]\n",
    "        avg = result[n][6]\n",
    "        if(avg>=90):\n",
    "            gd = \"A학점\"\n",
    "        elif(avg<90)and(avg>=80):\n",
    "            gd = \"B학점\"\n",
    "        elif(avg<80)and(avg>=70):\n",
    "            gd = \"C학점\"\n",
    "        elif(avg<70)and(avg>=60):\n",
    "            gd = \"D학점\"\n",
    "        elif(avg<60)and(avg>=50):\n",
    "            gd = \"E학점\"\n",
    "        else:\n",
    "            gd = \"F학점\"\n",
    "        \n",
    "        result[n][7]=gd"
   ]
  },
  {
   "cell_type": "code",
   "execution_count": 6,
   "metadata": {},
   "outputs": [
    {
     "name": "stdout",
     "output_type": "stream",
     "text": [
      "원하는 작업코드를 입력하세요 (메뉴 입력:1, 출력:2, 계산(합계평균):3, 석차:4, 학점:5, 종료:9)9\n",
      "종료\n"
     ]
    }
   ],
   "source": [
    "while True:\n",
    "    a = int(input(\"원하는 작업코드를 입력하세요 (메뉴 입력:1, 출력:2, 계산(합계평균):3, 석차:4, 학점:5, 종료:9)\"))\n",
    "    if a==1:\n",
    "        getinput()\n",
    "    elif a==2:\n",
    "        summit()\n",
    "    elif a==3:\n",
    "        print(\"합계평균 계산완료\")\n",
    "        cal()\n",
    "    elif a==4:\n",
    "        print(\"등수 계산완료\")\n",
    "        rank()\n",
    "    elif a==5:\n",
    "        print(\"학점 계산완료\")\n",
    "        grade()\n",
    "    elif a==9:\n",
    "        print(\"종료\")\n",
    "        break;\n",
    "    else:\n",
    "        print(\"잘못 입력하셨습니다.\")"
   ]
  },
  {
   "cell_type": "code",
   "execution_count": null,
   "metadata": {},
   "outputs": [],
   "source": [
    "# 딕셔너리 타입으로도"
   ]
  },
  {
   "cell_type": "code",
   "execution_count": null,
   "metadata": {},
   "outputs": [],
   "source": []
  },
  {
   "cell_type": "markdown",
   "metadata": {},
   "source": [
    "# 2021.04.21"
   ]
  },
  {
   "cell_type": "code",
   "execution_count": 1,
   "metadata": {},
   "outputs": [],
   "source": [
    "result = []\n",
    "class student:\n",
    "    studCount = 0\n",
    "    def __init__(self, name, kor, eng, mat):\n",
    "        self.name = name\n",
    "        self.kor = int(kor)\n",
    "        self.eng = int(eng)\n",
    "        self.mat = int(mat)\n",
    "        self.tot = self.kor + self.eng + self.mat\n",
    "        self.avg = self.tot / 3\n",
    "        result.append([student.studCount,self.name,self.kor,self.eng,self.mat,self.tot,self.avg])\n",
    "        student.studCount += 1\n",
    "    def __call__(self):\n",
    "        data = [self.name, self.kor, self.eng, self.mat, self.tot, self.avg]\n",
    "        return data\n",
    "    def search():\n",
    "        name=input(\"찾으시는 학생의 이름을 입력하세요\")\n",
    "        for n in range(len(result)):\n",
    "            if result[n][1] == name:\n",
    "                print(result[n][1]+\"님의 국어점수 : %d, 영어점수 : %d, 수학점수 : %d, 합계 : %d, 평균 : %d\" % (result[n][2],result[n][3],result[n][4],result[n][5],result[n][6]))\n",
    "                break;\n",
    "            if n+1 == len(result):\n",
    "                print(\"찾으시는 학생정보가 없습니다.\")\n",
    "    def update():\n",
    "        name=input(\"바꾸려고하는 학생의 이름을 입력하세요\")\n",
    "        for n in range(len(result)):\n",
    "            if result[n][1] == name:\n",
    "                kor=int(input(\"바뀐 국어점수을 입력하세요\"))\n",
    "                eng=int(input(\"바뀐 영어점수을 입력하세요\"))\n",
    "                mat=int(input(\"바뀐 수학점수을 입력하세요\"))\n",
    "                tot = kor + eng + mat\n",
    "                avg = round(tot / 3,2)\n",
    "                result[n][2] = kor\n",
    "                result[n][3] = eng\n",
    "                result[n][4] = mat\n",
    "                result[n][5] = tot\n",
    "                result[n][6] = avg\n",
    "                print(\"수정완료\")\n",
    "                break;\n",
    "            if n+1 == len(result):\n",
    "                return \"찾으시는 학생정보가 없습니다.\"\n",
    "    def delete():\n",
    "        name=input(\"삭제할 학생의 이름을 입력하세요\")\n",
    "        for n in range(len(result)):\n",
    "            if result[n][1] == name:\n",
    "                del result[n]\n",
    "                print(\"삭제완료\")\n",
    "                break;\n",
    "            if n+1 == len(result):\n",
    "                return \"찾으시는 학생정보가 없습니다.\"\n",
    "    def __repr__(self):\n",
    "        for n in range(len(result)):\n",
    "             if result[n][1] == self.name:\n",
    "                return self.name+\"님의 국어점수 : %d, 영어점수 : %d, 수학점수 : %d, 합계 : %d, 평균 : %d\" % (self.kor,self.eng,self.mat,self.tot,self.avg)"
   ]
  },
  {
   "cell_type": "code",
   "execution_count": 2,
   "metadata": {},
   "outputs": [
    {
     "name": "stdout",
     "output_type": "stream",
     "text": [
      "원하는 작업코드를 입력하세요 (메뉴 1.입력, 2.수정, 3.삭제, 4.검색 9.종료)1\n",
      "이름를 입력하세요 : 길한별\n",
      "국어점수를 입력하세요 : 10\n",
      "수학점수를 입력하세요 : 20\n",
      "영어점수를 입력하세요 : 30\n",
      "길한별님의 국어점수 : 10, 영어점수 : 20, 수학점수 : 30, 합계 : 60, 평균 : 20\n",
      "원하는 작업코드를 입력하세요 (메뉴 1.입력, 2.수정, 3.삭제, 4.검색 9.종료)2\n",
      "바꾸려고하는 학생의 이름을 입력하세요길한별\n",
      "바뀐 국어점수을 입력하세요50\n",
      "바뀐 영어점수을 입력하세요80\n",
      "바뀐 수학점수을 입력하세요100\n",
      "수정완료\n",
      "원하는 작업코드를 입력하세요 (메뉴 1.입력, 2.수정, 3.삭제, 4.검색 9.종료)4\n",
      "찾으시는 학생의 이름을 입력하세요길한별\n",
      "길한별님의 국어점수 : 50, 영어점수 : 80, 수학점수 : 100, 합계 : 230, 평균 : 76\n",
      "원하는 작업코드를 입력하세요 (메뉴 1.입력, 2.수정, 3.삭제, 4.검색 9.종료)3\n",
      "삭제할 학생의 이름을 입력하세요길한별\n",
      "삭제완료\n",
      "원하는 작업코드를 입력하세요 (메뉴 1.입력, 2.수정, 3.삭제, 4.검색 9.종료)9\n",
      "종료\n"
     ]
    }
   ],
   "source": [
    "s = student\n",
    "while True:\n",
    "    a = int(input(\"원하는 작업코드를 입력하세요 (메뉴 1.입력, 2.수정, 3.삭제, 4.검색 9.종료)\"))\n",
    "    if a==1:\n",
    "        name = input(\"이름를 입력하세요 : \")\n",
    "        kor = input(\"국어점수를 입력하세요 : \")\n",
    "        mat = input(\"수학점수를 입력하세요 : \")\n",
    "        eng = input(\"영어점수를 입력하세요 : \")\n",
    "        s(name,kor,mat,eng)\n",
    "        print(s(name,kor,mat,eng))\n",
    "    elif a==2:\n",
    "        s.update()\n",
    "    elif a==3:\n",
    "        s.delete()\n",
    "    elif a==4:\n",
    "        s.search()\n",
    "    elif a==9:\n",
    "        print(\"종료\")\n",
    "        break;\n",
    "    else:\n",
    "        print(\"잘못 입력하셨습니다.\")\n",
    "    result"
   ]
  },
  {
   "cell_type": "code",
   "execution_count": null,
   "metadata": {},
   "outputs": [],
   "source": [
    "#중복 체크필요"
   ]
  }
 ],
 "metadata": {
  "kernelspec": {
   "display_name": "Python 3",
   "language": "python",
   "name": "python3"
  },
  "language_info": {
   "codemirror_mode": {
    "name": "ipython",
    "version": 3
   },
   "file_extension": ".py",
   "mimetype": "text/x-python",
   "name": "python",
   "nbconvert_exporter": "python",
   "pygments_lexer": "ipython3",
   "version": "3.8.5"
  }
 },
 "nbformat": 4,
 "nbformat_minor": 4
}
